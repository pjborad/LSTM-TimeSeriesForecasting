{
 "cells": [
  {
   "cell_type": "code",
   "execution_count": 14,
   "metadata": {},
   "outputs": [
    {
     "name": "stdout",
     "output_type": "stream",
     "text": [
      "Requirement already satisfied: pip in c:\\users\\pritesh borad\\anaconda3\\lib\\site-packages (21.2.4)\n",
      "Requirement already satisfied: matplotlib in c:\\users\\pritesh borad\\anaconda3\\lib\\site-packages (3.0.0)\n",
      "Requirement already satisfied: numpy>=1.10.0 in c:\\users\\pritesh borad\\anaconda3\\lib\\site-packages (from matplotlib) (1.19.5)\n",
      "Requirement already satisfied: cycler>=0.10 in c:\\users\\pritesh borad\\anaconda3\\lib\\site-packages (from matplotlib) (0.10.0)\n",
      "Requirement already satisfied: kiwisolver>=1.0.1 in c:\\users\\pritesh borad\\anaconda3\\lib\\site-packages (from matplotlib) (1.0.1)\n",
      "Requirement already satisfied: pyparsing!=2.0.4,!=2.1.2,!=2.1.6,>=2.0.1 in c:\\users\\pritesh borad\\anaconda3\\lib\\site-packages (from matplotlib) (2.2.2)\n",
      "Requirement already satisfied: python-dateutil>=2.1 in c:\\users\\pritesh borad\\anaconda3\\lib\\site-packages (from matplotlib) (2.7.5)\n",
      "Requirement already satisfied: six in c:\\users\\pritesh borad\\anaconda3\\lib\\site-packages (from cycler>=0.10->matplotlib) (1.15.0)\n",
      "Requirement already satisfied: setuptools in c:\\users\\pritesh borad\\anaconda3\\lib\\site-packages (from kiwisolver>=1.0.1->matplotlib) (57.4.0)\n",
      "Requirement already satisfied: numpy in c:\\users\\pritesh borad\\anaconda3\\lib\\site-packages (1.19.5)\n",
      "Collecting datetime\n",
      "  Downloading DateTime-4.3-py2.py3-none-any.whl (60 kB)\n",
      "Requirement already satisfied: zope.interface in c:\\users\\pritesh borad\\anaconda3\\lib\\site-packages (from datetime) (4.6.0)\n",
      "Requirement already satisfied: pytz in c:\\users\\pritesh borad\\anaconda3\\lib\\site-packages (from datetime) (2018.7)\n",
      "Requirement already satisfied: setuptools in c:\\users\\pritesh borad\\anaconda3\\lib\\site-packages (from zope.interface->datetime) (57.4.0)\n",
      "Installing collected packages: datetime\n",
      "Successfully installed datetime-4.3\n",
      "Requirement already satisfied: tensorflow in c:\\users\\pritesh borad\\anaconda3\\lib\\site-packages (1.15.0)\n",
      "Requirement already satisfied: astor>=0.6.0 in c:\\users\\pritesh borad\\anaconda3\\lib\\site-packages (from tensorflow) (0.8.1)\n",
      "Requirement already satisfied: absl-py>=0.7.0 in c:\\users\\pritesh borad\\anaconda3\\lib\\site-packages (from tensorflow) (0.9.0)\n",
      "Requirement already satisfied: grpcio>=1.8.6 in c:\\users\\pritesh borad\\anaconda3\\lib\\site-packages (from tensorflow) (1.28.1)\n",
      "Requirement already satisfied: protobuf>=3.6.1 in c:\\users\\pritesh borad\\anaconda3\\lib\\site-packages (from tensorflow) (3.11.3)\n",
      "Requirement already satisfied: tensorboard<1.16.0,>=1.15.0 in c:\\users\\pritesh borad\\anaconda3\\lib\\site-packages (from tensorflow) (1.15.0)\n",
      "Requirement already satisfied: keras-applications>=1.0.8 in c:\\users\\pritesh borad\\anaconda3\\lib\\site-packages (from tensorflow) (1.0.8)\n",
      "Requirement already satisfied: wrapt>=1.11.1 in c:\\users\\pritesh borad\\anaconda3\\lib\\site-packages (from tensorflow) (1.12.1)\n",
      "Requirement already satisfied: gast==0.2.2 in c:\\users\\pritesh borad\\anaconda3\\lib\\site-packages (from tensorflow) (0.2.2)\n",
      "Requirement already satisfied: opt-einsum>=2.3.2 in c:\\users\\pritesh borad\\anaconda3\\lib\\site-packages (from tensorflow) (3.2.1)\n",
      "Requirement already satisfied: termcolor>=1.1.0 in c:\\users\\pritesh borad\\anaconda3\\lib\\site-packages (from tensorflow) (1.1.0)\n",
      "Requirement already satisfied: wheel>=0.26 in c:\\users\\pritesh borad\\anaconda3\\lib\\site-packages (from tensorflow) (0.37.0)\n",
      "Requirement already satisfied: six>=1.10.0 in c:\\users\\pritesh borad\\anaconda3\\lib\\site-packages (from tensorflow) (1.15.0)\n",
      "Requirement already satisfied: google-pasta>=0.1.6 in c:\\users\\pritesh borad\\anaconda3\\lib\\site-packages (from tensorflow) (0.2.0)\n",
      "Requirement already satisfied: keras-preprocessing>=1.0.5 in c:\\users\\pritesh borad\\anaconda3\\lib\\site-packages (from tensorflow) (1.1.0)\n",
      "Requirement already satisfied: numpy<2.0,>=1.16.0 in c:\\users\\pritesh borad\\anaconda3\\lib\\site-packages (from tensorflow) (1.19.5)\n",
      "Requirement already satisfied: tensorflow-estimator==1.15.1 in c:\\users\\pritesh borad\\anaconda3\\lib\\site-packages (from tensorflow) (1.15.1)\n",
      "Requirement already satisfied: h5py in c:\\users\\pritesh borad\\anaconda3\\lib\\site-packages (from keras-applications>=1.0.8->tensorflow) (2.10.0)\n",
      "Requirement already satisfied: setuptools in c:\\users\\pritesh borad\\anaconda3\\lib\\site-packages (from protobuf>=3.6.1->tensorflow) (57.4.0)\n",
      "Requirement already satisfied: markdown>=2.6.8 in c:\\users\\pritesh borad\\anaconda3\\lib\\site-packages (from tensorboard<1.16.0,>=1.15.0->tensorflow) (3.2.1)\n",
      "Requirement already satisfied: werkzeug>=0.11.15 in c:\\users\\pritesh borad\\anaconda3\\lib\\site-packages (from tensorboard<1.16.0,>=1.15.0->tensorflow) (2.0.1)\n",
      "Requirement already satisfied: dataclasses in c:\\users\\pritesh borad\\anaconda3\\lib\\site-packages (from werkzeug>=0.11.15->tensorboard<1.16.0,>=1.15.0->tensorflow) (0.8)\n",
      "Requirement already satisfied: sklearn in c:\\users\\pritesh borad\\anaconda3\\lib\\site-packages (0.0)\n",
      "Requirement already satisfied: scikit-learn in c:\\users\\pritesh borad\\anaconda3\\lib\\site-packages (from sklearn) (0.20.0)\n",
      "Requirement already satisfied: numpy>=1.8.2 in c:\\users\\pritesh borad\\anaconda3\\lib\\site-packages (from scikit-learn->sklearn) (1.19.5)\n",
      "Requirement already satisfied: scipy>=0.13.3 in c:\\users\\pritesh borad\\anaconda3\\lib\\site-packages (from scikit-learn->sklearn) (1.4.1)\n",
      "Requirement already satisfied: pandas in c:\\users\\pritesh borad\\anaconda3\\lib\\site-packages (1.0.3)\n",
      "Requirement already satisfied: pytz>=2017.2 in c:\\users\\pritesh borad\\anaconda3\\lib\\site-packages (from pandas) (2018.7)\n",
      "Requirement already satisfied: numpy>=1.13.3 in c:\\users\\pritesh borad\\anaconda3\\lib\\site-packages (from pandas) (1.19.5)\n",
      "Requirement already satisfied: python-dateutil>=2.6.1 in c:\\users\\pritesh borad\\anaconda3\\lib\\site-packages (from pandas) (2.7.5)\n",
      "Requirement already satisfied: six>=1.5 in c:\\users\\pritesh borad\\anaconda3\\lib\\site-packages (from python-dateutil>=2.6.1->pandas) (1.15.0)\n"
     ]
    }
   ],
   "source": [
    "! pip install --upgrade pip\n",
    "! pip install matplotlib\n",
    "! pip install numpy\n",
    "! pip install datetime\n",
    "! pip install tensorflow\n",
    "! pip install sklearn\n",
    "! pip install pandas"
   ]
  },
  {
   "cell_type": "code",
   "execution_count": 1,
   "metadata": {},
   "outputs": [],
   "source": [
    "import pandas as pd\n",
    "import matplotlib.pyplot as plt\n",
    "from datetime import time\n",
    "from datetime import datetime"
   ]
  },
  {
   "cell_type": "code",
   "execution_count": 2,
   "metadata": {},
   "outputs": [],
   "source": [
    "\n",
    "df1 = pd.DataFrame(pd.read_csv('BANKNIFTY-Iaa.csv',names=['DATE', 'TIME', 'CLOSE', 'NAN', 'VOLUME'],header=None))\n",
    "df2 = pd.DataFrame(pd.read_csv('BANKNIFTY-Iab.csv',names=['DATE', 'TIME', 'CLOSE', 'NAN', 'VOLUME'],header=None))\n",
    "df3 = pd.DataFrame(pd.read_csv('BANKNIFTY-Iac.csv',names=['DATE', 'TIME', 'CLOSE', 'NAN', 'VOLUME'],header=None))\n",
    "df4 = pd.DataFrame(pd.read_csv('BANKNIFTY-Iad.csv',names=['DATE', 'TIME', 'CLOSE', 'NAN', 'VOLUME'],header=None))\n",
    "df5 = pd.DataFrame(pd.read_csv('BANKNIFTY-Iae.csv',names=['DATE', 'TIME', 'CLOSE', 'NAN', 'VOLUME'],header=None))\n"
   ]
  },
  {
   "cell_type": "code",
   "execution_count": null,
   "metadata": {},
   "outputs": [
    {
     "name": "stderr",
     "output_type": "stream",
     "text": [
      "C:\\Users\\Pritesh Borad\\Anaconda3\\lib\\site-packages\\ipykernel_launcher.py:5: SettingWithCopyWarning: \n",
      "A value is trying to be set on a copy of a slice from a DataFrame\n",
      "\n",
      "See the caveats in the documentation: https://pandas.pydata.org/pandas-docs/stable/user_guide/indexing.html#returning-a-view-versus-a-copy\n",
      "  \"\"\"\n",
      "C:\\Users\\Pritesh Borad\\Anaconda3\\lib\\site-packages\\pandas\\core\\indexing.py:671: SettingWithCopyWarning: \n",
      "A value is trying to be set on a copy of a slice from a DataFrame\n",
      "\n",
      "See the caveats in the documentation: https://pandas.pydata.org/pandas-docs/stable/user_guide/indexing.html#returning-a-view-versus-a-copy\n",
      "  self._setitem_with_indexer(indexer, value)\n",
      "C:\\Users\\Pritesh Borad\\Anaconda3\\lib\\site-packages\\ipykernel_launcher.py:12: SettingWithCopyWarning: \n",
      "A value is trying to be set on a copy of a slice from a DataFrame\n",
      "\n",
      "See the caveats in the documentation: https://pandas.pydata.org/pandas-docs/stable/user_guide/indexing.html#returning-a-view-versus-a-copy\n",
      "  if sys.path[0] == '':\n",
      "C:\\Users\\Pritesh Borad\\Anaconda3\\lib\\site-packages\\ipykernel_launcher.py:19: SettingWithCopyWarning: \n",
      "A value is trying to be set on a copy of a slice from a DataFrame\n",
      "\n",
      "See the caveats in the documentation: https://pandas.pydata.org/pandas-docs/stable/user_guide/indexing.html#returning-a-view-versus-a-copy\n"
     ]
    }
   ],
   "source": [
    "\n",
    "# from datetime import datetime\n",
    "# for i in range(len(df1)):\n",
    "#     datetimeobject = datetime.strptime(str(df1.DATE[i]),'%Y%m%d')\n",
    "#     df1.DATE[i] = datetimeobject.strftime('%Y-%m-%d')\n",
    "    \n",
    "# df1[\"TIMEFRAME\"] = df1[\"DATE\"]+ \" \" + df1[\"TIME\"]\n",
    "# df1.head()\n",
    "\n",
    "# for i in range(len(df2)):\n",
    "#     datetimeobject = datetime.strptime(str(df2.DATE[i]),'%Y%m%d')\n",
    "#     df2.DATE[i] = datetimeobject.strftime('%Y-%m-%d')\n",
    "    \n",
    "# df2[\"TIMEFRAME\"] = df2[\"DATE\"]+ \" \" + df2[\"TIME\"]\n",
    "# df2.head()\n",
    "\n",
    "# for i in range(len(df3)):\n",
    "#     datetimeobject = datetime.strptime(str(df3.DATE[i]),'%Y%m%d')\n",
    "#     df3.DATE[i] = datetimeobject.strftime('%Y-%m-%d')\n",
    "    \n",
    "# df3[\"TIMEFRAME\"] = df3[\"DATE\"]+ \" \" + df3[\"TIME\"]\n",
    "# df3.head()\n",
    "\n",
    "# for i in range(len(df4)):\n",
    "#     datetimeobject = datetime.strptime(str(df4.DATE[i]),'%Y%m%d')\n",
    "#     df4.DATE[i] = datetimeobject.strftime('%Y-%m-%d')\n",
    "    \n",
    "# df4[\"TIMEFRAME\"] = df4[\"DATE\"]+ \" \" + df4[\"TIME\"]\n",
    "# df4.head()\n",
    "\n",
    "# for i in range(len(df5)):\n",
    "#     datetimeobject = datetime.strptime(str(df5.DATE[i]),'%Y%m%d')\n",
    "#     df5.DATE[i] = datetimeobject.strftime('%Y-%m-%d')\n",
    "    \n",
    "# df5[\"TIMEFRAME\"] = df5[\"DATE\"]+ \" \" + df5[\"TIME\"]\n",
    "# df5.head()\n"
   ]
  },
  {
   "cell_type": "code",
   "execution_count": 4,
   "metadata": {},
   "outputs": [
    {
     "data": {
      "text/html": [
       "<div>\n",
       "<style scoped>\n",
       "    .dataframe tbody tr th:only-of-type {\n",
       "        vertical-align: middle;\n",
       "    }\n",
       "\n",
       "    .dataframe tbody tr th {\n",
       "        vertical-align: top;\n",
       "    }\n",
       "\n",
       "    .dataframe thead th {\n",
       "        text-align: right;\n",
       "    }\n",
       "</style>\n",
       "<table border=\"1\" class=\"dataframe\">\n",
       "  <thead>\n",
       "    <tr style=\"text-align: right;\">\n",
       "      <th></th>\n",
       "      <th>DATE</th>\n",
       "      <th>TIME</th>\n",
       "      <th>CLOSE</th>\n",
       "      <th>VOLUME</th>\n",
       "      <th>NAN</th>\n",
       "      <th>TIMEFRAME</th>\n",
       "    </tr>\n",
       "  </thead>\n",
       "  <tbody>\n",
       "    <tr>\n",
       "      <th>0</th>\n",
       "      <td>2020-08-03</td>\n",
       "      <td>09:15:00</td>\n",
       "      <td>21480.00</td>\n",
       "      <td>0.0</td>\n",
       "      <td>1.0</td>\n",
       "      <td>2020-08-03 09:15:00</td>\n",
       "    </tr>\n",
       "    <tr>\n",
       "      <th>1</th>\n",
       "      <td>2020-08-03</td>\n",
       "      <td>09:15:00</td>\n",
       "      <td>21476.95</td>\n",
       "      <td>0.0</td>\n",
       "      <td>1.0</td>\n",
       "      <td>2020-08-03 09:15:00</td>\n",
       "    </tr>\n",
       "    <tr>\n",
       "      <th>2</th>\n",
       "      <td>2020-08-03</td>\n",
       "      <td>09:15:00</td>\n",
       "      <td>21534.95</td>\n",
       "      <td>0.0</td>\n",
       "      <td>1025.0</td>\n",
       "      <td>2020-08-03 09:15:00</td>\n",
       "    </tr>\n",
       "    <tr>\n",
       "      <th>3</th>\n",
       "      <td>2020-08-03</td>\n",
       "      <td>09:15:01</td>\n",
       "      <td>21549.70</td>\n",
       "      <td>1359675.0</td>\n",
       "      <td>1475.0</td>\n",
       "      <td>2020-08-03 09:15:01</td>\n",
       "    </tr>\n",
       "    <tr>\n",
       "      <th>4</th>\n",
       "      <td>2020-08-03</td>\n",
       "      <td>09:15:02</td>\n",
       "      <td>21462.90</td>\n",
       "      <td>1359675.0</td>\n",
       "      <td>3225.0</td>\n",
       "      <td>2020-08-03 09:15:02</td>\n",
       "    </tr>\n",
       "  </tbody>\n",
       "</table>\n",
       "</div>"
      ],
      "text/plain": [
       "         DATE      TIME     CLOSE     VOLUME     NAN            TIMEFRAME\n",
       "0  2020-08-03  09:15:00  21480.00        0.0     1.0  2020-08-03 09:15:00\n",
       "1  2020-08-03  09:15:00  21476.95        0.0     1.0  2020-08-03 09:15:00\n",
       "2  2020-08-03  09:15:00  21534.95        0.0  1025.0  2020-08-03 09:15:00\n",
       "3  2020-08-03  09:15:01  21549.70  1359675.0  1475.0  2020-08-03 09:15:01\n",
       "4  2020-08-03  09:15:02  21462.90  1359675.0  3225.0  2020-08-03 09:15:02"
      ]
     },
     "execution_count": 4,
     "metadata": {},
     "output_type": "execute_result"
    }
   ],
   "source": [
    "df1 = pd.read_csv('df1.csv')\n",
    "df2 = pd.read_csv('df2.csv')\n",
    "df3 = pd.read_csv('df3.csv')\n",
    "df4 = pd.read_csv('df4.csv')\n",
    "df5 = pd.read_csv('df5.csv')\n",
    "dataframes = [df1, df2, df3, df4, df5]\n",
    "df = pd.concat(dataframes)\n",
    "df = df[['DATE', 'TIME', 'CLOSE', 'VOLUME','NAN','TIMEFRAME']]\n",
    "df.head()\n"
   ]
  },
  {
   "cell_type": "code",
   "execution_count": 5,
   "metadata": {},
   "outputs": [
    {
     "data": {
      "text/plain": [
       "(137625, 4)"
      ]
     },
     "execution_count": 5,
     "metadata": {},
     "output_type": "execute_result"
    }
   ],
   "source": [
    "df6 = df\n",
    "df6[\"TIMEFRAME\"] = pd.to_datetime(df6.iloc[:, 0])\n",
    "df6 = df6.set_index(\"TIMEFRAME\").resample('1T').mean().interpolate()\n",
    "#df6.shape\n",
    "#df6.head()\n",
    "df6['TIMEFRAME'] = df6.index\n",
    "df6 = df6[df6[\"TIMEFRAME\"].dt.time  < time(15,30,0) ]\n",
    "df6 = df6[df6[\"TIMEFRAME\"].dt.time  >= time(9,15,0) ]\n",
    "df6.shape"
   ]
  },
  {
   "cell_type": "code",
   "execution_count": 133,
   "metadata": {},
   "outputs": [
    {
     "data": {
      "text/plain": [
       "'\\ndf2=df\\ndf2[\"TIMEFRAME\"] = pd.to_datetime(df2[\"TIMEFRAME\"])\\n#print(df2[\\'TIMEFRAME\\'].dt.time)\\n#print(time(9,15,0))\\ndf2 = df2[df2[\\'TIMEFRAME\\'].dt.time  < time(15,30,0) ]\\ndf2 = df2[df2[\\'TIMEFRAME\\'].dt.time  >= time(9,15,0) ]\\ndf2.shape\\n'"
      ]
     },
     "execution_count": 133,
     "metadata": {},
     "output_type": "execute_result"
    }
   ],
   "source": [
    "\"\"\"\n",
    "df2=df\n",
    "df2[\"TIMEFRAME\"] = pd.to_datetime(df2[\"TIMEFRAME\"])\n",
    "#print(df2['TIMEFRAME'].dt.time)\n",
    "#print(time(9,15,0))\n",
    "df2 = df2[df2['TIMEFRAME'].dt.time  < time(15,30,0) ]\n",
    "df2 = df2[df2['TIMEFRAME'].dt.time  >= time(9,15,0) ]\n",
    "df2.shape\n",
    "\"\"\""
   ]
  },
  {
   "cell_type": "code",
   "execution_count": 6,
   "metadata": {},
   "outputs": [
    {
     "data": {
      "image/png": "[encoded data removed]",
      "text/plain": [
       "<Figure size 1152x576 with 1 Axes>"
      ]
     },
     "metadata": {
      "needs_background": "light"
     },
     "output_type": "display_data"
    }
   ],
   "source": [
    "plt.figure(figsize = (16,8))\n",
    "plt.title('Nifty 12 years')\n",
    "plt.plot(df6.CLOSE)\n",
    "#plt.plot(df[0:50000].CLOSE)\n",
    "#plt.scatter(z, y, s=2)\n",
    "#plt.xlabel('Date',fontsize=18)\n",
    "#plt.ylabel('Close Price',fontsize=18)\n",
    "plt.show()"
   ]
  },
  {
   "cell_type": "code",
   "execution_count": 195,
   "metadata": {},
   "outputs": [
    {
     "data": {
      "text/html": [
       "<div>\n",
       "<style scoped>\n",
       "    .dataframe tbody tr th:only-of-type {\n",
       "        vertical-align: middle;\n",
       "    }\n",
       "\n",
       "    .dataframe tbody tr th {\n",
       "        vertical-align: top;\n",
       "    }\n",
       "\n",
       "    .dataframe thead th {\n",
       "        text-align: right;\n",
       "    }\n",
       "</style>\n",
       "<table border=\"1\" class=\"dataframe\">\n",
       "  <thead>\n",
       "    <tr style=\"text-align: right;\">\n",
       "      <th></th>\n",
       "      <th>CLOSE</th>\n",
       "      <th>VOLUME</th>\n",
       "      <th>TIMEFRAME</th>\n",
       "    </tr>\n",
       "    <tr>\n",
       "      <th>TIMEFRAME</th>\n",
       "      <th></th>\n",
       "      <th></th>\n",
       "      <th></th>\n",
       "    </tr>\n",
       "  </thead>\n",
       "  <tbody>\n",
       "    <tr>\n",
       "      <th>2020-08-03 09:15:00</th>\n",
       "      <td>21272.105031</td>\n",
       "      <td>1.872614e+06</td>\n",
       "      <td>2020-08-03 09:15:00</td>\n",
       "    </tr>\n",
       "    <tr>\n",
       "      <th>2020-08-03 09:16:00</th>\n",
       "      <td>21272.122885</td>\n",
       "      <td>1.872786e+06</td>\n",
       "      <td>2020-08-03 09:16:00</td>\n",
       "    </tr>\n",
       "    <tr>\n",
       "      <th>2020-08-03 09:17:00</th>\n",
       "      <td>21272.140739</td>\n",
       "      <td>1.872958e+06</td>\n",
       "      <td>2020-08-03 09:17:00</td>\n",
       "    </tr>\n",
       "    <tr>\n",
       "      <th>2020-08-03 09:18:00</th>\n",
       "      <td>21272.158593</td>\n",
       "      <td>1.873129e+06</td>\n",
       "      <td>2020-08-03 09:18:00</td>\n",
       "    </tr>\n",
       "    <tr>\n",
       "      <th>2020-08-03 09:19:00</th>\n",
       "      <td>21272.176447</td>\n",
       "      <td>1.873301e+06</td>\n",
       "      <td>2020-08-03 09:19:00</td>\n",
       "    </tr>\n",
       "  </tbody>\n",
       "</table>\n",
       "</div>"
      ],
      "text/plain": [
       "                            CLOSE        VOLUME           TIMEFRAME\n",
       "TIMEFRAME                                                          \n",
       "2020-08-03 09:15:00  21272.105031  1.872614e+06 2020-08-03 09:15:00\n",
       "2020-08-03 09:16:00  21272.122885  1.872786e+06 2020-08-03 09:16:00\n",
       "2020-08-03 09:17:00  21272.140739  1.872958e+06 2020-08-03 09:17:00\n",
       "2020-08-03 09:18:00  21272.158593  1.873129e+06 2020-08-03 09:18:00\n",
       "2020-08-03 09:19:00  21272.176447  1.873301e+06 2020-08-03 09:19:00"
      ]
     },
     "execution_count": 195,
     "metadata": {},
     "output_type": "execute_result"
    }
   ],
   "source": [
    "df7 = df6[\"CLOSE\"]\n",
    "df7 = df7[0:]\n",
    "df6.head()"
   ]
  },
  {
   "cell_type": "code",
   "execution_count": 196,
   "metadata": {},
   "outputs": [],
   "source": [
    "import numpy as np\n",
    "from sklearn.preprocessing import MinMaxScaler\n",
    "scaler=MinMaxScaler(feature_range=(0,1))\n",
    "df7=scaler.fit_transform(np.array(df7).reshape(-1,1))"
   ]
  },
  {
   "cell_type": "code",
   "execution_count": 197,
   "metadata": {},
   "outputs": [
    {
     "data": {
      "text/plain": [
       "(126375, 11250)"
      ]
     },
     "execution_count": 197,
     "metadata": {},
     "output_type": "execute_result"
    }
   ],
   "source": [
    "training_size=126375\n",
    "test_size=len(df7)-training_size\n",
    "train_data,test_data=df7[0:training_size,:],df7[training_size:len(df7),:1]\n",
    "training_size,test_size"
   ]
  },
  {
   "cell_type": "code",
   "execution_count": 198,
   "metadata": {},
   "outputs": [],
   "source": [
    "# convert an array of values into a dataset matrix\n",
    "def create_dataset(dataset, time_step=375):\n",
    "\tdataX, dataY = [], []\n",
    "\tfor i in range(len(dataset)-time_step-1):\n",
    "\t\ta = dataset[i:(i+time_step), 0]   ###i=0, 0,1,2,3-----99   100 \n",
    "\t\tdataX.append(a)\n",
    "\t\tdataY.append(dataset[i + time_step, 0])\n",
    "\treturn np.array(dataX), np.array(dataY)"
   ]
  },
  {
   "cell_type": "code",
   "execution_count": 199,
   "metadata": {},
   "outputs": [
    {
     "name": "stdout",
     "output_type": "stream",
     "text": [
      "(125999, 375)\n",
      "(125999,)\n",
      "(10874, 375)\n",
      "(10874,)\n"
     ]
    },
    {
     "data": {
      "text/plain": [
       "(None, None)"
      ]
     },
     "execution_count": 199,
     "metadata": {},
     "output_type": "execute_result"
    }
   ],
   "source": [
    "time_step=375\n",
    "X_train, y_train = create_dataset(train_data, time_step)\n",
    "X_test, ytest = create_dataset(test_data, time_step)\n",
    "print(X_train.shape), print(y_train.shape)\n",
    "print(X_test.shape), print(ytest.shape)"
   ]
  },
  {
   "cell_type": "code",
   "execution_count": 200,
   "metadata": {},
   "outputs": [
    {
     "name": "stdout",
     "output_type": "stream",
     "text": [
      "[[[0.03236773]\n",
      "  [0.03236882]\n",
      "  [0.03236991]\n",
      "  ...\n",
      "  [0.03277159]\n",
      "  [0.03277267]\n",
      "  [0.03277376]]\n",
      "\n",
      " [[0.03236882]\n",
      "  [0.03236991]\n",
      "  [0.03237099]\n",
      "  ...\n",
      "  [0.03277267]\n",
      "  [0.03277376]\n",
      "  [0.04384622]]\n",
      "\n",
      " [[0.03236991]\n",
      "  [0.03237099]\n",
      "  [0.03237208]\n",
      "  ...\n",
      "  [0.03277376]\n",
      "  [0.04384622]\n",
      "  [0.04386517]]\n",
      "\n",
      " ...\n",
      "\n",
      " [[0.03241876]\n",
      "  [0.03241984]\n",
      "  [0.03242093]\n",
      "  ...\n",
      "  [0.04468005]\n",
      "  [0.04469901]\n",
      "  [0.04471796]]\n",
      "\n",
      " [[0.03241984]\n",
      "  [0.03242093]\n",
      "  [0.03242202]\n",
      "  ...\n",
      "  [0.04469901]\n",
      "  [0.04471796]\n",
      "  [0.04473691]]\n",
      "\n",
      " [[0.03242093]\n",
      "  [0.03242202]\n",
      "  [0.0324231 ]\n",
      "  ...\n",
      "  [0.04471796]\n",
      "  [0.04473691]\n",
      "  [0.04475586]]]\n"
     ]
    }
   ],
   "source": [
    "X_train =X_train.reshape(X_train.shape[0],X_train.shape[1] , 1)\n",
    "X_test = X_test.reshape(X_test.shape[0],X_test.shape[1] , 1)\n",
    "print(X_train[0:50])"
   ]
  },
  {
   "cell_type": "code",
   "execution_count": 152,
   "metadata": {},
   "outputs": [],
   "source": [
    "from tensorflow.keras.models import Sequential\n",
    "from tensorflow.keras.layers import Dense\n",
    "from tensorflow.keras.layers import LSTM\n",
    "import tensorflow as tf\n",
    "\n",
    "model=Sequential()\n",
    "model.add(LSTM(50,return_sequences=True,input_shape=(375,1)))\n",
    "model.add(LSTM(50,return_sequences=False))\n",
    "model.add(Dense(50))\n",
    "model.add(Dense(1))\n",
    "model.compile(loss='mean_squared_error',optimizer='adam')"
   ]
  },
  {
   "cell_type": "code",
   "execution_count": 153,
   "metadata": {},
   "outputs": [
    {
     "name": "stdout",
     "output_type": "stream",
     "text": [
      "Train on 125999 samples\n",
      "Epoch 1/50\n",
      "125999/125999 [==============================] - 1094s 9ms/sample - loss: 0.0012\n",
      "Epoch 2/50\n",
      "125999/125999 [==============================] - 1064s 8ms/sample - loss: 4.8667e-06\n",
      "Epoch 3/50\n",
      "125999/125999 [==============================] - 1065s 8ms/sample - loss: 9.6477e-06\n",
      "Epoch 4/50\n",
      "125999/125999 [==============================] - 1059s 8ms/sample - loss: 9.1699e-06\n",
      "Epoch 5/50\n",
      "125999/125999 [==============================] - 1046s 8ms/sample - loss: 9.0018e-06\n",
      "Epoch 6/50\n",
      "125999/125999 [==============================] - 1048s 8ms/sample - loss: 6.7124e-06\n",
      "Epoch 7/50\n",
      "125999/125999 [==============================] - 1048s 8ms/sample - loss: 6.4902e-06\n",
      "Epoch 8/50\n",
      "125999/125999 [==============================] - 1052s 8ms/sample - loss: 5.3765e-06\n",
      "Epoch 9/50\n",
      "125999/125999 [==============================] - 1050s 8ms/sample - loss: 6.2065e-06\n",
      "Epoch 10/50\n",
      "125999/125999 [==============================] - 1050s 8ms/sample - loss: 5.0412e-06\n",
      "Epoch 11/50\n",
      "125999/125999 [==============================] - 1048s 8ms/sample - loss: 3.3721e-06\n",
      "Epoch 12/50\n",
      "125999/125999 [==============================] - 1050s 8ms/sample - loss: 4.9908e-06\n",
      "Epoch 13/50\n",
      "125999/125999 [==============================] - 1050s 8ms/sample - loss: 2.8924e-06\n",
      "Epoch 14/50\n",
      "125999/125999 [==============================] - 1047s 8ms/sample - loss: 3.1741e-06\n",
      "Epoch 15/50\n",
      "125999/125999 [==============================] - 1049s 8ms/sample - loss: 3.0410e-06\n",
      "Epoch 16/50\n",
      "125999/125999 [==============================] - 1045s 8ms/sample - loss: 1.0185e-05\n",
      "Epoch 17/50\n",
      "125999/125999 [==============================] - 1046s 8ms/sample - loss: 1.2530e-06\n",
      "Epoch 18/50\n",
      "125999/125999 [==============================] - 1046s 8ms/sample - loss: 2.6090e-06\n",
      "Epoch 19/50\n",
      "125999/125999 [==============================] - 1045s 8ms/sample - loss: 2.5732e-06\n",
      "Epoch 20/50\n",
      "125999/125999 [==============================] - 1043s 8ms/sample - loss: 2.4352e-06\n",
      "Epoch 21/50\n",
      "125999/125999 [==============================] - 1044s 8ms/sample - loss: 2.2231e-06\n",
      "Epoch 22/50\n",
      "125999/125999 [==============================] - 1042s 8ms/sample - loss: 2.2889e-06\n",
      "Epoch 23/50\n",
      "125999/125999 [==============================] - 1043s 8ms/sample - loss: 2.0967e-06\n",
      "Epoch 24/50\n",
      "125999/125999 [==============================] - 1051s 8ms/sample - loss: 2.4548e-06\n",
      "Epoch 25/50\n",
      "125999/125999 [==============================] - 1050s 8ms/sample - loss: 1.9576e-06\n",
      "Epoch 26/50\n",
      "125999/125999 [==============================] - 1042s 8ms/sample - loss: 2.1233e-06\n",
      "Epoch 27/50\n",
      "125999/125999 [==============================] - 1076s 9ms/sample - loss: 2.0056e-06\n",
      "Epoch 28/50\n",
      "125999/125999 [==============================] - 1120s 9ms/sample - loss: 1.8412e-06\n",
      "Epoch 29/50\n",
      "125999/125999 [==============================] - 1124s 9ms/sample - loss: 1.7596e-06\n",
      "Epoch 30/50\n",
      "125999/125999 [==============================] - 1079s 9ms/sample - loss: 1.7709e-06\n",
      "Epoch 31/50\n",
      "125999/125999 [==============================] - 1098s 9ms/sample - loss: 1.9829e-06\n",
      "Epoch 32/50\n",
      "125999/125999 [==============================] - 1111s 9ms/sample - loss: 1.8580e-06\n",
      "Epoch 33/50\n",
      "125999/125999 [==============================] - 1055s 8ms/sample - loss: 1.4587e-06\n",
      "Epoch 34/50\n",
      "125999/125999 [==============================] - 1100s 9ms/sample - loss: 1.7068e-06\n",
      "Epoch 35/50\n",
      "125999/125999 [==============================] - 1148s 9ms/sample - loss: 1.7163e-06\n",
      "Epoch 36/50\n",
      "125999/125999 [==============================] - 1157s 9ms/sample - loss: 1.6508e-06\n",
      "Epoch 37/50\n",
      "125999/125999 [==============================] - 1120s 9ms/sample - loss: 1.5562e-06\n",
      "Epoch 38/50\n",
      "125999/125999 [==============================] - 1116s 9ms/sample - loss: 1.6354e-06\n",
      "Epoch 39/50\n",
      "125999/125999 [==============================] - 1130s 9ms/sample - loss: 1.5757e-06\n",
      "Epoch 40/50\n",
      "125999/125999 [==============================] - 1178s 9ms/sample - loss: 1.7504e-06\n",
      "Epoch 41/50\n",
      "125999/125999 [==============================] - 1153s 9ms/sample - loss: 1.4397e-06\n",
      "Epoch 42/50\n",
      "125999/125999 [==============================] - 1119s 9ms/sample - loss: 1.5200e-06\n",
      "Epoch 43/50\n",
      "125999/125999 [==============================] - 1129s 9ms/sample - loss: 1.4185e-06\n",
      "Epoch 44/50\n",
      "125999/125999 [==============================] - 1155s 9ms/sample - loss: 1.5421e-06\n",
      "Epoch 45/50\n",
      "125999/125999 [==============================] - 2763s 22ms/sample - loss: 1.4429e-06\n",
      "Epoch 46/50\n",
      "125999/125999 [==============================] - 1087s 9ms/sample - loss: 1.5859e-06\n",
      "Epoch 47/50\n",
      "125999/125999 [==============================] - 1041s 8ms/sample - loss: 1.3337e-06\n",
      "Epoch 48/50\n",
      "125999/125999 [==============================] - 1123s 9ms/sample - loss: 1.5919e-06\n",
      "Epoch 49/50\n",
      "125999/125999 [==============================] - 1160s 9ms/sample - loss: 1.5084e-06\n",
      "Epoch 50/50\n",
      "125999/125999 [==============================] - 1191s 9ms/sample - loss: 1.3233e-06\n"
     ]
    },
    {
     "data": {
      "text/plain": [
       "<tensorflow.python.keras.callbacks.History at 0x206dac60d68>"
      ]
     },
     "execution_count": 153,
     "metadata": {},
     "output_type": "execute_result"
    }
   ],
   "source": [
    "model.fit(X_train,y_train,epochs=50,batch_size=64,verbose=1)"
   ]
  },
  {
   "cell_type": "code",
   "execution_count": 201,
   "metadata": {},
   "outputs": [
    {
     "name": "stdout",
     "output_type": "stream",
     "text": [
      "[[0.9136149 ]\n",
      " [0.9117398 ]\n",
      " [0.9118191 ]\n",
      " ...\n",
      " [0.9263986 ]\n",
      " [0.9263994 ]\n",
      " [0.92640024]]\n"
     ]
    }
   ],
   "source": [
    "#train_predict=model.predict(X_train)\n",
    "test_predict=model.predict(X_test)\n",
    "print(test_predict)"
   ]
  },
  {
   "cell_type": "code",
   "execution_count": 202,
   "metadata": {},
   "outputs": [
    {
     "name": "stdout",
     "output_type": "stream",
     "text": [
      "[[35764.816]\n",
      " [35733.98 ]\n",
      " [35735.28 ]\n",
      " ...\n",
      " [35975.05 ]\n",
      " [35975.062]\n",
      " [35975.082]]\n"
     ]
    }
   ],
   "source": [
    "#train_predict=scaler.inverse_transform(train_predict)\n",
    "test_predict=scaler.inverse_transform(test_predict)\n",
    "print(test_predict)"
   ]
  },
  {
   "cell_type": "code",
   "execution_count": 203,
   "metadata": {},
   "outputs": [
    {
     "data": {
      "text/plain": [
       "35207.81091813617"
      ]
     },
     "execution_count": 203,
     "metadata": {},
     "output_type": "execute_result"
    }
   ],
   "source": [
    "\n",
    "import math\n",
    "from sklearn.metrics import mean_squared_error\n",
    "math.sqrt(mean_squared_error(y_train,train_predict))\n",
    "math.sqrt(mean_squared_error(ytest,test_predict))\n"
   ]
  },
  {
   "cell_type": "code",
   "execution_count": 225,
   "metadata": {},
   "outputs": [
    {
     "name": "stderr",
     "output_type": "stream",
     "text": [
      "C:\\Users\\Pritesh Borad\\Anaconda3\\lib\\site-packages\\ipykernel_launcher.py:4: SettingWithCopyWarning: \n",
      "A value is trying to be set on a copy of a slice from a DataFrame.\n",
      "Try using .loc[row_indexer,col_indexer] = value instead\n",
      "\n",
      "See the caveats in the documentation: https://pandas.pydata.org/pandas-docs/stable/user_guide/indexing.html#returning-a-view-versus-a-copy\n",
      "  after removing the cwd from sys.path.\n",
      "C:\\Users\\Pritesh Borad\\Anaconda3\\lib\\site-packages\\ipykernel_launcher.py:5: SettingWithCopyWarning: \n",
      "A value is trying to be set on a copy of a slice from a DataFrame.\n",
      "Try using .loc[row_indexer,col_indexer] = value instead\n",
      "\n",
      "See the caveats in the documentation: https://pandas.pydata.org/pandas-docs/stable/user_guide/indexing.html#returning-a-view-versus-a-copy\n",
      "  \"\"\"\n"
     ]
    },
    {
     "data": {
      "image/png": "[encoded data removed]",
      "text/plain": [
       "<Figure size 1152x576 with 1 Axes>"
      ]
     },
     "metadata": {
      "needs_background": "light"
     },
     "output_type": "display_data"
    }
   ],
   "source": [
    "plt.figure(figsize = (16,8))\n",
    "train = df6[:126375]\n",
    "valid = df6[126376:137250]\n",
    "valid['predictions'] = test_predict[0:]\n",
    "valid['inverse']=df7[126376:137250]\n",
    "plt.plot(train['CLOSE'])\n",
    "plt.plot(valid[['CLOSE','predictions']])\n",
    "plt.legend(['Trained LTP','Original LTP','Predicted LTP'])\n",
    "plt.show()"
   ]
  },
  {
   "cell_type": "code",
   "execution_count": 181,
   "metadata": {},
   "outputs": [],
   "source": [
    "#model.save_weights('./checkpoints/my_checkpoint')"
   ]
  }
 ],
 "metadata": {
  "kernelspec": {
   "display_name": "Python 3 (ipykernel)",
   "language": "python",
   "name": "python3"
  },
  "language_info": {
   "codemirror_mode": {
    "name": "ipython",
    "version": 3
   },
   "file_extension": ".py",
   "mimetype": "text/x-python",
   "name": "python",
   "nbconvert_exporter": "python",
   "pygments_lexer": "ipython3",
   "version": "3.9.12"
  }
 },
 "nbformat": 4,
 "nbformat_minor": 2
}
