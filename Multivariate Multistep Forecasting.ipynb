{
 "cells": [
  {
   "cell_type": "markdown",
   "metadata": {
    "id": "5xCW1j3XJxXZ"
   },
   "source": [
    "### Installing the libraries"
   ]
  },
  {
   "cell_type": "code",
   "execution_count": 1,
   "metadata": {
    "colab": {
     "base_uri": "https://localhost:8080/"
    },
    "id": "HNl7VsSN-Pbj",
    "outputId": "09d8908e-ff19-42bd-eaba-dcbb6eb8eb65"
   },
   "outputs": [
    {
     "name": "stdout",
     "output_type": "stream",
     "text": [
      "Requirement already satisfied: pip in c:\\users\\pritesh borad\\anaconda3\\lib\\site-packages (21.2.4)\n",
      "Collecting pip\n",
      "  Downloading pip-21.3.1-py3-none-any.whl (1.7 MB)\n",
      "Installing collected packages: pip\n",
      "  Attempting uninstall: pip\n",
      "    Found existing installation: pip 21.2.4\n",
      "    Uninstalling pip-21.2.4:\n",
      "      Successfully uninstalled pip-21.2.4\n"
     ]
    },
    {
     "name": "stderr",
     "output_type": "stream",
     "text": [
      "WARNING: Ignoring invalid distribution -illow (c:\\users\\pritesh borad\\anaconda3\\lib\\site-packages)\n",
      "WARNING: Ignoring invalid distribution -ffi (c:\\users\\pritesh borad\\anaconda3\\lib\\site-packages)\n",
      "WARNING: Ignoring invalid distribution -illow (c:\\users\\pritesh borad\\anaconda3\\lib\\site-packages)\n",
      "WARNING: Ignoring invalid distribution -ffi (c:\\users\\pritesh borad\\anaconda3\\lib\\site-packages)\n",
      "WARNING: Ignoring invalid distribution -illow (c:\\users\\pritesh borad\\anaconda3\\lib\\site-packages)\n",
      "WARNING: Ignoring invalid distribution -ffi (c:\\users\\pritesh borad\\anaconda3\\lib\\site-packages)\n",
      "    WARNING: Ignoring invalid distribution -illow (c:\\users\\pritesh borad\\anaconda3\\lib\\site-packages)\n",
      "    WARNING: Ignoring invalid distribution -ffi (c:\\users\\pritesh borad\\anaconda3\\lib\\site-packages)\n",
      "ERROR: Could not install packages due to an OSError: [WinError 5] Access is denied: 'C:\\\\Users\\\\PRITES~1\\\\AppData\\\\Local\\\\Temp\\\\pip-uninstall-jdc8a839\\\\pip.exe'\n",
      "Consider using the `--user` option or check the permissions.\n",
      "\n",
      "WARNING: Ignoring invalid distribution -illow (c:\\users\\pritesh borad\\anaconda3\\lib\\site-packages)\n",
      "WARNING: Ignoring invalid distribution -ffi (c:\\users\\pritesh borad\\anaconda3\\lib\\site-packages)\n",
      "WARNING: Ignoring invalid distribution -illow (c:\\users\\pritesh borad\\anaconda3\\lib\\site-packages)\n",
      "WARNING: Ignoring invalid distribution -ffi (c:\\users\\pritesh borad\\anaconda3\\lib\\site-packages)\n",
      "WARNING: Ignoring invalid distribution -illow (c:\\users\\pritesh borad\\anaconda3\\lib\\site-packages)\n",
      "WARNING: Ignoring invalid distribution -ffi (c:\\users\\pritesh borad\\anaconda3\\lib\\site-packages)\n"
     ]
    },
    {
     "name": "stdout",
     "output_type": "stream",
     "text": [
      "Requirement already satisfied: matplotlib in c:\\users\\pritesh borad\\anaconda3\\lib\\site-packages (3.0.0)\n",
      "Requirement already satisfied: numpy>=1.10.0 in c:\\users\\pritesh borad\\anaconda3\\lib\\site-packages (from matplotlib) (1.19.5)\n",
      "Requirement already satisfied: cycler>=0.10 in c:\\users\\pritesh borad\\anaconda3\\lib\\site-packages (from matplotlib) (0.10.0)\n",
      "Requirement already satisfied: kiwisolver>=1.0.1 in c:\\users\\pritesh borad\\anaconda3\\lib\\site-packages (from matplotlib) (1.0.1)\n",
      "Requirement already satisfied: pyparsing!=2.0.4,!=2.1.2,!=2.1.6,>=2.0.1 in c:\\users\\pritesh borad\\anaconda3\\lib\\site-packages (from matplotlib) (2.2.2)\n",
      "Requirement already satisfied: python-dateutil>=2.1 in c:\\users\\pritesh borad\\anaconda3\\lib\\site-packages (from matplotlib) (2.8.2)\n",
      "Requirement already satisfied: six in c:\\users\\pritesh borad\\anaconda3\\lib\\site-packages (from cycler>=0.10->matplotlib) (1.15.0)\n",
      "Requirement already satisfied: setuptools in c:\\users\\pritesh borad\\anaconda3\\lib\\site-packages (from kiwisolver>=1.0.1->matplotlib) (57.4.0)\n"
     ]
    },
    {
     "name": "stderr",
     "output_type": "stream",
     "text": [
      "WARNING: Ignoring invalid distribution -illow (c:\\users\\pritesh borad\\anaconda3\\lib\\site-packages)\n",
      "WARNING: Ignoring invalid distribution -ffi (c:\\users\\pritesh borad\\anaconda3\\lib\\site-packages)\n",
      "WARNING: Ignoring invalid distribution -illow (c:\\users\\pritesh borad\\anaconda3\\lib\\site-packages)\n",
      "WARNING: Ignoring invalid distribution -ffi (c:\\users\\pritesh borad\\anaconda3\\lib\\site-packages)\n",
      "WARNING: Ignoring invalid distribution -illow (c:\\users\\pritesh borad\\anaconda3\\lib\\site-packages)\n",
      "WARNING: Ignoring invalid distribution -ffi (c:\\users\\pritesh borad\\anaconda3\\lib\\site-packages)\n",
      "WARNING: Ignoring invalid distribution -illow (c:\\users\\pritesh borad\\anaconda3\\lib\\site-packages)\n",
      "WARNING: Ignoring invalid distribution -ffi (c:\\users\\pritesh borad\\anaconda3\\lib\\site-packages)\n",
      "WARNING: Ignoring invalid distribution -illow (c:\\users\\pritesh borad\\anaconda3\\lib\\site-packages)\n",
      "WARNING: Ignoring invalid distribution -ffi (c:\\users\\pritesh borad\\anaconda3\\lib\\site-packages)\n"
     ]
    },
    {
     "name": "stdout",
     "output_type": "stream",
     "text": [
      "Requirement already satisfied: numpy in c:\\users\\pritesh borad\\anaconda3\\lib\\site-packages (1.19.5)\n"
     ]
    },
    {
     "name": "stderr",
     "output_type": "stream",
     "text": [
      "WARNING: Ignoring invalid distribution -illow (c:\\users\\pritesh borad\\anaconda3\\lib\\site-packages)\n",
      "WARNING: Ignoring invalid distribution -ffi (c:\\users\\pritesh borad\\anaconda3\\lib\\site-packages)\n",
      "WARNING: Ignoring invalid distribution -illow (c:\\users\\pritesh borad\\anaconda3\\lib\\site-packages)\n",
      "WARNING: Ignoring invalid distribution -ffi (c:\\users\\pritesh borad\\anaconda3\\lib\\site-packages)\n",
      "WARNING: Ignoring invalid distribution -illow (c:\\users\\pritesh borad\\anaconda3\\lib\\site-packages)\n",
      "WARNING: Ignoring invalid distribution -ffi (c:\\users\\pritesh borad\\anaconda3\\lib\\site-packages)\n",
      "WARNING: Ignoring invalid distribution -illow (c:\\users\\pritesh borad\\anaconda3\\lib\\site-packages)\n",
      "WARNING: Ignoring invalid distribution -ffi (c:\\users\\pritesh borad\\anaconda3\\lib\\site-packages)\n",
      "WARNING: Ignoring invalid distribution -illow (c:\\users\\pritesh borad\\anaconda3\\lib\\site-packages)\n",
      "WARNING: Ignoring invalid distribution -ffi (c:\\users\\pritesh borad\\anaconda3\\lib\\site-packages)\n"
     ]
    },
    {
     "name": "stdout",
     "output_type": "stream",
     "text": [
      "Requirement already satisfied: datetime in c:\\users\\pritesh borad\\anaconda3\\lib\\site-packages (4.3)\n",
      "Requirement already satisfied: pytz in c:\\users\\pritesh borad\\anaconda3\\lib\\site-packages (from datetime) (2018.7)\n",
      "Requirement already satisfied: zope.interface in c:\\users\\pritesh borad\\anaconda3\\lib\\site-packages (from datetime) (4.6.0)\n",
      "Requirement already satisfied: setuptools in c:\\users\\pritesh borad\\anaconda3\\lib\\site-packages (from zope.interface->datetime) (57.4.0)\n"
     ]
    },
    {
     "name": "stderr",
     "output_type": "stream",
     "text": [
      "WARNING: Ignoring invalid distribution -illow (c:\\users\\pritesh borad\\anaconda3\\lib\\site-packages)\n",
      "WARNING: Ignoring invalid distribution -ffi (c:\\users\\pritesh borad\\anaconda3\\lib\\site-packages)\n",
      "WARNING: Ignoring invalid distribution -illow (c:\\users\\pritesh borad\\anaconda3\\lib\\site-packages)\n",
      "WARNING: Ignoring invalid distribution -ffi (c:\\users\\pritesh borad\\anaconda3\\lib\\site-packages)\n",
      "WARNING: Ignoring invalid distribution -illow (c:\\users\\pritesh borad\\anaconda3\\lib\\site-packages)\n",
      "WARNING: Ignoring invalid distribution -ffi (c:\\users\\pritesh borad\\anaconda3\\lib\\site-packages)\n",
      "WARNING: Ignoring invalid distribution -illow (c:\\users\\pritesh borad\\anaconda3\\lib\\site-packages)\n",
      "WARNING: Ignoring invalid distribution -ffi (c:\\users\\pritesh borad\\anaconda3\\lib\\site-packages)\n",
      "WARNING: Ignoring invalid distribution -illow (c:\\users\\pritesh borad\\anaconda3\\lib\\site-packages)\n",
      "WARNING: Ignoring invalid distribution -ffi (c:\\users\\pritesh borad\\anaconda3\\lib\\site-packages)\n"
     ]
    },
    {
     "name": "stdout",
     "output_type": "stream",
     "text": [
      "Requirement already satisfied: tensorflow in c:\\users\\pritesh borad\\anaconda3\\lib\\site-packages (2.6.2)\n",
      "Requirement already satisfied: h5py~=3.1.0 in c:\\users\\pritesh borad\\anaconda3\\lib\\site-packages (from tensorflow) (3.1.0)\n",
      "Requirement already satisfied: protobuf>=3.9.2 in c:\\users\\pritesh borad\\anaconda3\\lib\\site-packages (from tensorflow) (3.11.3)\n",
      "Requirement already satisfied: numpy~=1.19.2 in c:\\users\\pritesh borad\\anaconda3\\lib\\site-packages (from tensorflow) (1.19.5)\n",
      "Requirement already satisfied: keras<2.7,>=2.6.0 in c:\\users\\pritesh borad\\anaconda3\\lib\\site-packages (from tensorflow) (2.6.0)\n",
      "Requirement already satisfied: keras-preprocessing~=1.1.2 in c:\\users\\pritesh borad\\anaconda3\\lib\\site-packages (from tensorflow) (1.1.2)\n",
      "Requirement already satisfied: termcolor~=1.1.0 in c:\\users\\pritesh borad\\anaconda3\\lib\\site-packages (from tensorflow) (1.1.0)\n",
      "Requirement already satisfied: tensorflow-estimator<2.7,>=2.6.0 in c:\\users\\pritesh borad\\anaconda3\\lib\\site-packages (from tensorflow) (2.6.0)\n",
      "Requirement already satisfied: opt-einsum~=3.3.0 in c:\\users\\pritesh borad\\anaconda3\\lib\\site-packages (from tensorflow) (3.3.0)\n",
      "Requirement already satisfied: six~=1.15.0 in c:\\users\\pritesh borad\\anaconda3\\lib\\site-packages (from tensorflow) (1.15.0)\n",
      "Requirement already satisfied: wheel~=0.35 in c:\\users\\pritesh borad\\anaconda3\\lib\\site-packages (from tensorflow) (0.37.0)\n",
      "Requirement already satisfied: grpcio<2.0,>=1.37.0 in c:\\users\\pritesh borad\\anaconda3\\lib\\site-packages (from tensorflow) (1.43.0)\n",
      "Requirement already satisfied: absl-py~=0.10 in c:\\users\\pritesh borad\\anaconda3\\lib\\site-packages (from tensorflow) (0.15.0)\n",
      "Requirement already satisfied: flatbuffers~=1.12.0 in c:\\users\\pritesh borad\\anaconda3\\lib\\site-packages (from tensorflow) (1.12)\n",
      "Requirement already satisfied: typing-extensions~=3.7.4 in c:\\users\\pritesh borad\\anaconda3\\lib\\site-packages (from tensorflow) (3.7.4.3)\n",
      "Requirement already satisfied: wrapt~=1.12.1 in c:\\users\\pritesh borad\\anaconda3\\lib\\site-packages (from tensorflow) (1.12.1)\n",
      "Requirement already satisfied: gast==0.4.0 in c:\\users\\pritesh borad\\anaconda3\\lib\\site-packages (from tensorflow) (0.4.0)\n",
      "Requirement already satisfied: clang~=5.0 in c:\\users\\pritesh borad\\anaconda3\\lib\\site-packages (from tensorflow) (5.0)\n",
      "Requirement already satisfied: google-pasta~=0.2 in c:\\users\\pritesh borad\\anaconda3\\lib\\site-packages (from tensorflow) (0.2.0)\n",
      "Requirement already satisfied: tensorboard<2.7,>=2.6.0 in c:\\users\\pritesh borad\\anaconda3\\lib\\site-packages (from tensorflow) (2.6.0)\n",
      "Requirement already satisfied: astunparse~=1.6.3 in c:\\users\\pritesh borad\\anaconda3\\lib\\site-packages (from tensorflow) (1.6.3)\n",
      "Requirement already satisfied: cached-property in c:\\users\\pritesh borad\\anaconda3\\lib\\site-packages (from h5py~=3.1.0->tensorflow) (1.5.2)\n",
      "Requirement already satisfied: setuptools in c:\\users\\pritesh borad\\anaconda3\\lib\\site-packages (from protobuf>=3.9.2->tensorflow) (57.4.0)\n",
      "Requirement already satisfied: tensorboard-data-server<0.7.0,>=0.6.0 in c:\\users\\pritesh borad\\anaconda3\\lib\\site-packages (from tensorboard<2.7,>=2.6.0->tensorflow) (0.6.1)\n",
      "Requirement already satisfied: markdown>=2.6.8 in c:\\users\\pritesh borad\\anaconda3\\lib\\site-packages (from tensorboard<2.7,>=2.6.0->tensorflow) (3.2.1)\n",
      "Requirement already satisfied: google-auth<2,>=1.6.3 in c:\\users\\pritesh borad\\anaconda3\\lib\\site-packages (from tensorboard<2.7,>=2.6.0->tensorflow) (1.34.0)\n",
      "Requirement already satisfied: tensorboard-plugin-wit>=1.6.0 in c:\\users\\pritesh borad\\anaconda3\\lib\\site-packages (from tensorboard<2.7,>=2.6.0->tensorflow) (1.8.0)\n",
      "Requirement already satisfied: google-auth-oauthlib<0.5,>=0.4.1 in c:\\users\\pritesh borad\\anaconda3\\lib\\site-packages (from tensorboard<2.7,>=2.6.0->tensorflow) (0.4.1)\n",
      "Requirement already satisfied: werkzeug>=0.11.15 in c:\\users\\pritesh borad\\anaconda3\\lib\\site-packages (from tensorboard<2.7,>=2.6.0->tensorflow) (2.0.1)\n",
      "Requirement already satisfied: requests<3,>=2.21.0 in c:\\users\\pritesh borad\\anaconda3\\lib\\site-packages (from tensorboard<2.7,>=2.6.0->tensorflow) (2.26.0)\n",
      "Requirement already satisfied: pyasn1-modules>=0.2.1 in c:\\users\\pritesh borad\\anaconda3\\lib\\site-packages (from google-auth<2,>=1.6.3->tensorboard<2.7,>=2.6.0->tensorflow) (0.2.8)\n",
      "Requirement already satisfied: cachetools<5.0,>=2.0.0 in c:\\users\\pritesh borad\\anaconda3\\lib\\site-packages (from google-auth<2,>=1.6.3->tensorboard<2.7,>=2.6.0->tensorflow) (4.2.2)\n",
      "Requirement already satisfied: rsa<5,>=3.1.4 in c:\\users\\pritesh borad\\anaconda3\\lib\\site-packages (from google-auth<2,>=1.6.3->tensorboard<2.7,>=2.6.0->tensorflow) (4.7.2)\n",
      "Requirement already satisfied: requests-oauthlib>=0.7.0 in c:\\users\\pritesh borad\\anaconda3\\lib\\site-packages (from google-auth-oauthlib<0.5,>=0.4.1->tensorboard<2.7,>=2.6.0->tensorflow) (1.3.0)\n",
      "Requirement already satisfied: idna<4,>=2.5 in c:\\users\\pritesh borad\\anaconda3\\lib\\site-packages (from requests<3,>=2.21.0->tensorboard<2.7,>=2.6.0->tensorflow) (3.2)\n",
      "Requirement already satisfied: certifi>=2017.4.17 in c:\\users\\pritesh borad\\anaconda3\\lib\\site-packages (from requests<3,>=2.21.0->tensorboard<2.7,>=2.6.0->tensorflow) (2021.5.30)\n",
      "Requirement already satisfied: charset-normalizer~=2.0.0 in c:\\users\\pritesh borad\\anaconda3\\lib\\site-packages (from requests<3,>=2.21.0->tensorboard<2.7,>=2.6.0->tensorflow) (2.0.4)\n",
      "Requirement already satisfied: urllib3<1.27,>=1.21.1 in c:\\users\\pritesh borad\\anaconda3\\lib\\site-packages (from requests<3,>=2.21.0->tensorboard<2.7,>=2.6.0->tensorflow) (1.26.6)\n",
      "Requirement already satisfied: dataclasses in c:\\users\\pritesh borad\\anaconda3\\lib\\site-packages (from werkzeug>=0.11.15->tensorboard<2.7,>=2.6.0->tensorflow) (0.8)\n",
      "Requirement already satisfied: pyasn1<0.5.0,>=0.4.6 in c:\\users\\pritesh borad\\anaconda3\\lib\\site-packages (from pyasn1-modules>=0.2.1->google-auth<2,>=1.6.3->tensorboard<2.7,>=2.6.0->tensorflow) (0.4.8)\n",
      "Requirement already satisfied: oauthlib>=3.0.0 in c:\\users\\pritesh borad\\anaconda3\\lib\\site-packages (from requests-oauthlib>=0.7.0->google-auth-oauthlib<0.5,>=0.4.1->tensorboard<2.7,>=2.6.0->tensorflow) (3.1.1)\n"
     ]
    },
    {
     "name": "stderr",
     "output_type": "stream",
     "text": [
      "WARNING: Ignoring invalid distribution -illow (c:\\users\\pritesh borad\\anaconda3\\lib\\site-packages)\n",
      "WARNING: Ignoring invalid distribution -ffi (c:\\users\\pritesh borad\\anaconda3\\lib\\site-packages)\n",
      "WARNING: Ignoring invalid distribution -illow (c:\\users\\pritesh borad\\anaconda3\\lib\\site-packages)\n",
      "WARNING: Ignoring invalid distribution -ffi (c:\\users\\pritesh borad\\anaconda3\\lib\\site-packages)\n",
      "WARNING: Ignoring invalid distribution -illow (c:\\users\\pritesh borad\\anaconda3\\lib\\site-packages)\n",
      "WARNING: Ignoring invalid distribution -ffi (c:\\users\\pritesh borad\\anaconda3\\lib\\site-packages)\n",
      "WARNING: Ignoring invalid distribution -illow (c:\\users\\pritesh borad\\anaconda3\\lib\\site-packages)\n",
      "WARNING: Ignoring invalid distribution -ffi (c:\\users\\pritesh borad\\anaconda3\\lib\\site-packages)\n",
      "WARNING: Ignoring invalid distribution -illow (c:\\users\\pritesh borad\\anaconda3\\lib\\site-packages)\n",
      "WARNING: Ignoring invalid distribution -ffi (c:\\users\\pritesh borad\\anaconda3\\lib\\site-packages)\n"
     ]
    },
    {
     "name": "stdout",
     "output_type": "stream",
     "text": [
      "Requirement already satisfied: sklearn in c:\\users\\pritesh borad\\anaconda3\\lib\\site-packages (0.0)\n",
      "Requirement already satisfied: scikit-learn in c:\\users\\pritesh borad\\anaconda3\\lib\\site-packages (from sklearn) (0.20.0)\n",
      "Requirement already satisfied: numpy>=1.8.2 in c:\\users\\pritesh borad\\anaconda3\\lib\\site-packages (from scikit-learn->sklearn) (1.19.5)\n",
      "Requirement already satisfied: scipy>=0.13.3 in c:\\users\\pritesh borad\\anaconda3\\lib\\site-packages (from scikit-learn->sklearn) (1.2.0)\n"
     ]
    },
    {
     "name": "stderr",
     "output_type": "stream",
     "text": [
      "WARNING: Ignoring invalid distribution -illow (c:\\users\\pritesh borad\\anaconda3\\lib\\site-packages)\n",
      "WARNING: Ignoring invalid distribution -ffi (c:\\users\\pritesh borad\\anaconda3\\lib\\site-packages)\n",
      "WARNING: Ignoring invalid distribution -illow (c:\\users\\pritesh borad\\anaconda3\\lib\\site-packages)\n",
      "WARNING: Ignoring invalid distribution -ffi (c:\\users\\pritesh borad\\anaconda3\\lib\\site-packages)\n",
      "WARNING: Ignoring invalid distribution -illow (c:\\users\\pritesh borad\\anaconda3\\lib\\site-packages)\n",
      "WARNING: Ignoring invalid distribution -ffi (c:\\users\\pritesh borad\\anaconda3\\lib\\site-packages)\n",
      "WARNING: Ignoring invalid distribution -illow (c:\\users\\pritesh borad\\anaconda3\\lib\\site-packages)\n",
      "WARNING: Ignoring invalid distribution -ffi (c:\\users\\pritesh borad\\anaconda3\\lib\\site-packages)\n",
      "WARNING: Ignoring invalid distribution -illow (c:\\users\\pritesh borad\\anaconda3\\lib\\site-packages)\n",
      "WARNING: Ignoring invalid distribution -ffi (c:\\users\\pritesh borad\\anaconda3\\lib\\site-packages)\n"
     ]
    },
    {
     "name": "stdout",
     "output_type": "stream",
     "text": [
      "Requirement already satisfied: pandas in c:\\users\\pritesh borad\\anaconda3\\lib\\site-packages (1.0.3)\n",
      "Requirement already satisfied: python-dateutil>=2.6.1 in c:\\users\\pritesh borad\\anaconda3\\lib\\site-packages (from pandas) (2.8.2)\n",
      "Requirement already satisfied: pytz>=2017.2 in c:\\users\\pritesh borad\\anaconda3\\lib\\site-packages (from pandas) (2018.7)\n",
      "Requirement already satisfied: numpy>=1.13.3 in c:\\users\\pritesh borad\\anaconda3\\lib\\site-packages (from pandas) (1.19.5)\n",
      "Requirement already satisfied: six>=1.5 in c:\\users\\pritesh borad\\anaconda3\\lib\\site-packages (from python-dateutil>=2.6.1->pandas) (1.15.0)\n"
     ]
    },
    {
     "name": "stderr",
     "output_type": "stream",
     "text": [
      "WARNING: Ignoring invalid distribution -illow (c:\\users\\pritesh borad\\anaconda3\\lib\\site-packages)\n",
      "WARNING: Ignoring invalid distribution -ffi (c:\\users\\pritesh borad\\anaconda3\\lib\\site-packages)\n",
      "WARNING: Ignoring invalid distribution -illow (c:\\users\\pritesh borad\\anaconda3\\lib\\site-packages)\n",
      "WARNING: Ignoring invalid distribution -ffi (c:\\users\\pritesh borad\\anaconda3\\lib\\site-packages)\n",
      "WARNING: Ignoring invalid distribution -illow (c:\\users\\pritesh borad\\anaconda3\\lib\\site-packages)\n",
      "WARNING: Ignoring invalid distribution -ffi (c:\\users\\pritesh borad\\anaconda3\\lib\\site-packages)\n",
      "WARNING: Ignoring invalid distribution -illow (c:\\users\\pritesh borad\\anaconda3\\lib\\site-packages)\n",
      "WARNING: Ignoring invalid distribution -ffi (c:\\users\\pritesh borad\\anaconda3\\lib\\site-packages)\n",
      "WARNING: Ignoring invalid distribution -illow (c:\\users\\pritesh borad\\anaconda3\\lib\\site-packages)\n",
      "WARNING: Ignoring invalid distribution -ffi (c:\\users\\pritesh borad\\anaconda3\\lib\\site-packages)\n"
     ]
    }
   ],
   "source": [
    "! pip install --upgrade pip\n",
    "! pip install matplotlib\n",
    "! pip install numpy\n",
    "! pip install datetime\n",
    "! pip install tensorflow\n",
    "! pip install sklearn\n",
    "! pip install pandas"
   ]
  },
  {
   "cell_type": "markdown",
   "metadata": {
    "id": "5h9YoJZQKDOg"
   },
   "source": [
    "### Importing all the libraries"
   ]
  },
  {
   "cell_type": "code",
   "execution_count": 1,
   "metadata": {
    "id": "En7O8BA4juwm"
   },
   "outputs": [],
   "source": [
    "import pandas as pd\n",
    "import matplotlib.pyplot as plt\n",
    "from datetime import time\n",
    "from datetime import datetime"
   ]
  },
  {
   "cell_type": "markdown",
   "metadata": {},
   "source": [
    "### Model for 1-5 min"
   ]
  },
  {
   "cell_type": "code",
   "execution_count": 2,
   "metadata": {},
   "outputs": [],
   "source": [
    "data_1 = pd.read_csv('BANKNIFTY/BANKNIFTY-I/'+ str(2012)+'/BANKNIFTY-I.csv')\n",
    "year = 2013\n",
    "for i in range(10):\n",
    "    data_1_1 = pd.read_csv('BANKNIFTY/BANKNIFTY-I/'+ str(year)+'/BANKNIFTY-I.csv')\n",
    "    data_1 = data_1.append(data_1_1)\n",
    "    year = year+1\n"
   ]
  },
  {
   "cell_type": "code",
   "execution_count": 3,
   "metadata": {},
   "outputs": [
    {
     "data": {
      "text/html": [
       "<div>\n",
       "<style scoped>\n",
       "    .dataframe tbody tr th:only-of-type {\n",
       "        vertical-align: middle;\n",
       "    }\n",
       "\n",
       "    .dataframe tbody tr th {\n",
       "        vertical-align: top;\n",
       "    }\n",
       "\n",
       "    .dataframe thead th {\n",
       "        text-align: right;\n",
       "    }\n",
       "</style>\n",
       "<table border=\"1\" class=\"dataframe\">\n",
       "  <thead>\n",
       "    <tr style=\"text-align: right;\">\n",
       "      <th></th>\n",
       "      <th>Date</th>\n",
       "      <th>Time</th>\n",
       "      <th>open</th>\n",
       "      <th>high</th>\n",
       "      <th>low</th>\n",
       "      <th>close</th>\n",
       "      <th>volume</th>\n",
       "      <th>oi</th>\n",
       "    </tr>\n",
       "  </thead>\n",
       "  <tbody>\n",
       "    <tr>\n",
       "      <th>0</th>\n",
       "      <td>20120102</td>\n",
       "      <td>09:15</td>\n",
       "      <td>7964.00</td>\n",
       "      <td>7980.00</td>\n",
       "      <td>7931.55</td>\n",
       "      <td>7955.95</td>\n",
       "      <td>9850</td>\n",
       "      <td>1804550</td>\n",
       "    </tr>\n",
       "    <tr>\n",
       "      <th>1</th>\n",
       "      <td>20120102</td>\n",
       "      <td>09:16</td>\n",
       "      <td>7952.35</td>\n",
       "      <td>7957.95</td>\n",
       "      <td>7930.55</td>\n",
       "      <td>7938.00</td>\n",
       "      <td>8350</td>\n",
       "      <td>1804550</td>\n",
       "    </tr>\n",
       "    <tr>\n",
       "      <th>2</th>\n",
       "      <td>20120102</td>\n",
       "      <td>09:17</td>\n",
       "      <td>7938.00</td>\n",
       "      <td>7962.20</td>\n",
       "      <td>7937.00</td>\n",
       "      <td>7960.00</td>\n",
       "      <td>6600</td>\n",
       "      <td>1811250</td>\n",
       "    </tr>\n",
       "    <tr>\n",
       "      <th>3</th>\n",
       "      <td>20120102</td>\n",
       "      <td>09:18</td>\n",
       "      <td>7960.00</td>\n",
       "      <td>7967.25</td>\n",
       "      <td>7957.00</td>\n",
       "      <td>7966.00</td>\n",
       "      <td>5225</td>\n",
       "      <td>1811250</td>\n",
       "    </tr>\n",
       "    <tr>\n",
       "      <th>4</th>\n",
       "      <td>20120102</td>\n",
       "      <td>09:19</td>\n",
       "      <td>7967.00</td>\n",
       "      <td>7970.00</td>\n",
       "      <td>7962.30</td>\n",
       "      <td>7965.00</td>\n",
       "      <td>5500</td>\n",
       "      <td>1811250</td>\n",
       "    </tr>\n",
       "    <tr>\n",
       "      <th>...</th>\n",
       "      <td>...</td>\n",
       "      <td>...</td>\n",
       "      <td>...</td>\n",
       "      <td>...</td>\n",
       "      <td>...</td>\n",
       "      <td>...</td>\n",
       "      <td>...</td>\n",
       "      <td>...</td>\n",
       "    </tr>\n",
       "    <tr>\n",
       "      <th>10519</th>\n",
       "      <td>20220210</td>\n",
       "      <td>15:26:00</td>\n",
       "      <td>39015.65</td>\n",
       "      <td>39019.95</td>\n",
       "      <td>39011.95</td>\n",
       "      <td>39014.00</td>\n",
       "      <td>20875</td>\n",
       "      <td>2029175</td>\n",
       "    </tr>\n",
       "    <tr>\n",
       "      <th>10520</th>\n",
       "      <td>20220210</td>\n",
       "      <td>15:27:00</td>\n",
       "      <td>39012.60</td>\n",
       "      <td>39017.15</td>\n",
       "      <td>39006.40</td>\n",
       "      <td>39009.30</td>\n",
       "      <td>19925</td>\n",
       "      <td>2022250</td>\n",
       "    </tr>\n",
       "    <tr>\n",
       "      <th>10521</th>\n",
       "      <td>20220210</td>\n",
       "      <td>15:28:00</td>\n",
       "      <td>39011.05</td>\n",
       "      <td>39012.55</td>\n",
       "      <td>39004.20</td>\n",
       "      <td>39011.25</td>\n",
       "      <td>32075</td>\n",
       "      <td>2022250</td>\n",
       "    </tr>\n",
       "    <tr>\n",
       "      <th>10522</th>\n",
       "      <td>20220210</td>\n",
       "      <td>15:29:00</td>\n",
       "      <td>39015.00</td>\n",
       "      <td>39027.95</td>\n",
       "      <td>39012.05</td>\n",
       "      <td>39020.00</td>\n",
       "      <td>21200</td>\n",
       "      <td>2022250</td>\n",
       "    </tr>\n",
       "    <tr>\n",
       "      <th>10523</th>\n",
       "      <td>20220210</td>\n",
       "      <td>15:30:00</td>\n",
       "      <td>39035.00</td>\n",
       "      <td>39035.00</td>\n",
       "      <td>39035.00</td>\n",
       "      <td>39035.00</td>\n",
       "      <td>425</td>\n",
       "      <td>2022250</td>\n",
       "    </tr>\n",
       "  </tbody>\n",
       "</table>\n",
       "<p>937739 rows × 8 columns</p>\n",
       "</div>"
      ],
      "text/plain": [
       "           Date      Time      open      high       low     close  volume  \\\n",
       "0      20120102     09:15   7964.00   7980.00   7931.55   7955.95    9850   \n",
       "1      20120102     09:16   7952.35   7957.95   7930.55   7938.00    8350   \n",
       "2      20120102     09:17   7938.00   7962.20   7937.00   7960.00    6600   \n",
       "3      20120102     09:18   7960.00   7967.25   7957.00   7966.00    5225   \n",
       "4      20120102     09:19   7967.00   7970.00   7962.30   7965.00    5500   \n",
       "...         ...       ...       ...       ...       ...       ...     ...   \n",
       "10519  20220210  15:26:00  39015.65  39019.95  39011.95  39014.00   20875   \n",
       "10520  20220210  15:27:00  39012.60  39017.15  39006.40  39009.30   19925   \n",
       "10521  20220210  15:28:00  39011.05  39012.55  39004.20  39011.25   32075   \n",
       "10522  20220210  15:29:00  39015.00  39027.95  39012.05  39020.00   21200   \n",
       "10523  20220210  15:30:00  39035.00  39035.00  39035.00  39035.00     425   \n",
       "\n",
       "            oi  \n",
       "0      1804550  \n",
       "1      1804550  \n",
       "2      1811250  \n",
       "3      1811250  \n",
       "4      1811250  \n",
       "...        ...  \n",
       "10519  2029175  \n",
       "10520  2022250  \n",
       "10521  2022250  \n",
       "10522  2022250  \n",
       "10523  2022250  \n",
       "\n",
       "[937739 rows x 8 columns]"
      ]
     },
     "execution_count": 3,
     "metadata": {},
     "output_type": "execute_result"
    }
   ],
   "source": [
    "data_1"
   ]
  },
  {
   "cell_type": "code",
   "execution_count": 4,
   "metadata": {},
   "outputs": [],
   "source": [
    "data_1 = data_1[['Date','Time','close','volume']]"
   ]
  },
  {
   "cell_type": "code",
   "execution_count": 5,
   "metadata": {},
   "outputs": [],
   "source": [
    "data_1.reset_index(drop=True, inplace=True)\n",
    "data_1.to_csv('BANKNIFTY/appended/data_1.csv',index=False)"
   ]
  },
  {
   "cell_type": "code",
   "execution_count": 6,
   "metadata": {
    "colab": {
     "base_uri": "https://localhost:8080/",
     "height": 205
    },
    "id": "waPLUhqP-TQ3",
    "outputId": "f1be17af-40ef-45ab-b8ca-6087b479efb9"
   },
   "outputs": [
    {
     "data": {
      "text/html": [
       "<div>\n",
       "<style scoped>\n",
       "    .dataframe tbody tr th:only-of-type {\n",
       "        vertical-align: middle;\n",
       "    }\n",
       "\n",
       "    .dataframe tbody tr th {\n",
       "        vertical-align: top;\n",
       "    }\n",
       "\n",
       "    .dataframe thead th {\n",
       "        text-align: right;\n",
       "    }\n",
       "</style>\n",
       "<table border=\"1\" class=\"dataframe\">\n",
       "  <thead>\n",
       "    <tr style=\"text-align: right;\">\n",
       "      <th></th>\n",
       "      <th>Date</th>\n",
       "      <th>Time</th>\n",
       "      <th>close</th>\n",
       "      <th>volume</th>\n",
       "    </tr>\n",
       "  </thead>\n",
       "  <tbody>\n",
       "    <tr>\n",
       "      <th>937734</th>\n",
       "      <td>20220210</td>\n",
       "      <td>15:26:00</td>\n",
       "      <td>39014.00</td>\n",
       "      <td>20875</td>\n",
       "    </tr>\n",
       "    <tr>\n",
       "      <th>937735</th>\n",
       "      <td>20220210</td>\n",
       "      <td>15:27:00</td>\n",
       "      <td>39009.30</td>\n",
       "      <td>19925</td>\n",
       "    </tr>\n",
       "    <tr>\n",
       "      <th>937736</th>\n",
       "      <td>20220210</td>\n",
       "      <td>15:28:00</td>\n",
       "      <td>39011.25</td>\n",
       "      <td>32075</td>\n",
       "    </tr>\n",
       "    <tr>\n",
       "      <th>937737</th>\n",
       "      <td>20220210</td>\n",
       "      <td>15:29:00</td>\n",
       "      <td>39020.00</td>\n",
       "      <td>21200</td>\n",
       "    </tr>\n",
       "    <tr>\n",
       "      <th>937738</th>\n",
       "      <td>20220210</td>\n",
       "      <td>15:30:00</td>\n",
       "      <td>39035.00</td>\n",
       "      <td>425</td>\n",
       "    </tr>\n",
       "  </tbody>\n",
       "</table>\n",
       "</div>"
      ],
      "text/plain": [
       "            Date      Time     close  volume\n",
       "937734  20220210  15:26:00  39014.00   20875\n",
       "937735  20220210  15:27:00  39009.30   19925\n",
       "937736  20220210  15:28:00  39011.25   32075\n",
       "937737  20220210  15:29:00  39020.00   21200\n",
       "937738  20220210  15:30:00  39035.00     425"
      ]
     },
     "execution_count": 6,
     "metadata": {},
     "output_type": "execute_result"
    }
   ],
   "source": [
    "df_1 = pd.read_csv('BANKNIFTY/appended/data_1.csv')\n",
    "df_1 = pd.DataFrame(df_1)\n",
    "df_1.tail()"
   ]
  },
  {
   "cell_type": "code",
   "execution_count": 7,
   "metadata": {
    "colab": {
     "base_uri": "https://localhost:8080/",
     "height": 422
    },
    "id": "HNBe7nZRu5Fb",
    "outputId": "0c59bc31-de4b-464f-deb4-4c4277f2b7e2"
   },
   "outputs": [
    {
     "data": {
      "image/png": "[encoded data removed]",
      "text/plain": [
       "<Figure size 1152x576 with 1 Axes>"
      ]
     },
     "metadata": {
      "needs_background": "light"
     },
     "output_type": "display_data"
    }
   ],
   "source": [
    "plt.figure(figsize = (16,8))\n",
    "plt.title('Nifty 11 years')\n",
    "plt.plot(df_1.close)\n",
    "plt.show()"
   ]
  },
  {
   "cell_type": "code",
   "execution_count": 24,
   "metadata": {},
   "outputs": [
    {
     "name": "stdout",
     "output_type": "stream",
     "text": [
      "(797078, 4)\n",
      "(140661, 4)\n"
     ]
    }
   ],
   "source": [
    "training_size= int(0.85*len(df_1))\n",
    "test_size=len(df_1)-training_size\n",
    "train_data,test_data=df_1[0:training_size],df_1[training_size:len(df_1)]\n",
    "print(train_data.shape)\n",
    "print(test_data.shape)"
   ]
  },
  {
   "cell_type": "code",
   "execution_count": 25,
   "metadata": {},
   "outputs": [],
   "source": [
    "df11 = train_data['close']\n",
    "df22 = train_data['volume']"
   ]
  },
  {
   "cell_type": "code",
   "execution_count": 26,
   "metadata": {},
   "outputs": [
    {
     "name": "stdout",
     "output_type": "stream",
     "text": [
      "(797078, 2)\n",
      "[[0.00304958 0.01848377]\n",
      " [0.00232837 0.01566898]\n",
      " [0.0032123  0.01238506]\n",
      " ...\n",
      " [0.56833021 0.01998499]\n",
      " [0.56856324 0.01018015]\n",
      " [0.56841056 0.00881967]]\n"
     ]
    },
    {
     "name": "stderr",
     "output_type": "stream",
     "text": [
      "C:\\Users\\Pritesh Borad\\Anaconda3\\lib\\site-packages\\sklearn\\utils\\validation.py:590: DataConversionWarning: Data with input dtype int64 was converted to float64 by MinMaxScaler.\n",
      "  warnings.warn(msg, DataConversionWarning)\n"
     ]
    }
   ],
   "source": [
    "import numpy as np\n",
    "from sklearn.preprocessing import MinMaxScaler\n",
    "import pickle\n",
    "\n",
    "df11 = df11.values\n",
    "df22 = df22.values\n",
    "\n",
    "df11 = df11.reshape((len(df11), 1))\n",
    "df22 = df22.reshape((len(df22), 1))\n",
    "\n",
    "scaler = MinMaxScaler(feature_range=(0, 1))\n",
    "scaler1 = MinMaxScaler(feature_range=(0, 1))\n",
    "df11_scaled = scaler.fit_transform(df11)\n",
    "df22_scaled = scaler1.fit_transform(df22)\n",
    "\n",
    "dataset_stacked = np.hstack((df11_scaled, df22_scaled))\n",
    "pickle.dump(scaler, open(\"Train_5min_scale_ltp.pkl\", 'wb'))\n",
    "pickle.dump(scaler1, open(\"Train_5min_scale_ltq.pkl\", 'wb'))\n",
    "print(dataset_stacked.shape)\n",
    "print(dataset_stacked)\n"
   ]
  },
  {
   "cell_type": "code",
   "execution_count": 48,
   "metadata": {},
   "outputs": [],
   "source": [
    "def to_supervised(train, n_input, n_out):\n",
    "\t# flatten data\n",
    "\tX, y = [], []\n",
    "\tin_start = 0\n",
    "\t# step over the entire history one time step at a time\n",
    "\tfor _ in range(len(train)):\n",
    "\t\t# define the end of the input sequence\n",
    "\t\tin_end = in_start + n_input\n",
    "\t\tout_end = in_end + n_out\n",
    "\t\t# ensure we have enough data for this instance\n",
    "\t\tif out_end+5 < len(train):\n",
    "\t\t\tx_input = train[in_start:in_end]\n",
    "\t\t\tx_input = x_input.reshape((len(x_input), 2))\n",
    "\t\t\tX.append(x_input)\n",
    "\t\t\ty.append(train[9+in_start, 0])\n",
    "\t\t# move along one time step\n",
    "\t\tin_start += 1\n",
    "\treturn np.array(X), np.array(y)"
   ]
  },
  {
   "cell_type": "code",
   "execution_count": 51,
   "metadata": {},
   "outputs": [
    {
     "name": "stdout",
     "output_type": "stream",
     "text": [
      "(797067, 5, 2)\n",
      "(797067,)\n",
      "[[[0.00304958 0.01848377]\n",
      "  [0.00232837 0.01566898]\n",
      "  [0.0032123  0.01238506]\n",
      "  [0.00345337 0.00980484]\n",
      "  [0.0034132  0.01032089]]\n",
      "\n",
      " [[0.00232837 0.01566898]\n",
      "  [0.0032123  0.01238506]\n",
      "  [0.00345337 0.00980484]\n",
      "  [0.0034132  0.01032089]\n",
      "  [0.00401588 0.01726403]]\n",
      "\n",
      " [[0.0032123  0.01238506]\n",
      "  [0.00345337 0.00980484]\n",
      "  [0.0034132  0.01032089]\n",
      "  [0.00401588 0.01726403]\n",
      "  [0.00365829 0.00844436]]\n",
      "\n",
      " [[0.00345337 0.00980484]\n",
      "  [0.0034132  0.01032089]\n",
      "  [0.00401588 0.01726403]\n",
      "  [0.00365829 0.00844436]\n",
      "  [0.00360605 0.00844436]]\n",
      "\n",
      " [[0.0034132  0.01032089]\n",
      "  [0.00401588 0.01726403]\n",
      "  [0.00365829 0.00844436]\n",
      "  [0.00360605 0.00844436]\n",
      "  [0.00357391 0.01792081]]\n",
      "\n",
      " [[0.00401588 0.01726403]\n",
      "  [0.00365829 0.00844436]\n",
      "  [0.00360605 0.00844436]\n",
      "  [0.00357391 0.01792081]\n",
      "  [0.00366833 0.01243198]]\n",
      "\n",
      " [[0.00365829 0.00844436]\n",
      "  [0.00360605 0.00844436]\n",
      "  [0.00357391 0.01792081]\n",
      "  [0.00366833 0.01243198]\n",
      "  [0.00381498 0.01595046]]\n",
      "\n",
      " [[0.00360605 0.00844436]\n",
      "  [0.00357391 0.01792081]\n",
      "  [0.00366833 0.01243198]\n",
      "  [0.00381498 0.01595046]\n",
      "  [0.00361409 0.0082098 ]]\n",
      "\n",
      " [[0.00357391 0.01792081]\n",
      "  [0.00366833 0.01243198]\n",
      "  [0.00381498 0.01595046]\n",
      "  [0.00361409 0.0082098 ]\n",
      "  [0.00442169 0.0164665 ]]\n",
      "\n",
      " [[0.00366833 0.01243198]\n",
      "  [0.00381498 0.01595046]\n",
      "  [0.00361409 0.0082098 ]\n",
      "  [0.00442169 0.0164665 ]\n",
      "  [0.00445986 0.00806906]]\n",
      "\n",
      " [[0.00381498 0.01595046]\n",
      "  [0.00361409 0.0082098 ]\n",
      "  [0.00442169 0.0164665 ]\n",
      "  [0.00445986 0.00806906]\n",
      "  [0.00443977 0.01351098]]]\n",
      "[0.00366833 0.00381498 0.00361409 ... 0.5688465  0.56817552 0.56833021]\n"
     ]
    }
   ],
   "source": [
    "X_train, y_train = to_supervised(dataset_stacked,5,1)\n",
    "print(X_train.shape), print(y_train.shape)\n",
    "print(X_train[0:11])\n",
    "print(y_train)"
   ]
  },
  {
   "cell_type": "code",
   "execution_count": 52,
   "metadata": {},
   "outputs": [],
   "source": [
    "#deep learning model\n",
    "\n",
    "from tensorflow.keras.models import Sequential\n",
    "from tensorflow.keras.layers import Dense\n",
    "from tensorflow.keras.layers import LSTM, Dropout\n",
    "import tensorflow as tf\n",
    "\n",
    "model=Sequential()\n",
    "model.add(LSTM(50,return_sequences=True,input_shape=(5,2)))\n",
    "#model.add(Dropout(0.2))\n",
    "model.add(LSTM(100,return_sequences=False))\n",
    "#model.add(Dropout(0.2))\n",
    "#model.add(LSTM(70,return_sequences=False))\n",
    "#model.add(Dropout(0.2))\n",
    "model.add(Dense(100))\n",
    "model.add(Dense(1))\n",
    "model.compile(loss='mean_squared_error',optimizer='adam')"
   ]
  },
  {
   "cell_type": "code",
   "execution_count": 63,
   "metadata": {},
   "outputs": [
    {
     "name": "stdout",
     "output_type": "stream",
     "text": [
      "Epoch 1/2\n",
      "12455/12455 [==============================] - 98s 8ms/step - loss: 2.8438e-06\n",
      "Epoch 2/2\n",
      "12455/12455 [==============================] - 95s 8ms/step - loss: 2.8740e-06\n"
     ]
    },
    {
     "data": {
      "text/plain": [
       "<keras.callbacks.History at 0x19acdb46e80>"
      ]
     },
     "execution_count": 63,
     "metadata": {},
     "output_type": "execute_result"
    }
   ],
   "source": [
    "model.fit(X_train,y_train,epochs=2,batch_size=64,verbose=1)"
   ]
  },
  {
   "cell_type": "code",
   "execution_count": 54,
   "metadata": {},
   "outputs": [],
   "source": [
    "model.save(\"BANKNIFY_11year_5min_qty_ltp.hdf5\")"
   ]
  },
  {
   "cell_type": "code",
   "execution_count": 59,
   "metadata": {},
   "outputs": [],
   "source": [
    "df33 = test_data['close']\n",
    "df44 = test_data['volume']"
   ]
  },
  {
   "cell_type": "code",
   "execution_count": 60,
   "metadata": {},
   "outputs": [
    {
     "data": {
      "text/plain": [
       "(140661, 2)"
      ]
     },
     "execution_count": 60,
     "metadata": {},
     "output_type": "execute_result"
    }
   ],
   "source": [
    "import numpy as np\n",
    "from sklearn.preprocessing import MinMaxScaler\n",
    "\n",
    "scaler = pickle.load(open(\"Train_1min_scale_ltp.pkl\", 'rb'))\n",
    "scaler1 = pickle.load(open(\"Train_1min_scale_ltq.pkl\", 'rb'))\n",
    "\n",
    "df33 = df33.values\n",
    "df44 = df44.values\n",
    "\n",
    "df33 = df33.reshape((len(df33), 1))\n",
    "df44 = df44.reshape((len(df44), 1))\n",
    "\n",
    "df33_scaled = scaler.transform(df33)\n",
    "df44_scaled = scaler1.transform(df44)\n",
    "\n",
    "dataset_stacked_test = np.hstack((df33_scaled, df44_scaled))\n",
    "dataset_stacked_test.shape"
   ]
  },
  {
   "cell_type": "code",
   "execution_count": 61,
   "metadata": {},
   "outputs": [
    {
     "name": "stdout",
     "output_type": "stream",
     "text": [
      "(140650, 5, 2)\n",
      "(140650,)\n"
     ]
    },
    {
     "data": {
      "text/plain": [
       "(None, None)"
      ]
     },
     "execution_count": 61,
     "metadata": {},
     "output_type": "execute_result"
    }
   ],
   "source": [
    "X_test, y_test = to_supervised(dataset_stacked_test,5,1)\n",
    "print(X_test.shape), print(y_test.shape)"
   ]
  },
  {
   "cell_type": "code",
   "execution_count": 62,
   "metadata": {},
   "outputs": [
    {
     "data": {
      "text/plain": [
       "array([[22018.01 ],\n",
       "       [22018.867],\n",
       "       [22006.506],\n",
       "       ...,\n",
       "       [38982.555],\n",
       "       [38981.293],\n",
       "       [38971.977]], dtype=float32)"
      ]
     },
     "execution_count": 62,
     "metadata": {},
     "output_type": "execute_result"
    }
   ],
   "source": [
    "model = tf.keras.models.load_model(\"BANKNIFY_11year_5min_qty_ltp.hdf5\")\n",
    "test_predict=model.predict(X_test)\n",
    "test_predict=scaler.inverse_transform(test_predict)\n",
    "test_predict"
   ]
  },
  {
   "cell_type": "markdown",
   "metadata": {},
   "source": [
    "### Model for 1-5 min (giving 15 instance)"
   ]
  },
  {
   "cell_type": "code",
   "execution_count": 8,
   "metadata": {},
   "outputs": [],
   "source": [
    "data_1.reset_index(drop=True, inplace=True)\n",
    "data_1.to_csv('BANKNIFTY/appended/data_1.csv',index=False)"
   ]
  },
  {
   "cell_type": "code",
   "execution_count": 9,
   "metadata": {
    "colab": {
     "base_uri": "https://localhost:8080/",
     "height": 205
    },
    "id": "waPLUhqP-TQ3",
    "outputId": "f1be17af-40ef-45ab-b8ca-6087b479efb9"
   },
   "outputs": [
    {
     "data": {
      "text/html": [
       "<div>\n",
       "<style scoped>\n",
       "    .dataframe tbody tr th:only-of-type {\n",
       "        vertical-align: middle;\n",
       "    }\n",
       "\n",
       "    .dataframe tbody tr th {\n",
       "        vertical-align: top;\n",
       "    }\n",
       "\n",
       "    .dataframe thead th {\n",
       "        text-align: right;\n",
       "    }\n",
       "</style>\n",
       "<table border=\"1\" class=\"dataframe\">\n",
       "  <thead>\n",
       "    <tr style=\"text-align: right;\">\n",
       "      <th></th>\n",
       "      <th>Date</th>\n",
       "      <th>Time</th>\n",
       "      <th>close</th>\n",
       "      <th>volume</th>\n",
       "    </tr>\n",
       "  </thead>\n",
       "  <tbody>\n",
       "    <tr>\n",
       "      <th>937734</th>\n",
       "      <td>20220210</td>\n",
       "      <td>15:26:00</td>\n",
       "      <td>39014.00</td>\n",
       "      <td>20875</td>\n",
       "    </tr>\n",
       "    <tr>\n",
       "      <th>937735</th>\n",
       "      <td>20220210</td>\n",
       "      <td>15:27:00</td>\n",
       "      <td>39009.30</td>\n",
       "      <td>19925</td>\n",
       "    </tr>\n",
       "    <tr>\n",
       "      <th>937736</th>\n",
       "      <td>20220210</td>\n",
       "      <td>15:28:00</td>\n",
       "      <td>39011.25</td>\n",
       "      <td>32075</td>\n",
       "    </tr>\n",
       "    <tr>\n",
       "      <th>937737</th>\n",
       "      <td>20220210</td>\n",
       "      <td>15:29:00</td>\n",
       "      <td>39020.00</td>\n",
       "      <td>21200</td>\n",
       "    </tr>\n",
       "    <tr>\n",
       "      <th>937738</th>\n",
       "      <td>20220210</td>\n",
       "      <td>15:30:00</td>\n",
       "      <td>39035.00</td>\n",
       "      <td>425</td>\n",
       "    </tr>\n",
       "  </tbody>\n",
       "</table>\n",
       "</div>"
      ],
      "text/plain": [
       "            Date      Time     close  volume\n",
       "937734  20220210  15:26:00  39014.00   20875\n",
       "937735  20220210  15:27:00  39009.30   19925\n",
       "937736  20220210  15:28:00  39011.25   32075\n",
       "937737  20220210  15:29:00  39020.00   21200\n",
       "937738  20220210  15:30:00  39035.00     425"
      ]
     },
     "execution_count": 9,
     "metadata": {},
     "output_type": "execute_result"
    }
   ],
   "source": [
    "df_1_new = pd.read_csv('BANKNIFTY/appended/data_1.csv')\n",
    "df_1_new = pd.DataFrame(df_1_new)\n",
    "df_1_new.tail()"
   ]
  },
  {
   "cell_type": "code",
   "execution_count": 10,
   "metadata": {
    "colab": {
     "base_uri": "https://localhost:8080/",
     "height": 422
    },
    "id": "HNBe7nZRu5Fb",
    "outputId": "0c59bc31-de4b-464f-deb4-4c4277f2b7e2"
   },
   "outputs": [
    {
     "data": {
      "image/png": "[encoded data removed]",
      "text/plain": [
       "<Figure size 1152x576 with 1 Axes>"
      ]
     },
     "metadata": {
      "needs_background": "light"
     },
     "output_type": "display_data"
    }
   ],
   "source": [
    "plt.figure(figsize = (16,8))\n",
    "plt.title('Nifty 11 years')\n",
    "plt.plot(df_1.close)\n",
    "plt.show()"
   ]
  },
  {
   "cell_type": "code",
   "execution_count": 11,
   "metadata": {},
   "outputs": [
    {
     "name": "stdout",
     "output_type": "stream",
     "text": [
      "(797078, 4)\n",
      "(140661, 4)\n"
     ]
    }
   ],
   "source": [
    "training_size= int(0.85*len(df_1_new))\n",
    "test_size=len(df_1_new)-training_size\n",
    "train_data,test_data=df_1_new[0:training_size],df_1_new[training_size:len(df_1_new)]\n",
    "print(train_data.shape)\n",
    "print(test_data.shape)"
   ]
  },
  {
   "cell_type": "code",
   "execution_count": 12,
   "metadata": {},
   "outputs": [],
   "source": [
    "df11 = train_data['close']\n",
    "df22 = train_data['volume']"
   ]
  },
  {
   "cell_type": "code",
   "execution_count": 13,
   "metadata": {},
   "outputs": [
    {
     "name": "stdout",
     "output_type": "stream",
     "text": [
      "(797078, 2)\n",
      "[[0.00304958 0.01848377]\n",
      " [0.00232837 0.01566898]\n",
      " [0.0032123  0.01238506]\n",
      " ...\n",
      " [0.56833021 0.01998499]\n",
      " [0.56856324 0.01018015]\n",
      " [0.56841056 0.00881967]]\n"
     ]
    },
    {
     "name": "stderr",
     "output_type": "stream",
     "text": [
      "C:\\Users\\Pritesh Borad\\Anaconda3\\lib\\site-packages\\sklearn\\utils\\validation.py:590: DataConversionWarning: Data with input dtype int64 was converted to float64 by MinMaxScaler.\n",
      "  warnings.warn(msg, DataConversionWarning)\n"
     ]
    }
   ],
   "source": [
    "import numpy as np\n",
    "from sklearn.preprocessing import MinMaxScaler\n",
    "import pickle\n",
    "\n",
    "df11 = df11.values\n",
    "df22 = df22.values\n",
    "\n",
    "df11 = df11.reshape((len(df11), 1))\n",
    "df22 = df22.reshape((len(df22), 1))\n",
    "\n",
    "scaler = MinMaxScaler(feature_range=(0, 1))\n",
    "scaler1 = MinMaxScaler(feature_range=(0, 1))\n",
    "df11_scaled = scaler.fit_transform(df11)\n",
    "df22_scaled = scaler1.fit_transform(df22)\n",
    "\n",
    "dataset_stacked = np.hstack((df11_scaled, df22_scaled))\n",
    "pickle.dump(scaler, open(\"Train_5min_15_scale_ltp.pkl\", 'wb'))\n",
    "pickle.dump(scaler1, open(\"Train_5min_15_scale_ltq.pkl\", 'wb'))\n",
    "print(dataset_stacked.shape)\n",
    "print(dataset_stacked)\n"
   ]
  },
  {
   "cell_type": "code",
   "execution_count": 48,
   "metadata": {},
   "outputs": [],
   "source": [
    "def to_supervised(train, n_input, n_out):\n",
    "\t# flatten data\n",
    "\tX, y = [], []\n",
    "\tin_start = 0\n",
    "\t# step over the entire history one time step at a time\n",
    "\tfor _ in range(len(train)):\n",
    "\t\t# define the end of the input sequence\n",
    "\t\tin_end = in_start + n_input\n",
    "\t\tout_end = in_end + n_out\n",
    "\t\t# ensure we have enough data for this instance\n",
    "\t\tif out_end+15 < len(train):\n",
    "\t\t\tx_input = train[in_start:in_end]\n",
    "\t\t\tx_input = x_input.reshape((len(x_input), 2))\n",
    "\t\t\tX.append(x_input)\n",
    "\t\t\ty.append(train[9+in_start, 0])\n",
    "\t\t# move along one time step\n",
    "\t\tin_start += 1\n",
    "\treturn np.array(X), np.array(y)"
   ]
  },
  {
   "cell_type": "code",
   "execution_count": 51,
   "metadata": {},
   "outputs": [
    {
     "name": "stdout",
     "output_type": "stream",
     "text": [
      "(797067, 5, 2)\n",
      "(797067,)\n",
      "[[[0.00304958 0.01848377]\n",
      "  [0.00232837 0.01566898]\n",
      "  [0.0032123  0.01238506]\n",
      "  [0.00345337 0.00980484]\n",
      "  [0.0034132  0.01032089]]\n",
      "\n",
      " [[0.00232837 0.01566898]\n",
      "  [0.0032123  0.01238506]\n",
      "  [0.00345337 0.00980484]\n",
      "  [0.0034132  0.01032089]\n",
      "  [0.00401588 0.01726403]]\n",
      "\n",
      " [[0.0032123  0.01238506]\n",
      "  [0.00345337 0.00980484]\n",
      "  [0.0034132  0.01032089]\n",
      "  [0.00401588 0.01726403]\n",
      "  [0.00365829 0.00844436]]\n",
      "\n",
      " [[0.00345337 0.00980484]\n",
      "  [0.0034132  0.01032089]\n",
      "  [0.00401588 0.01726403]\n",
      "  [0.00365829 0.00844436]\n",
      "  [0.00360605 0.00844436]]\n",
      "\n",
      " [[0.0034132  0.01032089]\n",
      "  [0.00401588 0.01726403]\n",
      "  [0.00365829 0.00844436]\n",
      "  [0.00360605 0.00844436]\n",
      "  [0.00357391 0.01792081]]\n",
      "\n",
      " [[0.00401588 0.01726403]\n",
      "  [0.00365829 0.00844436]\n",
      "  [0.00360605 0.00844436]\n",
      "  [0.00357391 0.01792081]\n",
      "  [0.00366833 0.01243198]]\n",
      "\n",
      " [[0.00365829 0.00844436]\n",
      "  [0.00360605 0.00844436]\n",
      "  [0.00357391 0.01792081]\n",
      "  [0.00366833 0.01243198]\n",
      "  [0.00381498 0.01595046]]\n",
      "\n",
      " [[0.00360605 0.00844436]\n",
      "  [0.00357391 0.01792081]\n",
      "  [0.00366833 0.01243198]\n",
      "  [0.00381498 0.01595046]\n",
      "  [0.00361409 0.0082098 ]]\n",
      "\n",
      " [[0.00357391 0.01792081]\n",
      "  [0.00366833 0.01243198]\n",
      "  [0.00381498 0.01595046]\n",
      "  [0.00361409 0.0082098 ]\n",
      "  [0.00442169 0.0164665 ]]\n",
      "\n",
      " [[0.00366833 0.01243198]\n",
      "  [0.00381498 0.01595046]\n",
      "  [0.00361409 0.0082098 ]\n",
      "  [0.00442169 0.0164665 ]\n",
      "  [0.00445986 0.00806906]]\n",
      "\n",
      " [[0.00381498 0.01595046]\n",
      "  [0.00361409 0.0082098 ]\n",
      "  [0.00442169 0.0164665 ]\n",
      "  [0.00445986 0.00806906]\n",
      "  [0.00443977 0.01351098]]]\n",
      "[0.00366833 0.00381498 0.00361409 ... 0.5688465  0.56817552 0.56833021]\n"
     ]
    }
   ],
   "source": [
    "X_train, y_train = to_supervised(dataset_stacked,15,1)\n",
    "print(X_train.shape), print(y_train.shape)\n",
    "print(X_train[0:11])\n",
    "print(y_train)"
   ]
  },
  {
   "cell_type": "code",
   "execution_count": 52,
   "metadata": {},
   "outputs": [],
   "source": [
    "#deep learning model\n",
    "\n",
    "from tensorflow.keras.models import Sequential\n",
    "from tensorflow.keras.layers import Dense\n",
    "from tensorflow.keras.layers import LSTM, Dropout\n",
    "import tensorflow as tf\n",
    "\n",
    "model=Sequential()\n",
    "model.add(LSTM(50,return_sequences=True,input_shape=(5,2)))\n",
    "#model.add(Dropout(0.2))\n",
    "model.add(LSTM(100,return_sequences=False))\n",
    "#model.add(Dropout(0.2))\n",
    "#model.add(LSTM(70,return_sequences=False))\n",
    "#model.add(Dropout(0.2))\n",
    "model.add(Dense(100))\n",
    "model.add(Dense(1))\n",
    "model.compile(loss='mean_squared_error',optimizer='adam')"
   ]
  },
  {
   "cell_type": "code",
   "execution_count": 63,
   "metadata": {},
   "outputs": [
    {
     "name": "stdout",
     "output_type": "stream",
     "text": [
      "Epoch 1/2\n",
      "12455/12455 [==============================] - 98s 8ms/step - loss: 2.8438e-06\n",
      "Epoch 2/2\n",
      "12455/12455 [==============================] - 95s 8ms/step - loss: 2.8740e-06\n"
     ]
    },
    {
     "data": {
      "text/plain": [
       "<keras.callbacks.History at 0x19acdb46e80>"
      ]
     },
     "execution_count": 63,
     "metadata": {},
     "output_type": "execute_result"
    }
   ],
   "source": [
    "model.fit(X_train,y_train,epochs=2,batch_size=64,verbose=1)"
   ]
  },
  {
   "cell_type": "code",
   "execution_count": 54,
   "metadata": {},
   "outputs": [],
   "source": [
    "model.save(\"BANKNIFY_11year_5min_qty_ltp.hdf5\")"
   ]
  },
  {
   "cell_type": "code",
   "execution_count": 59,
   "metadata": {},
   "outputs": [],
   "source": [
    "df33 = test_data['close']\n",
    "df44 = test_data['volume']"
   ]
  },
  {
   "cell_type": "code",
   "execution_count": 60,
   "metadata": {},
   "outputs": [
    {
     "data": {
      "text/plain": [
       "(140661, 2)"
      ]
     },
     "execution_count": 60,
     "metadata": {},
     "output_type": "execute_result"
    }
   ],
   "source": [
    "import numpy as np\n",
    "from sklearn.preprocessing import MinMaxScaler\n",
    "\n",
    "scaler = pickle.load(open(\"Train_1min_scale_ltp.pkl\", 'rb'))\n",
    "scaler1 = pickle.load(open(\"Train_1min_scale_ltq.pkl\", 'rb'))\n",
    "\n",
    "df33 = df33.values\n",
    "df44 = df44.values\n",
    "\n",
    "df33 = df33.reshape((len(df33), 1))\n",
    "df44 = df44.reshape((len(df44), 1))\n",
    "\n",
    "df33_scaled = scaler.transform(df33)\n",
    "df44_scaled = scaler1.transform(df44)\n",
    "\n",
    "dataset_stacked_test = np.hstack((df33_scaled, df44_scaled))\n",
    "dataset_stacked_test.shape"
   ]
  },
  {
   "cell_type": "code",
   "execution_count": 61,
   "metadata": {},
   "outputs": [
    {
     "name": "stdout",
     "output_type": "stream",
     "text": [
      "(140650, 5, 2)\n",
      "(140650,)\n"
     ]
    },
    {
     "data": {
      "text/plain": [
       "(None, None)"
      ]
     },
     "execution_count": 61,
     "metadata": {},
     "output_type": "execute_result"
    }
   ],
   "source": [
    "X_test, y_test = to_supervised(dataset_stacked_test,5,1)\n",
    "print(X_test.shape), print(y_test.shape)"
   ]
  },
  {
   "cell_type": "code",
   "execution_count": 62,
   "metadata": {},
   "outputs": [
    {
     "data": {
      "text/plain": [
       "array([[22018.01 ],\n",
       "       [22018.867],\n",
       "       [22006.506],\n",
       "       ...,\n",
       "       [38982.555],\n",
       "       [38981.293],\n",
       "       [38971.977]], dtype=float32)"
      ]
     },
     "execution_count": 62,
     "metadata": {},
     "output_type": "execute_result"
    }
   ],
   "source": [
    "model = tf.keras.models.load_model(\"BANKNIFY_11year_5min_qty_ltp.hdf5\")\n",
    "test_predict=model.predict(X_test)\n",
    "test_predict=scaler.inverse_transform(test_predict)\n",
    "test_predict"
   ]
  },
  {
   "cell_type": "markdown",
   "metadata": {},
   "source": [
    "### Model for 1-10 min"
   ]
  },
  {
   "cell_type": "code",
   "execution_count": 64,
   "metadata": {
    "colab": {
     "base_uri": "https://localhost:8080/",
     "height": 205
    },
    "id": "waPLUhqP-TQ3",
    "outputId": "f1be17af-40ef-45ab-b8ca-6087b479efb9"
   },
   "outputs": [
    {
     "data": {
      "text/html": [
       "<div>\n",
       "<style scoped>\n",
       "    .dataframe tbody tr th:only-of-type {\n",
       "        vertical-align: middle;\n",
       "    }\n",
       "\n",
       "    .dataframe tbody tr th {\n",
       "        vertical-align: top;\n",
       "    }\n",
       "\n",
       "    .dataframe thead th {\n",
       "        text-align: right;\n",
       "    }\n",
       "</style>\n",
       "<table border=\"1\" class=\"dataframe\">\n",
       "  <thead>\n",
       "    <tr style=\"text-align: right;\">\n",
       "      <th></th>\n",
       "      <th>Date</th>\n",
       "      <th>Time</th>\n",
       "      <th>close</th>\n",
       "      <th>volume</th>\n",
       "    </tr>\n",
       "  </thead>\n",
       "  <tbody>\n",
       "    <tr>\n",
       "      <th>937734</th>\n",
       "      <td>20220210</td>\n",
       "      <td>15:26:00</td>\n",
       "      <td>39014.00</td>\n",
       "      <td>20875</td>\n",
       "    </tr>\n",
       "    <tr>\n",
       "      <th>937735</th>\n",
       "      <td>20220210</td>\n",
       "      <td>15:27:00</td>\n",
       "      <td>39009.30</td>\n",
       "      <td>19925</td>\n",
       "    </tr>\n",
       "    <tr>\n",
       "      <th>937736</th>\n",
       "      <td>20220210</td>\n",
       "      <td>15:28:00</td>\n",
       "      <td>39011.25</td>\n",
       "      <td>32075</td>\n",
       "    </tr>\n",
       "    <tr>\n",
       "      <th>937737</th>\n",
       "      <td>20220210</td>\n",
       "      <td>15:29:00</td>\n",
       "      <td>39020.00</td>\n",
       "      <td>21200</td>\n",
       "    </tr>\n",
       "    <tr>\n",
       "      <th>937738</th>\n",
       "      <td>20220210</td>\n",
       "      <td>15:30:00</td>\n",
       "      <td>39035.00</td>\n",
       "      <td>425</td>\n",
       "    </tr>\n",
       "  </tbody>\n",
       "</table>\n",
       "</div>"
      ],
      "text/plain": [
       "            Date      Time     close  volume\n",
       "937734  20220210  15:26:00  39014.00   20875\n",
       "937735  20220210  15:27:00  39009.30   19925\n",
       "937736  20220210  15:28:00  39011.25   32075\n",
       "937737  20220210  15:29:00  39020.00   21200\n",
       "937738  20220210  15:30:00  39035.00     425"
      ]
     },
     "execution_count": 64,
     "metadata": {},
     "output_type": "execute_result"
    }
   ],
   "source": [
    "df_10 = pd.read_csv('BANKNIFTY/appended/data_1.csv')\n",
    "df_10 = pd.DataFrame(df_10)\n",
    "df_10.tail()"
   ]
  },
  {
   "cell_type": "code",
   "execution_count": 65,
   "metadata": {
    "colab": {
     "base_uri": "https://localhost:8080/",
     "height": 422
    },
    "id": "HNBe7nZRu5Fb",
    "outputId": "0c59bc31-de4b-464f-deb4-4c4277f2b7e2"
   },
   "outputs": [
    {
     "data": {
      "image/png": "[encoded data removed]",
      "text/plain": [
       "<Figure size 1152x576 with 1 Axes>"
      ]
     },
     "metadata": {
      "needs_background": "light"
     },
     "output_type": "display_data"
    }
   ],
   "source": [
    "plt.figure(figsize = (16,8))\n",
    "plt.title('Nifty 11 years')\n",
    "plt.plot(df_10.close)\n",
    "plt.show()"
   ]
  },
  {
   "cell_type": "code",
   "execution_count": 66,
   "metadata": {},
   "outputs": [
    {
     "name": "stdout",
     "output_type": "stream",
     "text": [
      "(797078, 4)\n",
      "(140661, 4)\n"
     ]
    }
   ],
   "source": [
    "training_size= int(0.85*len(df_10))\n",
    "test_size=len(df_10)-training_size\n",
    "train_data,test_data=df_10[0:training_size],df_10[training_size:len(df_10)]\n",
    "print(train_data.shape)\n",
    "print(test_data.shape)"
   ]
  },
  {
   "cell_type": "code",
   "execution_count": 67,
   "metadata": {},
   "outputs": [],
   "source": [
    "df11 = train_data['close']\n",
    "df22 = train_data['volume']"
   ]
  },
  {
   "cell_type": "code",
   "execution_count": 68,
   "metadata": {},
   "outputs": [
    {
     "name": "stderr",
     "output_type": "stream",
     "text": [
      "C:\\Users\\Pritesh Borad\\Anaconda3\\lib\\site-packages\\sklearn\\utils\\validation.py:590: DataConversionWarning: Data with input dtype int64 was converted to float64 by MinMaxScaler.\n",
      "  warnings.warn(msg, DataConversionWarning)\n"
     ]
    },
    {
     "name": "stdout",
     "output_type": "stream",
     "text": [
      "(797078, 2)\n",
      "[[0.00304958 0.01848377]\n",
      " [0.00232837 0.01566898]\n",
      " [0.0032123  0.01238506]\n",
      " ...\n",
      " [0.56833021 0.01998499]\n",
      " [0.56856324 0.01018015]\n",
      " [0.56841056 0.00881967]]\n"
     ]
    }
   ],
   "source": [
    "import numpy as np\n",
    "from sklearn.preprocessing import MinMaxScaler\n",
    "import pickle\n",
    "\n",
    "df11 = df11.values\n",
    "df22 = df22.values\n",
    "\n",
    "df11 = df11.reshape((len(df11), 1))\n",
    "df22 = df22.reshape((len(df22), 1))\n",
    "\n",
    "scaler = MinMaxScaler(feature_range=(0, 1))\n",
    "scaler1 = MinMaxScaler(feature_range=(0, 1))\n",
    "df11_scaled = scaler.fit_transform(df11)\n",
    "df22_scaled = scaler1.fit_transform(df22)\n",
    "\n",
    "dataset_stacked = np.hstack((df11_scaled, df22_scaled))\n",
    "pickle.dump(scaler, open(\"Train_10min_scale_ltp.pkl\", 'wb'))\n",
    "pickle.dump(scaler1, open(\"Train_10min_scale_ltq.pkl\", 'wb'))\n",
    "print(dataset_stacked.shape)\n",
    "print(dataset_stacked)\n"
   ]
  },
  {
   "cell_type": "code",
   "execution_count": 69,
   "metadata": {},
   "outputs": [],
   "source": [
    "def to_supervised(train, n_input, n_out):\n",
    "\t# flatten data\n",
    "\tX, y = [], []\n",
    "\tin_start = 0\n",
    "\t# step over the entire history one time step at a time\n",
    "\tfor _ in range(len(train)):\n",
    "\t\t# define the end of the input sequence\n",
    "\t\tin_end = in_start + n_input\n",
    "\t\tout_end = in_end + n_out\n",
    "\t\t# ensure we have enough data for this instance\n",
    "\t\tif out_end+10 < len(train):\n",
    "\t\t\tx_input = train[in_start:in_end]\n",
    "\t\t\tx_input = x_input.reshape((len(x_input), 2))\n",
    "\t\t\tX.append(x_input)\n",
    "\t\t\ty.append(train[19+in_start, 0])\n",
    "\t\t# move along one time step\n",
    "\t\tin_start += 1\n",
    "\treturn np.array(X), np.array(y)"
   ]
  },
  {
   "cell_type": "code",
   "execution_count": 70,
   "metadata": {},
   "outputs": [
    {
     "name": "stdout",
     "output_type": "stream",
     "text": [
      "(797057, 10, 2)\n",
      "(797057,)\n"
     ]
    },
    {
     "data": {
      "text/plain": [
       "(None, None)"
      ]
     },
     "execution_count": 70,
     "metadata": {},
     "output_type": "execute_result"
    }
   ],
   "source": [
    "X_train, y_train = to_supervised(dataset_stacked,10,1)\n",
    "print(X_train.shape), print(y_train.shape)"
   ]
  },
  {
   "cell_type": "code",
   "execution_count": 71,
   "metadata": {},
   "outputs": [],
   "source": [
    "#deep learning model\n",
    "\n",
    "from tensorflow.keras.models import Sequential\n",
    "from tensorflow.keras.layers import Dense\n",
    "from tensorflow.keras.layers import LSTM, Dropout\n",
    "import tensorflow as tf\n",
    "\n",
    "model=Sequential()\n",
    "model.add(LSTM(50,return_sequences=True,input_shape=(10,2)))\n",
    "#model.add(Dropout(0.2))\n",
    "model.add(LSTM(100,return_sequences=False))\n",
    "#model.add(Dropout(0.2))\n",
    "#model.add(LSTM(70,return_sequences=False))\n",
    "#model.add(Dropout(0.2))\n",
    "model.add(Dense(100))\n",
    "model.add(Dense(1))\n",
    "model.compile(loss='mean_squared_error',optimizer='adam')"
   ]
  },
  {
   "cell_type": "code",
   "execution_count": 72,
   "metadata": {},
   "outputs": [
    {
     "name": "stdout",
     "output_type": "stream",
     "text": [
      "Epoch 1/10\n",
      "12455/12455 [==============================] - 175s 14ms/step - loss: 1.2775e-04\n",
      "Epoch 2/10\n",
      "12455/12455 [==============================] - 181s 15ms/step - loss: 9.6731e-06\n",
      "Epoch 3/10\n",
      "12455/12455 [==============================] - 174s 14ms/step - loss: 7.1289e-06\n",
      "Epoch 4/10\n",
      "12455/12455 [==============================] - 175s 14ms/step - loss: 6.3734e-06\n",
      "Epoch 5/10\n",
      "12455/12455 [==============================] - 174s 14ms/step - loss: 5.9654e-06\n",
      "Epoch 6/10\n",
      "12455/12455 [==============================] - 175s 14ms/step - loss: 5.6830e-06\n",
      "Epoch 7/10\n",
      "12455/12455 [==============================] - 175s 14ms/step - loss: 5.4985e-06\n",
      "Epoch 8/10\n",
      "12455/12455 [==============================] - 175s 14ms/step - loss: 5.3748e-06\n",
      "Epoch 9/10\n",
      "12455/12455 [==============================] - 175s 14ms/step - loss: 5.3120e-06\n",
      "Epoch 10/10\n",
      "12455/12455 [==============================] - 175s 14ms/step - loss: 5.0945e-06\n"
     ]
    },
    {
     "data": {
      "text/plain": [
       "<keras.callbacks.History at 0x19acd9b8dd8>"
      ]
     },
     "execution_count": 72,
     "metadata": {},
     "output_type": "execute_result"
    }
   ],
   "source": [
    "model.fit(X_train,y_train,epochs=10,batch_size=64,verbose=1)"
   ]
  },
  {
   "cell_type": "code",
   "execution_count": 73,
   "metadata": {},
   "outputs": [],
   "source": [
    "model.save(\"BANKNIFY_11year_10min_qty_ltp.hdf5\")"
   ]
  },
  {
   "cell_type": "code",
   "execution_count": 74,
   "metadata": {},
   "outputs": [],
   "source": [
    "df33 = test_data['close']\n",
    "df44 = test_data['volume']"
   ]
  },
  {
   "cell_type": "code",
   "execution_count": 77,
   "metadata": {},
   "outputs": [
    {
     "data": {
      "text/plain": [
       "(140661, 2)"
      ]
     },
     "execution_count": 77,
     "metadata": {},
     "output_type": "execute_result"
    }
   ],
   "source": [
    "import numpy as np\n",
    "from sklearn.preprocessing import MinMaxScaler\n",
    "\n",
    "scaler = pickle.load(open(\"Train_10min_scale_ltp.pkl\", 'rb'))\n",
    "scaler1 = pickle.load(open(\"Train_10min_scale_ltq.pkl\", 'rb'))\n",
    "\n",
    "df33 = df33.values\n",
    "df44 = df44.values\n",
    "\n",
    "df33 = df33.reshape((len(df33), 1))\n",
    "df44 = df44.reshape((len(df44), 1))\n",
    "\n",
    "df33_scaled = scaler.transform(df33)\n",
    "df44_scaled = scaler1.transform(df44)\n",
    "\n",
    "dataset_stacked_test = np.hstack((df33_scaled, df44_scaled))\n",
    "dataset_stacked_test.shape"
   ]
  },
  {
   "cell_type": "code",
   "execution_count": 79,
   "metadata": {},
   "outputs": [
    {
     "name": "stdout",
     "output_type": "stream",
     "text": [
      "(140640, 10, 2)\n",
      "(140640,)\n"
     ]
    },
    {
     "data": {
      "text/plain": [
       "(None, None)"
      ]
     },
     "execution_count": 79,
     "metadata": {},
     "output_type": "execute_result"
    }
   ],
   "source": [
    "X_test, y_test = to_supervised(dataset_stacked_test,10,1)\n",
    "print(X_test.shape), print(y_test.shape)"
   ]
  },
  {
   "cell_type": "code",
   "execution_count": 80,
   "metadata": {},
   "outputs": [
    {
     "data": {
      "text/plain": [
       "array([[22015.121],\n",
       "       [22014.951],\n",
       "       [21998.768],\n",
       "       ...,\n",
       "       [39182.438],\n",
       "       [39170.02 ],\n",
       "       [39169.953]], dtype=float32)"
      ]
     },
     "execution_count": 80,
     "metadata": {},
     "output_type": "execute_result"
    }
   ],
   "source": [
    "model = tf.keras.models.load_model(\"BANKNIFY_11year_10min_qty_ltp.hdf5\")\n",
    "test_predict=model.predict(X_test)\n",
    "test_predict=scaler.inverse_transform(test_predict)\n",
    "test_predict"
   ]
  },
  {
   "cell_type": "markdown",
   "metadata": {},
   "source": [
    "### Model for 1-15 min"
   ]
  },
  {
   "cell_type": "code",
   "execution_count": 83,
   "metadata": {
    "colab": {
     "base_uri": "https://localhost:8080/",
     "height": 205
    },
    "id": "waPLUhqP-TQ3",
    "outputId": "f1be17af-40ef-45ab-b8ca-6087b479efb9"
   },
   "outputs": [
    {
     "data": {
      "text/html": [
       "<div>\n",
       "<style scoped>\n",
       "    .dataframe tbody tr th:only-of-type {\n",
       "        vertical-align: middle;\n",
       "    }\n",
       "\n",
       "    .dataframe tbody tr th {\n",
       "        vertical-align: top;\n",
       "    }\n",
       "\n",
       "    .dataframe thead th {\n",
       "        text-align: right;\n",
       "    }\n",
       "</style>\n",
       "<table border=\"1\" class=\"dataframe\">\n",
       "  <thead>\n",
       "    <tr style=\"text-align: right;\">\n",
       "      <th></th>\n",
       "      <th>Date</th>\n",
       "      <th>Time</th>\n",
       "      <th>close</th>\n",
       "      <th>volume</th>\n",
       "    </tr>\n",
       "  </thead>\n",
       "  <tbody>\n",
       "    <tr>\n",
       "      <th>937734</th>\n",
       "      <td>20220210</td>\n",
       "      <td>15:26:00</td>\n",
       "      <td>39014.00</td>\n",
       "      <td>20875</td>\n",
       "    </tr>\n",
       "    <tr>\n",
       "      <th>937735</th>\n",
       "      <td>20220210</td>\n",
       "      <td>15:27:00</td>\n",
       "      <td>39009.30</td>\n",
       "      <td>19925</td>\n",
       "    </tr>\n",
       "    <tr>\n",
       "      <th>937736</th>\n",
       "      <td>20220210</td>\n",
       "      <td>15:28:00</td>\n",
       "      <td>39011.25</td>\n",
       "      <td>32075</td>\n",
       "    </tr>\n",
       "    <tr>\n",
       "      <th>937737</th>\n",
       "      <td>20220210</td>\n",
       "      <td>15:29:00</td>\n",
       "      <td>39020.00</td>\n",
       "      <td>21200</td>\n",
       "    </tr>\n",
       "    <tr>\n",
       "      <th>937738</th>\n",
       "      <td>20220210</td>\n",
       "      <td>15:30:00</td>\n",
       "      <td>39035.00</td>\n",
       "      <td>425</td>\n",
       "    </tr>\n",
       "  </tbody>\n",
       "</table>\n",
       "</div>"
      ],
      "text/plain": [
       "            Date      Time     close  volume\n",
       "937734  20220210  15:26:00  39014.00   20875\n",
       "937735  20220210  15:27:00  39009.30   19925\n",
       "937736  20220210  15:28:00  39011.25   32075\n",
       "937737  20220210  15:29:00  39020.00   21200\n",
       "937738  20220210  15:30:00  39035.00     425"
      ]
     },
     "execution_count": 83,
     "metadata": {},
     "output_type": "execute_result"
    }
   ],
   "source": [
    "df_15 = pd.read_csv('BANKNIFTY/appended/data_1.csv')\n",
    "df_15 = pd.DataFrame(df_15)\n",
    "df_15.tail()"
   ]
  },
  {
   "cell_type": "code",
   "execution_count": 84,
   "metadata": {
    "colab": {
     "base_uri": "https://localhost:8080/",
     "height": 422
    },
    "id": "HNBe7nZRu5Fb",
    "outputId": "0c59bc31-de4b-464f-deb4-4c4277f2b7e2"
   },
   "outputs": [
    {
     "data": {
      "image/png": "[encoded data removed]",
      "text/plain": [
       "<Figure size 1152x576 with 1 Axes>"
      ]
     },
     "metadata": {
      "needs_background": "light"
     },
     "output_type": "display_data"
    }
   ],
   "source": [
    "plt.figure(figsize = (16,8))\n",
    "plt.title('Nifty 11 years')\n",
    "plt.plot(df_15.close)\n",
    "plt.show()"
   ]
  },
  {
   "cell_type": "code",
   "execution_count": 85,
   "metadata": {},
   "outputs": [
    {
     "name": "stdout",
     "output_type": "stream",
     "text": [
      "(797078, 4)\n",
      "(140661, 4)\n"
     ]
    }
   ],
   "source": [
    "training_size= int(0.85*len(df_15))\n",
    "test_size=len(df_15)-training_size\n",
    "train_data,test_data=df_15[0:training_size],df_15[training_size:len(df_15)]\n",
    "print(train_data.shape)\n",
    "print(test_data.shape)"
   ]
  },
  {
   "cell_type": "code",
   "execution_count": 86,
   "metadata": {},
   "outputs": [],
   "source": [
    "df11 = train_data['close']\n",
    "df22 = train_data['volume']"
   ]
  },
  {
   "cell_type": "code",
   "execution_count": 87,
   "metadata": {},
   "outputs": [
    {
     "name": "stdout",
     "output_type": "stream",
     "text": [
      "(797078, 2)\n",
      "[[0.00304958 0.01848377]\n",
      " [0.00232837 0.01566898]\n",
      " [0.0032123  0.01238506]\n",
      " ...\n",
      " [0.56833021 0.01998499]\n",
      " [0.56856324 0.01018015]\n",
      " [0.56841056 0.00881967]]\n"
     ]
    },
    {
     "name": "stderr",
     "output_type": "stream",
     "text": [
      "C:\\Users\\Pritesh Borad\\Anaconda3\\lib\\site-packages\\sklearn\\utils\\validation.py:590: DataConversionWarning: Data with input dtype int64 was converted to float64 by MinMaxScaler.\n",
      "  warnings.warn(msg, DataConversionWarning)\n"
     ]
    }
   ],
   "source": [
    "import numpy as np\n",
    "from sklearn.preprocessing import MinMaxScaler\n",
    "import pickle\n",
    "\n",
    "df11 = df11.values\n",
    "df22 = df22.values\n",
    "\n",
    "df11 = df11.reshape((len(df11), 1))\n",
    "df22 = df22.reshape((len(df22), 1))\n",
    "\n",
    "scaler = MinMaxScaler(feature_range=(0, 1))\n",
    "scaler1 = MinMaxScaler(feature_range=(0, 1))\n",
    "df11_scaled = scaler.fit_transform(df11)\n",
    "df22_scaled = scaler1.fit_transform(df22)\n",
    "\n",
    "dataset_stacked = np.hstack((df11_scaled, df22_scaled))\n",
    "pickle.dump(scaler, open(\"Train_15min_scale_ltp.pkl\", 'wb'))\n",
    "pickle.dump(scaler1, open(\"Train_15min_scale_ltq.pkl\", 'wb'))\n",
    "print(dataset_stacked.shape)\n",
    "print(dataset_stacked)\n"
   ]
  },
  {
   "cell_type": "code",
   "execution_count": 90,
   "metadata": {},
   "outputs": [],
   "source": [
    "def to_supervised(train, n_input, n_out):\n",
    "\t# flatten data\n",
    "\tX, y = [], []\n",
    "\tin_start = 0\n",
    "\t# step over the entire history one time step at a time\n",
    "\tfor _ in range(len(train)):\n",
    "\t\t# define the end of the input sequence\n",
    "\t\tin_end = in_start + n_input\n",
    "\t\tout_end = in_end + n_out\n",
    "\t\t# ensure we have enough data for this instance\n",
    "\t\tif out_end+15 < len(train):\n",
    "\t\t\tx_input = train[in_start:in_end]\n",
    "\t\t\tx_input = x_input.reshape((len(x_input), 2))\n",
    "\t\t\tX.append(x_input)\n",
    "\t\t\ty.append(train[29+in_start, 0])\n",
    "\t\t# move along one time step\n",
    "\t\tin_start += 1\n",
    "\treturn np.array(X), np.array(y)"
   ]
  },
  {
   "cell_type": "code",
   "execution_count": 92,
   "metadata": {},
   "outputs": [
    {
     "name": "stdout",
     "output_type": "stream",
     "text": [
      "(797047, 15, 2)\n",
      "(797047,)\n"
     ]
    },
    {
     "data": {
      "text/plain": [
       "(None, None)"
      ]
     },
     "execution_count": 92,
     "metadata": {},
     "output_type": "execute_result"
    }
   ],
   "source": [
    "X_train, y_train = to_supervised(dataset_stacked,15,1)\n",
    "print(X_train.shape), print(y_train.shape)"
   ]
  },
  {
   "cell_type": "code",
   "execution_count": 94,
   "metadata": {},
   "outputs": [],
   "source": [
    "#deep learning model\n",
    "\n",
    "from tensorflow.keras.models import Sequential\n",
    "from tensorflow.keras.layers import Dense\n",
    "from tensorflow.keras.layers import LSTM, Dropout\n",
    "import tensorflow as tf\n",
    "\n",
    "model=Sequential()\n",
    "model.add(LSTM(50,return_sequences=True,input_shape=(15,2)))\n",
    "#model.add(Dropout(0.2))\n",
    "model.add(LSTM(100,return_sequences=False))\n",
    "#model.add(Dropout(0.2))\n",
    "#model.add(LSTM(70,return_sequences=False))\n",
    "#model.add(Dropout(0.2))\n",
    "model.add(Dense(100))\n",
    "model.add(Dense(1))\n",
    "model.compile(loss='mean_squared_error',optimizer='adam')"
   ]
  },
  {
   "cell_type": "code",
   "execution_count": 95,
   "metadata": {},
   "outputs": [
    {
     "name": "stdout",
     "output_type": "stream",
     "text": [
      "Epoch 1/10\n",
      "12454/12454 [==============================] - 240s 19ms/step - loss: 8.7420e-05\n",
      "Epoch 2/10\n",
      "12454/12454 [==============================] - 261s 21ms/step - loss: 1.1093e-05\n",
      "Epoch 3/10\n",
      "12454/12454 [==============================] - 280s 23ms/step - loss: 9.1366e-06\n",
      "Epoch 4/10\n",
      "12454/12454 [==============================] - 262s 21ms/step - loss: 8.2690e-06\n",
      "Epoch 5/10\n",
      "12454/12454 [==============================] - 253s 20ms/step - loss: 7.8811e-06\n",
      "Epoch 6/10\n",
      "12454/12454 [==============================] - 253s 20ms/step - loss: 7.6910e-06\n",
      "Epoch 7/10\n",
      "12454/12454 [==============================] - 254s 20ms/step - loss: 7.4250e-06\n",
      "Epoch 8/10\n",
      "12454/12454 [==============================] - 261s 21ms/step - loss: 7.3332e-06\n",
      "Epoch 9/10\n",
      "12454/12454 [==============================] - 249s 20ms/step - loss: 7.1916e-06\n",
      "Epoch 10/10\n",
      "12454/12454 [==============================] - 243s 20ms/step - loss: 7.0916e-06\n"
     ]
    },
    {
     "data": {
      "text/plain": [
       "<keras.callbacks.History at 0x19acd558c88>"
      ]
     },
     "execution_count": 95,
     "metadata": {},
     "output_type": "execute_result"
    }
   ],
   "source": [
    "model.fit(X_train,y_train,epochs=10,batch_size=64,verbose=1)"
   ]
  },
  {
   "cell_type": "code",
   "execution_count": 96,
   "metadata": {},
   "outputs": [],
   "source": [
    "model.save(\"BANKNIFY_11year_15min_qty_ltp.hdf5\")"
   ]
  },
  {
   "cell_type": "code",
   "execution_count": 97,
   "metadata": {},
   "outputs": [],
   "source": [
    "df33 = test_data['close']\n",
    "df44 = test_data['volume']"
   ]
  },
  {
   "cell_type": "code",
   "execution_count": 98,
   "metadata": {},
   "outputs": [
    {
     "data": {
      "text/plain": [
       "(140661, 2)"
      ]
     },
     "execution_count": 98,
     "metadata": {},
     "output_type": "execute_result"
    }
   ],
   "source": [
    "import numpy as np\n",
    "from sklearn.preprocessing import MinMaxScaler\n",
    "\n",
    "scaler = pickle.load(open(\"Train_15min_scale_ltp.pkl\", 'rb'))\n",
    "scaler1 = pickle.load(open(\"Train_15min_scale_ltq.pkl\", 'rb'))\n",
    "\n",
    "df33 = df33.values\n",
    "df44 = df44.values\n",
    "\n",
    "df33 = df33.reshape((len(df33), 1))\n",
    "df44 = df44.reshape((len(df44), 1))\n",
    "\n",
    "df33_scaled = scaler.transform(df33)\n",
    "df44_scaled = scaler1.transform(df44)\n",
    "\n",
    "dataset_stacked_test = np.hstack((df33_scaled, df44_scaled))\n",
    "dataset_stacked_test.shape"
   ]
  },
  {
   "cell_type": "code",
   "execution_count": 99,
   "metadata": {},
   "outputs": [
    {
     "name": "stdout",
     "output_type": "stream",
     "text": [
      "(140630, 15, 2)\n",
      "(140630,)\n"
     ]
    },
    {
     "data": {
      "text/plain": [
       "(None, None)"
      ]
     },
     "execution_count": 99,
     "metadata": {},
     "output_type": "execute_result"
    }
   ],
   "source": [
    "X_test, y_test = to_supervised(dataset_stacked_test,15,1)\n",
    "print(X_test.shape), print(y_test.shape)"
   ]
  },
  {
   "cell_type": "code",
   "execution_count": 100,
   "metadata": {},
   "outputs": [
    {
     "data": {
      "text/plain": [
       "array([[21988.63 ],\n",
       "       [21990.848],\n",
       "       [21990.553],\n",
       "       ...,\n",
       "       [38901.477],\n",
       "       [38891.176],\n",
       "       [38862.316]], dtype=float32)"
      ]
     },
     "execution_count": 100,
     "metadata": {},
     "output_type": "execute_result"
    }
   ],
   "source": [
    "model = tf.keras.models.load_model(\"BANKNIFY_11year_15min_qty_ltp.hdf5\")\n",
    "test_predict=model.predict(X_test)\n",
    "test_predict=scaler.inverse_transform(test_predict)\n",
    "test_predict"
   ]
  },
  {
   "cell_type": "markdown",
   "metadata": {},
   "source": [
    "### Model for 1-20 min"
   ]
  },
  {
   "cell_type": "code",
   "execution_count": 101,
   "metadata": {
    "colab": {
     "base_uri": "https://localhost:8080/",
     "height": 205
    },
    "id": "waPLUhqP-TQ3",
    "outputId": "f1be17af-40ef-45ab-b8ca-6087b479efb9"
   },
   "outputs": [
    {
     "data": {
      "text/html": [
       "<div>\n",
       "<style scoped>\n",
       "    .dataframe tbody tr th:only-of-type {\n",
       "        vertical-align: middle;\n",
       "    }\n",
       "\n",
       "    .dataframe tbody tr th {\n",
       "        vertical-align: top;\n",
       "    }\n",
       "\n",
       "    .dataframe thead th {\n",
       "        text-align: right;\n",
       "    }\n",
       "</style>\n",
       "<table border=\"1\" class=\"dataframe\">\n",
       "  <thead>\n",
       "    <tr style=\"text-align: right;\">\n",
       "      <th></th>\n",
       "      <th>Date</th>\n",
       "      <th>Time</th>\n",
       "      <th>close</th>\n",
       "      <th>volume</th>\n",
       "    </tr>\n",
       "  </thead>\n",
       "  <tbody>\n",
       "    <tr>\n",
       "      <th>937734</th>\n",
       "      <td>20220210</td>\n",
       "      <td>15:26:00</td>\n",
       "      <td>39014.00</td>\n",
       "      <td>20875</td>\n",
       "    </tr>\n",
       "    <tr>\n",
       "      <th>937735</th>\n",
       "      <td>20220210</td>\n",
       "      <td>15:27:00</td>\n",
       "      <td>39009.30</td>\n",
       "      <td>19925</td>\n",
       "    </tr>\n",
       "    <tr>\n",
       "      <th>937736</th>\n",
       "      <td>20220210</td>\n",
       "      <td>15:28:00</td>\n",
       "      <td>39011.25</td>\n",
       "      <td>32075</td>\n",
       "    </tr>\n",
       "    <tr>\n",
       "      <th>937737</th>\n",
       "      <td>20220210</td>\n",
       "      <td>15:29:00</td>\n",
       "      <td>39020.00</td>\n",
       "      <td>21200</td>\n",
       "    </tr>\n",
       "    <tr>\n",
       "      <th>937738</th>\n",
       "      <td>20220210</td>\n",
       "      <td>15:30:00</td>\n",
       "      <td>39035.00</td>\n",
       "      <td>425</td>\n",
       "    </tr>\n",
       "  </tbody>\n",
       "</table>\n",
       "</div>"
      ],
      "text/plain": [
       "            Date      Time     close  volume\n",
       "937734  20220210  15:26:00  39014.00   20875\n",
       "937735  20220210  15:27:00  39009.30   19925\n",
       "937736  20220210  15:28:00  39011.25   32075\n",
       "937737  20220210  15:29:00  39020.00   21200\n",
       "937738  20220210  15:30:00  39035.00     425"
      ]
     },
     "execution_count": 101,
     "metadata": {},
     "output_type": "execute_result"
    }
   ],
   "source": [
    "df_20 = pd.read_csv('BANKNIFTY/appended/data_1.csv')\n",
    "df_20 = pd.DataFrame(df_20)\n",
    "df_20.tail()"
   ]
  },
  {
   "cell_type": "code",
   "execution_count": 102,
   "metadata": {
    "colab": {
     "base_uri": "https://localhost:8080/",
     "height": 422
    },
    "id": "HNBe7nZRu5Fb",
    "outputId": "0c59bc31-de4b-464f-deb4-4c4277f2b7e2"
   },
   "outputs": [
    {
     "data": {
      "image/png": "[encoded data removed]",
      "text/plain": [
       "<Figure size 1152x576 with 1 Axes>"
      ]
     },
     "metadata": {
      "needs_background": "light"
     },
     "output_type": "display_data"
    }
   ],
   "source": [
    "plt.figure(figsize = (16,8))\n",
    "plt.title('Nifty 11 years')\n",
    "plt.plot(df_20.close)\n",
    "plt.show()"
   ]
  },
  {
   "cell_type": "code",
   "execution_count": 103,
   "metadata": {},
   "outputs": [
    {
     "name": "stdout",
     "output_type": "stream",
     "text": [
      "(797078, 4)\n",
      "(140661, 4)\n"
     ]
    }
   ],
   "source": [
    "training_size= int(0.85*len(df_20))\n",
    "test_size=len(df_20)-training_size\n",
    "train_data,test_data=df_20[0:training_size],df_20[training_size:len(df_20)]\n",
    "print(train_data.shape)\n",
    "print(test_data.shape)"
   ]
  },
  {
   "cell_type": "code",
   "execution_count": 104,
   "metadata": {},
   "outputs": [],
   "source": [
    "df11 = train_data['close']\n",
    "df22 = train_data['volume']"
   ]
  },
  {
   "cell_type": "code",
   "execution_count": 105,
   "metadata": {},
   "outputs": [
    {
     "name": "stdout",
     "output_type": "stream",
     "text": [
      "(797078, 2)\n",
      "[[0.00304958 0.01848377]\n",
      " [0.00232837 0.01566898]\n",
      " [0.0032123  0.01238506]\n",
      " ...\n",
      " [0.56833021 0.01998499]\n",
      " [0.56856324 0.01018015]\n",
      " [0.56841056 0.00881967]]\n"
     ]
    },
    {
     "name": "stderr",
     "output_type": "stream",
     "text": [
      "C:\\Users\\Pritesh Borad\\Anaconda3\\lib\\site-packages\\sklearn\\utils\\validation.py:590: DataConversionWarning: Data with input dtype int64 was converted to float64 by MinMaxScaler.\n",
      "  warnings.warn(msg, DataConversionWarning)\n"
     ]
    }
   ],
   "source": [
    "import numpy as np\n",
    "from sklearn.preprocessing import MinMaxScaler\n",
    "import pickle\n",
    "\n",
    "df11 = df11.values\n",
    "df22 = df22.values\n",
    "\n",
    "df11 = df11.reshape((len(df11), 1))\n",
    "df22 = df22.reshape((len(df22), 1))\n",
    "\n",
    "scaler = MinMaxScaler(feature_range=(0, 1))\n",
    "scaler1 = MinMaxScaler(feature_range=(0, 1))\n",
    "df11_scaled = scaler.fit_transform(df11)\n",
    "df22_scaled = scaler1.fit_transform(df22)\n",
    "\n",
    "dataset_stacked = np.hstack((df11_scaled, df22_scaled))\n",
    "pickle.dump(scaler, open(\"Train_20min_scale_ltp.pkl\", 'wb'))\n",
    "pickle.dump(scaler1, open(\"Train_20min_scale_ltq.pkl\", 'wb'))\n",
    "print(dataset_stacked.shape)\n",
    "print(dataset_stacked)\n"
   ]
  },
  {
   "cell_type": "code",
   "execution_count": 106,
   "metadata": {},
   "outputs": [],
   "source": [
    "def to_supervised(train, n_input, n_out):\n",
    "\t# flatten data\n",
    "\tX, y = [], []\n",
    "\tin_start = 0\n",
    "\t# step over the entire history one time step at a time\n",
    "\tfor _ in range(len(train)):\n",
    "\t\t# define the end of the input sequence\n",
    "\t\tin_end = in_start + n_input\n",
    "\t\tout_end = in_end + n_out\n",
    "\t\t# ensure we have enough data for this instance\n",
    "\t\tif out_end+20 < len(train):\n",
    "\t\t\tx_input = train[in_start:in_end]\n",
    "\t\t\tx_input = x_input.reshape((len(x_input), 2))\n",
    "\t\t\tX.append(x_input)\n",
    "\t\t\ty.append(train[39+in_start, 0])\n",
    "\t\t# move along one time step\n",
    "\t\tin_start += 1\n",
    "\treturn np.array(X), np.array(y)"
   ]
  },
  {
   "cell_type": "code",
   "execution_count": 107,
   "metadata": {},
   "outputs": [
    {
     "name": "stdout",
     "output_type": "stream",
     "text": [
      "(797037, 20, 2)\n",
      "(797037,)\n"
     ]
    },
    {
     "data": {
      "text/plain": [
       "(None, None)"
      ]
     },
     "execution_count": 107,
     "metadata": {},
     "output_type": "execute_result"
    }
   ],
   "source": [
    "X_train, y_train = to_supervised(dataset_stacked,20,1)\n",
    "print(X_train.shape), print(y_train.shape)"
   ]
  },
  {
   "cell_type": "code",
   "execution_count": 108,
   "metadata": {},
   "outputs": [],
   "source": [
    "#deep learning model\n",
    "\n",
    "from tensorflow.keras.models import Sequential\n",
    "from tensorflow.keras.layers import Dense\n",
    "from tensorflow.keras.layers import LSTM, Dropout\n",
    "import tensorflow as tf\n",
    "\n",
    "model=Sequential()\n",
    "model.add(LSTM(50,return_sequences=True,input_shape=(20,2)))\n",
    "#model.add(Dropout(0.2))\n",
    "model.add(LSTM(100,return_sequences=False))\n",
    "#model.add(Dropout(0.2))\n",
    "#model.add(LSTM(70,return_sequences=False))\n",
    "#model.add(Dropout(0.2))\n",
    "model.add(Dense(100))\n",
    "model.add(Dense(1))\n",
    "model.compile(loss='mean_squared_error',optimizer='adam')"
   ]
  },
  {
   "cell_type": "code",
   "execution_count": 109,
   "metadata": {},
   "outputs": [
    {
     "name": "stdout",
     "output_type": "stream",
     "text": [
      "Epoch 1/20\n",
      "12454/12454 [==============================] - 306s 24ms/step - loss: 7.9018e-05\n",
      "Epoch 2/20\n",
      "12454/12454 [==============================] - 303s 24ms/step - loss: 1.2596e-05\n",
      "Epoch 3/20\n",
      "12454/12454 [==============================] - 302s 24ms/step - loss: 1.1314e-05\n",
      "Epoch 4/20\n",
      "12454/12454 [==============================] - 303s 24ms/step - loss: 1.0464e-05\n",
      "Epoch 5/20\n",
      "12454/12454 [==============================] - 302s 24ms/step - loss: 9.9941e-06\n",
      "Epoch 6/20\n",
      "12454/12454 [==============================] - 303s 24ms/step - loss: 9.8225e-06\n",
      "Epoch 7/20\n",
      "12454/12454 [==============================] - 304s 24ms/step - loss: 9.5727e-06\n",
      "Epoch 8/20\n",
      "12454/12454 [==============================] - 305s 24ms/step - loss: 9.3510e-06\n",
      "Epoch 9/20\n",
      "12454/12454 [==============================] - 303s 24ms/step - loss: 9.1841e-06\n",
      "Epoch 10/20\n",
      "12454/12454 [==============================] - 303s 24ms/step - loss: 9.0523e-06\n",
      "Epoch 11/20\n",
      "12454/12454 [==============================] - 303s 24ms/step - loss: 8.9383e-06\n",
      "Epoch 12/20\n",
      "12454/12454 [==============================] - 303s 24ms/step - loss: 8.8542e-06\n",
      "Epoch 13/20\n",
      "12454/12454 [==============================] - 303s 24ms/step - loss: 8.9418e-06\n",
      "Epoch 14/20\n",
      "12454/12454 [==============================] - 305s 25ms/step - loss: 8.7750e-06\n",
      "Epoch 15/20\n",
      "12454/12454 [==============================] - 303s 24ms/step - loss: 8.6783e-060s - loss:\n",
      "Epoch 16/20\n",
      "12454/12454 [==============================] - 303s 24ms/step - loss: 8.6034e-06\n",
      "Epoch 17/20\n",
      "12454/12454 [==============================] - 303s 24ms/step - loss: 8.5104e-06\n",
      "Epoch 18/20\n",
      "12454/12454 [==============================] - 303s 24ms/step - loss: 8.6240e-06\n",
      "Epoch 19/20\n",
      "12454/12454 [==============================] - 307s 25ms/step - loss: 8.5149e-06\n",
      "Epoch 20/20\n",
      "12454/12454 [==============================] - 303s 24ms/step - loss: 8.4855e-06\n"
     ]
    },
    {
     "data": {
      "text/plain": [
       "<keras.callbacks.History at 0x19aeb8ebb38>"
      ]
     },
     "execution_count": 109,
     "metadata": {},
     "output_type": "execute_result"
    }
   ],
   "source": [
    "model.fit(X_train,y_train,epochs=20,batch_size=64,verbose=1)"
   ]
  },
  {
   "cell_type": "code",
   "execution_count": 110,
   "metadata": {},
   "outputs": [],
   "source": [
    "model.save(\"BANKNIFY_11year_20min_qty_ltp.hdf5\")"
   ]
  },
  {
   "cell_type": "code",
   "execution_count": 111,
   "metadata": {},
   "outputs": [],
   "source": [
    "df33 = test_data['close']\n",
    "df44 = test_data['volume']"
   ]
  },
  {
   "cell_type": "code",
   "execution_count": 112,
   "metadata": {},
   "outputs": [
    {
     "data": {
      "text/plain": [
       "(140661, 2)"
      ]
     },
     "execution_count": 112,
     "metadata": {},
     "output_type": "execute_result"
    }
   ],
   "source": [
    "import numpy as np\n",
    "from sklearn.preprocessing import MinMaxScaler\n",
    "\n",
    "scaler = pickle.load(open(\"Train_20min_scale_ltp.pkl\", 'rb'))\n",
    "scaler1 = pickle.load(open(\"Train_20min_scale_ltq.pkl\", 'rb'))\n",
    "\n",
    "df33 = df33.values\n",
    "df44 = df44.values\n",
    "\n",
    "df33 = df33.reshape((len(df33), 1))\n",
    "df44 = df44.reshape((len(df44), 1))\n",
    "\n",
    "df33_scaled = scaler.transform(df33)\n",
    "df44_scaled = scaler1.transform(df44)\n",
    "\n",
    "dataset_stacked_test = np.hstack((df33_scaled, df44_scaled))\n",
    "dataset_stacked_test.shape"
   ]
  },
  {
   "cell_type": "code",
   "execution_count": 113,
   "metadata": {},
   "outputs": [
    {
     "name": "stdout",
     "output_type": "stream",
     "text": [
      "(140620, 20, 2)\n",
      "(140620,)\n"
     ]
    },
    {
     "data": {
      "text/plain": [
       "(None, None)"
      ]
     },
     "execution_count": 113,
     "metadata": {},
     "output_type": "execute_result"
    }
   ],
   "source": [
    "X_test, y_test = to_supervised(dataset_stacked_test,20,1)\n",
    "print(X_test.shape), print(y_test.shape)"
   ]
  },
  {
   "cell_type": "code",
   "execution_count": 114,
   "metadata": {},
   "outputs": [
    {
     "data": {
      "text/plain": [
       "array([[22020.219],\n",
       "       [22037.33 ],\n",
       "       [22043.734],\n",
       "       ...,\n",
       "       [38941.14 ],\n",
       "       [38952.26 ],\n",
       "       [38949.793]], dtype=float32)"
      ]
     },
     "execution_count": 114,
     "metadata": {},
     "output_type": "execute_result"
    }
   ],
   "source": [
    "model = tf.keras.models.load_model(\"BANKNIFY_11year_20min_qty_ltp.hdf5\")\n",
    "test_predict=model.predict(X_test)\n",
    "test_predict=scaler.inverse_transform(test_predict)\n",
    "test_predict"
   ]
  },
  {
   "cell_type": "markdown",
   "metadata": {},
   "source": [
    "### Model for 1-25 min"
   ]
  },
  {
   "cell_type": "code",
   "execution_count": 115,
   "metadata": {
    "colab": {
     "base_uri": "https://localhost:8080/",
     "height": 205
    },
    "id": "waPLUhqP-TQ3",
    "outputId": "f1be17af-40ef-45ab-b8ca-6087b479efb9"
   },
   "outputs": [
    {
     "data": {
      "text/html": [
       "<div>\n",
       "<style scoped>\n",
       "    .dataframe tbody tr th:only-of-type {\n",
       "        vertical-align: middle;\n",
       "    }\n",
       "\n",
       "    .dataframe tbody tr th {\n",
       "        vertical-align: top;\n",
       "    }\n",
       "\n",
       "    .dataframe thead th {\n",
       "        text-align: right;\n",
       "    }\n",
       "</style>\n",
       "<table border=\"1\" class=\"dataframe\">\n",
       "  <thead>\n",
       "    <tr style=\"text-align: right;\">\n",
       "      <th></th>\n",
       "      <th>Date</th>\n",
       "      <th>Time</th>\n",
       "      <th>close</th>\n",
       "      <th>volume</th>\n",
       "    </tr>\n",
       "  </thead>\n",
       "  <tbody>\n",
       "    <tr>\n",
       "      <th>937734</th>\n",
       "      <td>20220210</td>\n",
       "      <td>15:26:00</td>\n",
       "      <td>39014.00</td>\n",
       "      <td>20875</td>\n",
       "    </tr>\n",
       "    <tr>\n",
       "      <th>937735</th>\n",
       "      <td>20220210</td>\n",
       "      <td>15:27:00</td>\n",
       "      <td>39009.30</td>\n",
       "      <td>19925</td>\n",
       "    </tr>\n",
       "    <tr>\n",
       "      <th>937736</th>\n",
       "      <td>20220210</td>\n",
       "      <td>15:28:00</td>\n",
       "      <td>39011.25</td>\n",
       "      <td>32075</td>\n",
       "    </tr>\n",
       "    <tr>\n",
       "      <th>937737</th>\n",
       "      <td>20220210</td>\n",
       "      <td>15:29:00</td>\n",
       "      <td>39020.00</td>\n",
       "      <td>21200</td>\n",
       "    </tr>\n",
       "    <tr>\n",
       "      <th>937738</th>\n",
       "      <td>20220210</td>\n",
       "      <td>15:30:00</td>\n",
       "      <td>39035.00</td>\n",
       "      <td>425</td>\n",
       "    </tr>\n",
       "  </tbody>\n",
       "</table>\n",
       "</div>"
      ],
      "text/plain": [
       "            Date      Time     close  volume\n",
       "937734  20220210  15:26:00  39014.00   20875\n",
       "937735  20220210  15:27:00  39009.30   19925\n",
       "937736  20220210  15:28:00  39011.25   32075\n",
       "937737  20220210  15:29:00  39020.00   21200\n",
       "937738  20220210  15:30:00  39035.00     425"
      ]
     },
     "execution_count": 115,
     "metadata": {},
     "output_type": "execute_result"
    }
   ],
   "source": [
    "df_25 = pd.read_csv('BANKNIFTY/appended/data_1.csv')\n",
    "df_25 = pd.DataFrame(df_25)\n",
    "df_25.tail()"
   ]
  },
  {
   "cell_type": "code",
   "execution_count": 116,
   "metadata": {
    "colab": {
     "base_uri": "https://localhost:8080/",
     "height": 422
    },
    "id": "HNBe7nZRu5Fb",
    "outputId": "0c59bc31-de4b-464f-deb4-4c4277f2b7e2"
   },
   "outputs": [
    {
     "data": {
      "image/png": "[encoded data removed]",
      "text/plain": [
       "<Figure size 1152x576 with 1 Axes>"
      ]
     },
     "metadata": {
      "needs_background": "light"
     },
     "output_type": "display_data"
    }
   ],
   "source": [
    "plt.figure(figsize = (16,8))\n",
    "plt.title('Nifty 11 years')\n",
    "plt.plot(df_25.close)\n",
    "plt.show()"
   ]
  },
  {
   "cell_type": "code",
   "execution_count": 117,
   "metadata": {},
   "outputs": [
    {
     "name": "stdout",
     "output_type": "stream",
     "text": [
      "(797078, 4)\n",
      "(140661, 4)\n"
     ]
    }
   ],
   "source": [
    "training_size= int(0.85*len(df_25))\n",
    "test_size=len(df_25)-training_size\n",
    "train_data,test_data=df_25[0:training_size],df_25[training_size:len(df_25)]\n",
    "print(train_data.shape)\n",
    "print(test_data.shape)"
   ]
  },
  {
   "cell_type": "code",
   "execution_count": 118,
   "metadata": {},
   "outputs": [],
   "source": [
    "df11 = train_data['close']\n",
    "df22 = train_data['volume']"
   ]
  },
  {
   "cell_type": "code",
   "execution_count": 119,
   "metadata": {},
   "outputs": [
    {
     "name": "stdout",
     "output_type": "stream",
     "text": [
      "(797078, 2)\n",
      "[[0.00304958 0.01848377]\n",
      " [0.00232837 0.01566898]\n",
      " [0.0032123  0.01238506]\n",
      " ...\n",
      " [0.56833021 0.01998499]\n",
      " [0.56856324 0.01018015]\n",
      " [0.56841056 0.00881967]]\n"
     ]
    },
    {
     "name": "stderr",
     "output_type": "stream",
     "text": [
      "C:\\Users\\Pritesh Borad\\Anaconda3\\lib\\site-packages\\sklearn\\utils\\validation.py:590: DataConversionWarning: Data with input dtype int64 was converted to float64 by MinMaxScaler.\n",
      "  warnings.warn(msg, DataConversionWarning)\n"
     ]
    }
   ],
   "source": [
    "import numpy as np\n",
    "from sklearn.preprocessing import MinMaxScaler\n",
    "import pickle\n",
    "\n",
    "df11 = df11.values\n",
    "df22 = df22.values\n",
    "\n",
    "df11 = df11.reshape((len(df11), 1))\n",
    "df22 = df22.reshape((len(df22), 1))\n",
    "\n",
    "scaler = MinMaxScaler(feature_range=(0, 1))\n",
    "scaler1 = MinMaxScaler(feature_range=(0, 1))\n",
    "df11_scaled = scaler.fit_transform(df11)\n",
    "df22_scaled = scaler1.fit_transform(df22)\n",
    "\n",
    "dataset_stacked = np.hstack((df11_scaled, df22_scaled))\n",
    "pickle.dump(scaler, open(\"Train_25min_scale_ltp.pkl\", 'wb'))\n",
    "pickle.dump(scaler1, open(\"Train_25min_scale_ltq.pkl\", 'wb'))\n",
    "print(dataset_stacked.shape)\n",
    "print(dataset_stacked)\n"
   ]
  },
  {
   "cell_type": "code",
   "execution_count": 120,
   "metadata": {},
   "outputs": [],
   "source": [
    "def to_supervised(train, n_input, n_out):\n",
    "\t# flatten data\n",
    "\tX, y = [], []\n",
    "\tin_start = 0\n",
    "\t# step over the entire history one time step at a time\n",
    "\tfor _ in range(len(train)):\n",
    "\t\t# define the end of the input sequence\n",
    "\t\tin_end = in_start + n_input\n",
    "\t\tout_end = in_end + n_out\n",
    "\t\t# ensure we have enough data for this instance\n",
    "\t\tif out_end+25 < len(train):\n",
    "\t\t\tx_input = train[in_start:in_end]\n",
    "\t\t\tx_input = x_input.reshape((len(x_input), 2))\n",
    "\t\t\tX.append(x_input)\n",
    "\t\t\ty.append(train[49+in_start, 0])\n",
    "\t\t# move along one time step\n",
    "\t\tin_start += 1\n",
    "\treturn np.array(X), np.array(y)"
   ]
  },
  {
   "cell_type": "code",
   "execution_count": 121,
   "metadata": {},
   "outputs": [
    {
     "name": "stdout",
     "output_type": "stream",
     "text": [
      "(797027, 25, 2)\n",
      "(797027,)\n"
     ]
    },
    {
     "data": {
      "text/plain": [
       "(None, None)"
      ]
     },
     "execution_count": 121,
     "metadata": {},
     "output_type": "execute_result"
    }
   ],
   "source": [
    "X_train, y_train = to_supervised(dataset_stacked,25,1)\n",
    "print(X_train.shape), print(y_train.shape)"
   ]
  },
  {
   "cell_type": "code",
   "execution_count": 122,
   "metadata": {},
   "outputs": [],
   "source": [
    "#deep learning model\n",
    "\n",
    "from tensorflow.keras.models import Sequential\n",
    "from tensorflow.keras.layers import Dense\n",
    "from tensorflow.keras.layers import LSTM, Dropout\n",
    "import tensorflow as tf\n",
    "\n",
    "model=Sequential()\n",
    "model.add(LSTM(50,return_sequences=True,input_shape=(25,2)))\n",
    "#model.add(Dropout(0.2))\n",
    "model.add(LSTM(100,return_sequences=False))\n",
    "#model.add(Dropout(0.2))\n",
    "#model.add(LSTM(70,return_sequences=False))\n",
    "#model.add(Dropout(0.2))\n",
    "model.add(Dense(100))\n",
    "model.add(Dense(1))\n",
    "model.compile(loss='mean_squared_error',optimizer='adam')"
   ]
  },
  {
   "cell_type": "code",
   "execution_count": 123,
   "metadata": {},
   "outputs": [
    {
     "name": "stdout",
     "output_type": "stream",
     "text": [
      "Epoch 1/10\n",
      "12454/12454 [==============================] - 365s 29ms/step - loss: 7.7779e-05\n",
      "Epoch 2/10\n",
      "12454/12454 [==============================] - 363s 29ms/step - loss: 1.4684e-05\n",
      "Epoch 3/10\n",
      "12454/12454 [==============================] - 381s 31ms/step - loss: 1.3070e-05\n",
      "Epoch 4/10\n",
      "12454/12454 [==============================] - 384s 31ms/step - loss: 1.2270e-05\n",
      "Epoch 5/10\n",
      "12454/12454 [==============================] - 385s 31ms/step - loss: 1.1932e-05\n",
      "Epoch 6/10\n",
      "12454/12454 [==============================] - 383s 31ms/step - loss: 1.1671e-05\n",
      "Epoch 7/10\n",
      "12454/12454 [==============================] - 384s 31ms/step - loss: 1.1476e-05\n",
      "Epoch 8/10\n",
      "12454/12454 [==============================] - 378s 30ms/step - loss: 1.1325e-05\n",
      "Epoch 9/10\n",
      "12454/12454 [==============================] - 373s 30ms/step - loss: 1.1255e-05\n",
      "Epoch 10/10\n",
      "12454/12454 [==============================] - 368s 30ms/step - loss: 1.1067e-05\n"
     ]
    },
    {
     "data": {
      "text/plain": [
       "<keras.callbacks.History at 0x19a9cb7fa90>"
      ]
     },
     "execution_count": 123,
     "metadata": {},
     "output_type": "execute_result"
    }
   ],
   "source": [
    "model.fit(X_train,y_train,epochs=10,batch_size=64,verbose=1)"
   ]
  },
  {
   "cell_type": "code",
   "execution_count": 124,
   "metadata": {},
   "outputs": [],
   "source": [
    "model.save(\"BANKNIFY_11year_25min_qty_ltp.hdf5\")"
   ]
  },
  {
   "cell_type": "code",
   "execution_count": 125,
   "metadata": {},
   "outputs": [],
   "source": [
    "df33 = test_data['close']\n",
    "df44 = test_data['volume']"
   ]
  },
  {
   "cell_type": "code",
   "execution_count": 126,
   "metadata": {},
   "outputs": [
    {
     "data": {
      "text/plain": [
       "(140661, 2)"
      ]
     },
     "execution_count": 126,
     "metadata": {},
     "output_type": "execute_result"
    }
   ],
   "source": [
    "import numpy as np\n",
    "from sklearn.preprocessing import MinMaxScaler\n",
    "\n",
    "scaler = pickle.load(open(\"Train_25min_scale_ltp.pkl\", 'rb'))\n",
    "scaler1 = pickle.load(open(\"Train_25min_scale_ltq.pkl\", 'rb'))\n",
    "\n",
    "df33 = df33.values\n",
    "df44 = df44.values\n",
    "\n",
    "df33 = df33.reshape((len(df33), 1))\n",
    "df44 = df44.reshape((len(df44), 1))\n",
    "\n",
    "df33_scaled = scaler.transform(df33)\n",
    "df44_scaled = scaler1.transform(df44)\n",
    "\n",
    "dataset_stacked_test = np.hstack((df33_scaled, df44_scaled))\n",
    "dataset_stacked_test.shape"
   ]
  },
  {
   "cell_type": "code",
   "execution_count": 127,
   "metadata": {},
   "outputs": [
    {
     "name": "stdout",
     "output_type": "stream",
     "text": [
      "(140610, 25, 2)\n",
      "(140610,)\n"
     ]
    },
    {
     "data": {
      "text/plain": [
       "(None, None)"
      ]
     },
     "execution_count": 127,
     "metadata": {},
     "output_type": "execute_result"
    }
   ],
   "source": [
    "X_test, y_test = to_supervised(dataset_stacked_test,25,1)\n",
    "print(X_test.shape), print(y_test.shape)"
   ]
  },
  {
   "cell_type": "code",
   "execution_count": 128,
   "metadata": {},
   "outputs": [
    {
     "data": {
      "text/plain": [
       "array([[22065.574],\n",
       "       [22065.283],\n",
       "       [22057.215],\n",
       "       ...,\n",
       "       [39092.992],\n",
       "       [39068.246],\n",
       "       [39062.984]], dtype=float32)"
      ]
     },
     "execution_count": 128,
     "metadata": {},
     "output_type": "execute_result"
    }
   ],
   "source": [
    "model = tf.keras.models.load_model(\"BANKNIFY_11year_25min_qty_ltp.hdf5\")\n",
    "test_predict=model.predict(X_test)\n",
    "test_predict=scaler.inverse_transform(test_predict)\n",
    "test_predict"
   ]
  },
  {
   "cell_type": "markdown",
   "metadata": {},
   "source": [
    "### Model 1-30 min"
   ]
  },
  {
   "cell_type": "code",
   "execution_count": 129,
   "metadata": {
    "colab": {
     "base_uri": "https://localhost:8080/",
     "height": 205
    },
    "id": "waPLUhqP-TQ3",
    "outputId": "f1be17af-40ef-45ab-b8ca-6087b479efb9"
   },
   "outputs": [
    {
     "data": {
      "text/html": [
       "<div>\n",
       "<style scoped>\n",
       "    .dataframe tbody tr th:only-of-type {\n",
       "        vertical-align: middle;\n",
       "    }\n",
       "\n",
       "    .dataframe tbody tr th {\n",
       "        vertical-align: top;\n",
       "    }\n",
       "\n",
       "    .dataframe thead th {\n",
       "        text-align: right;\n",
       "    }\n",
       "</style>\n",
       "<table border=\"1\" class=\"dataframe\">\n",
       "  <thead>\n",
       "    <tr style=\"text-align: right;\">\n",
       "      <th></th>\n",
       "      <th>Date</th>\n",
       "      <th>Time</th>\n",
       "      <th>close</th>\n",
       "      <th>volume</th>\n",
       "    </tr>\n",
       "  </thead>\n",
       "  <tbody>\n",
       "    <tr>\n",
       "      <th>937734</th>\n",
       "      <td>20220210</td>\n",
       "      <td>15:26:00</td>\n",
       "      <td>39014.00</td>\n",
       "      <td>20875</td>\n",
       "    </tr>\n",
       "    <tr>\n",
       "      <th>937735</th>\n",
       "      <td>20220210</td>\n",
       "      <td>15:27:00</td>\n",
       "      <td>39009.30</td>\n",
       "      <td>19925</td>\n",
       "    </tr>\n",
       "    <tr>\n",
       "      <th>937736</th>\n",
       "      <td>20220210</td>\n",
       "      <td>15:28:00</td>\n",
       "      <td>39011.25</td>\n",
       "      <td>32075</td>\n",
       "    </tr>\n",
       "    <tr>\n",
       "      <th>937737</th>\n",
       "      <td>20220210</td>\n",
       "      <td>15:29:00</td>\n",
       "      <td>39020.00</td>\n",
       "      <td>21200</td>\n",
       "    </tr>\n",
       "    <tr>\n",
       "      <th>937738</th>\n",
       "      <td>20220210</td>\n",
       "      <td>15:30:00</td>\n",
       "      <td>39035.00</td>\n",
       "      <td>425</td>\n",
       "    </tr>\n",
       "  </tbody>\n",
       "</table>\n",
       "</div>"
      ],
      "text/plain": [
       "            Date      Time     close  volume\n",
       "937734  20220210  15:26:00  39014.00   20875\n",
       "937735  20220210  15:27:00  39009.30   19925\n",
       "937736  20220210  15:28:00  39011.25   32075\n",
       "937737  20220210  15:29:00  39020.00   21200\n",
       "937738  20220210  15:30:00  39035.00     425"
      ]
     },
     "execution_count": 129,
     "metadata": {},
     "output_type": "execute_result"
    }
   ],
   "source": [
    "df_30 = pd.read_csv('BANKNIFTY/appended/data_1.csv')\n",
    "df_30 = pd.DataFrame(df_30)\n",
    "df_30.tail()"
   ]
  },
  {
   "cell_type": "code",
   "execution_count": 130,
   "metadata": {
    "colab": {
     "base_uri": "https://localhost:8080/",
     "height": 422
    },
    "id": "HNBe7nZRu5Fb",
    "outputId": "0c59bc31-de4b-464f-deb4-4c4277f2b7e2"
   },
   "outputs": [
    {
     "data": {
      "image/png": "[encoded data removed]",
      "text/plain": [
       "<Figure size 1152x576 with 1 Axes>"
      ]
     },
     "metadata": {
      "needs_background": "light"
     },
     "output_type": "display_data"
    }
   ],
   "source": [
    "plt.figure(figsize = (16,8))\n",
    "plt.title('Nifty 11 years')\n",
    "plt.plot(df_30.close)\n",
    "plt.show()"
   ]
  },
  {
   "cell_type": "code",
   "execution_count": 131,
   "metadata": {},
   "outputs": [
    {
     "name": "stdout",
     "output_type": "stream",
     "text": [
      "(797078, 4)\n",
      "(140661, 4)\n"
     ]
    }
   ],
   "source": [
    "training_size= int(0.85*len(df_30))\n",
    "test_size=len(df_30)-training_size\n",
    "train_data,test_data=df_30[0:training_size],df_30[training_size:len(df_30)]\n",
    "print(train_data.shape)\n",
    "print(test_data.shape)"
   ]
  },
  {
   "cell_type": "code",
   "execution_count": 132,
   "metadata": {},
   "outputs": [],
   "source": [
    "df11 = train_data['close']\n",
    "df22 = train_data['volume']"
   ]
  },
  {
   "cell_type": "code",
   "execution_count": 133,
   "metadata": {},
   "outputs": [
    {
     "name": "stdout",
     "output_type": "stream",
     "text": [
      "(797078, 2)\n",
      "[[0.00304958 0.01848377]\n",
      " [0.00232837 0.01566898]\n",
      " [0.0032123  0.01238506]\n",
      " ...\n",
      " [0.56833021 0.01998499]\n",
      " [0.56856324 0.01018015]\n",
      " [0.56841056 0.00881967]]\n"
     ]
    },
    {
     "name": "stderr",
     "output_type": "stream",
     "text": [
      "C:\\Users\\Pritesh Borad\\Anaconda3\\lib\\site-packages\\sklearn\\utils\\validation.py:590: DataConversionWarning: Data with input dtype int64 was converted to float64 by MinMaxScaler.\n",
      "  warnings.warn(msg, DataConversionWarning)\n"
     ]
    }
   ],
   "source": [
    "import numpy as np\n",
    "from sklearn.preprocessing import MinMaxScaler\n",
    "import pickle\n",
    "\n",
    "df11 = df11.values\n",
    "df22 = df22.values\n",
    "\n",
    "df11 = df11.reshape((len(df11), 1))\n",
    "df22 = df22.reshape((len(df22), 1))\n",
    "\n",
    "scaler = MinMaxScaler(feature_range=(0, 1))\n",
    "scaler1 = MinMaxScaler(feature_range=(0, 1))\n",
    "df11_scaled = scaler.fit_transform(df11)\n",
    "df22_scaled = scaler1.fit_transform(df22)\n",
    "\n",
    "dataset_stacked = np.hstack((df11_scaled, df22_scaled))\n",
    "pickle.dump(scaler, open(\"Train_30min_scale_ltp.pkl\", 'wb'))\n",
    "pickle.dump(scaler1, open(\"Train_30min_scale_ltq.pkl\", 'wb'))\n",
    "print(dataset_stacked.shape)\n",
    "print(dataset_stacked)\n"
   ]
  },
  {
   "cell_type": "code",
   "execution_count": 134,
   "metadata": {},
   "outputs": [],
   "source": [
    "def to_supervised(train, n_input, n_out):\n",
    "\t# flatten data\n",
    "\tX, y = [], []\n",
    "\tin_start = 0\n",
    "\t# step over the entire history one time step at a time\n",
    "\tfor _ in range(len(train)):\n",
    "\t\t# define the end of the input sequence\n",
    "\t\tin_end = in_start + n_input\n",
    "\t\tout_end = in_end + n_out\n",
    "\t\t# ensure we have enough data for this instance\n",
    "\t\tif out_end+30 < len(train):\n",
    "\t\t\tx_input = train[in_start:in_end]\n",
    "\t\t\tx_input = x_input.reshape((len(x_input), 2))\n",
    "\t\t\tX.append(x_input)\n",
    "\t\t\ty.append(train[59+in_start, 0])\n",
    "\t\t# move along one time step\n",
    "\t\tin_start += 1\n",
    "\treturn np.array(X), np.array(y)"
   ]
  },
  {
   "cell_type": "code",
   "execution_count": 135,
   "metadata": {},
   "outputs": [
    {
     "name": "stdout",
     "output_type": "stream",
     "text": [
      "(797017, 30, 2)\n",
      "(797017,)\n"
     ]
    },
    {
     "data": {
      "text/plain": [
       "(None, None)"
      ]
     },
     "execution_count": 135,
     "metadata": {},
     "output_type": "execute_result"
    }
   ],
   "source": [
    "X_train, y_train = to_supervised(dataset_stacked,30,1)\n",
    "print(X_train.shape), print(y_train.shape)"
   ]
  },
  {
   "cell_type": "code",
   "execution_count": 136,
   "metadata": {},
   "outputs": [],
   "source": [
    "#deep learning model\n",
    "\n",
    "from tensorflow.keras.models import Sequential\n",
    "from tensorflow.keras.layers import Dense\n",
    "from tensorflow.keras.layers import LSTM, Dropout\n",
    "import tensorflow as tf\n",
    "\n",
    "model=Sequential()\n",
    "model.add(LSTM(50,return_sequences=True,input_shape=(30,2)))\n",
    "#model.add(Dropout(0.2))\n",
    "model.add(LSTM(100,return_sequences=False))\n",
    "#model.add(Dropout(0.2))\n",
    "#model.add(LSTM(70,return_sequences=False))\n",
    "#model.add(Dropout(0.2))\n",
    "model.add(Dense(100))\n",
    "model.add(Dense(1))\n",
    "model.compile(loss='mean_squared_error',optimizer='adam')"
   ]
  },
  {
   "cell_type": "code",
   "execution_count": 137,
   "metadata": {},
   "outputs": [
    {
     "name": "stdout",
     "output_type": "stream",
     "text": [
      "Epoch 1/10\n",
      "12454/12454 [==============================] - 432s 35ms/step - loss: 8.9835e-05\n",
      "Epoch 2/10\n",
      "12454/12454 [==============================] - 430s 35ms/step - loss: 1.7037e-05\n",
      "Epoch 3/10\n",
      "12454/12454 [==============================] - 434s 35ms/step - loss: 1.5199e-05\n",
      "Epoch 4/10\n",
      "12454/12454 [==============================] - 436s 35ms/step - loss: 1.4430e-05\n",
      "Epoch 5/10\n",
      "12454/12454 [==============================] - 436s 35ms/step - loss: 1.3913e-05\n",
      "Epoch 6/10\n",
      "12454/12454 [==============================] - 441s 35ms/step - loss: 1.3594e-05\n",
      "Epoch 7/10\n",
      "12454/12454 [==============================] - 441s 35ms/step - loss: 1.3464e-05\n",
      "Epoch 8/10\n",
      "12454/12454 [==============================] - 468s 38ms/step - loss: 1.3243e-05\n",
      "Epoch 9/10\n",
      "12454/12454 [==============================] - 439s 35ms/step - loss: 1.3054e-05\n",
      "Epoch 10/10\n",
      "12454/12454 [==============================] - 436s 35ms/step - loss: 1.2914e-05\n"
     ]
    },
    {
     "data": {
      "text/plain": [
       "<keras.callbacks.History at 0x19a3f721c88>"
      ]
     },
     "execution_count": 137,
     "metadata": {},
     "output_type": "execute_result"
    }
   ],
   "source": [
    "model.fit(X_train,y_train,epochs=10,batch_size=64,verbose=1)"
   ]
  },
  {
   "cell_type": "code",
   "execution_count": 138,
   "metadata": {},
   "outputs": [],
   "source": [
    "model.save(\"BANKNIFY_11year_30min_qty_ltp.hdf5\")"
   ]
  },
  {
   "cell_type": "code",
   "execution_count": 139,
   "metadata": {},
   "outputs": [],
   "source": [
    "df33 = test_data['close']\n",
    "df44 = test_data['volume']"
   ]
  },
  {
   "cell_type": "code",
   "execution_count": 140,
   "metadata": {},
   "outputs": [
    {
     "data": {
      "text/plain": [
       "(140661, 2)"
      ]
     },
     "execution_count": 140,
     "metadata": {},
     "output_type": "execute_result"
    }
   ],
   "source": [
    "import numpy as np\n",
    "from sklearn.preprocessing import MinMaxScaler\n",
    "\n",
    "scaler = pickle.load(open(\"Train_30min_scale_ltp.pkl\", 'rb'))\n",
    "scaler1 = pickle.load(open(\"Train_30min_scale_ltq.pkl\", 'rb'))\n",
    "\n",
    "df33 = df33.values\n",
    "df44 = df44.values\n",
    "\n",
    "df33 = df33.reshape((len(df33), 1))\n",
    "df44 = df44.reshape((len(df44), 1))\n",
    "\n",
    "df33_scaled = scaler.transform(df33)\n",
    "df44_scaled = scaler1.transform(df44)\n",
    "\n",
    "dataset_stacked_test = np.hstack((df33_scaled, df44_scaled))\n",
    "dataset_stacked_test.shape"
   ]
  },
  {
   "cell_type": "code",
   "execution_count": 141,
   "metadata": {},
   "outputs": [
    {
     "name": "stdout",
     "output_type": "stream",
     "text": [
      "(140600, 30, 2)\n",
      "(140600,)\n"
     ]
    },
    {
     "data": {
      "text/plain": [
       "(None, None)"
      ]
     },
     "execution_count": 141,
     "metadata": {},
     "output_type": "execute_result"
    }
   ],
   "source": [
    "X_test, y_test = to_supervised(dataset_stacked_test,30,1)\n",
    "print(X_test.shape), print(y_test.shape)"
   ]
  },
  {
   "cell_type": "code",
   "execution_count": 142,
   "metadata": {},
   "outputs": [
    {
     "data": {
      "text/plain": [
       "array([[22040.168],\n",
       "       [22038.123],\n",
       "       [22041.268],\n",
       "       ...,\n",
       "       [38999.883],\n",
       "       [39006.855],\n",
       "       [39006.38 ]], dtype=float32)"
      ]
     },
     "execution_count": 142,
     "metadata": {},
     "output_type": "execute_result"
    }
   ],
   "source": [
    "model = tf.keras.models.load_model(\"BANKNIFY_11year_30min_qty_ltp.hdf5\")\n",
    "test_predict=model.predict(X_test)\n",
    "test_predict=scaler.inverse_transform(test_predict)\n",
    "test_predict"
   ]
  },
  {
   "cell_type": "code",
   "execution_count": null,
   "metadata": {},
   "outputs": [],
   "source": []
  },
  {
   "cell_type": "code",
   "execution_count": null,
   "metadata": {},
   "outputs": [],
   "source": []
  },
  {
   "cell_type": "markdown",
   "metadata": {},
   "source": [
    "# Training for 5 min"
   ]
  },
  {
   "cell_type": "code",
   "execution_count": 88,
   "metadata": {
    "colab": {
     "base_uri": "https://localhost:8080/",
     "height": 205
    },
    "id": "waPLUhqP-TQ3",
    "outputId": "f1be17af-40ef-45ab-b8ca-6087b479efb9"
   },
   "outputs": [
    {
     "data": {
      "text/html": [
       "<div>\n",
       "<style scoped>\n",
       "    .dataframe tbody tr th:only-of-type {\n",
       "        vertical-align: middle;\n",
       "    }\n",
       "\n",
       "    .dataframe tbody tr th {\n",
       "        vertical-align: top;\n",
       "    }\n",
       "\n",
       "    .dataframe thead th {\n",
       "        text-align: right;\n",
       "    }\n",
       "</style>\n",
       "<table border=\"1\" class=\"dataframe\">\n",
       "  <thead>\n",
       "    <tr style=\"text-align: right;\">\n",
       "      <th></th>\n",
       "      <th>Date</th>\n",
       "      <th>Time</th>\n",
       "      <th>close</th>\n",
       "      <th>volume</th>\n",
       "    </tr>\n",
       "  </thead>\n",
       "  <tbody>\n",
       "    <tr>\n",
       "      <th>188832</th>\n",
       "      <td>202201031</td>\n",
       "      <td>15:14:00</td>\n",
       "      <td>38144.45</td>\n",
       "      <td>79050</td>\n",
       "    </tr>\n",
       "    <tr>\n",
       "      <th>188833</th>\n",
       "      <td>202201031</td>\n",
       "      <td>15:19:00</td>\n",
       "      <td>38157.80</td>\n",
       "      <td>79800</td>\n",
       "    </tr>\n",
       "    <tr>\n",
       "      <th>188834</th>\n",
       "      <td>202201031</td>\n",
       "      <td>15:24:00</td>\n",
       "      <td>38091.05</td>\n",
       "      <td>87575</td>\n",
       "    </tr>\n",
       "    <tr>\n",
       "      <th>188835</th>\n",
       "      <td>202201031</td>\n",
       "      <td>15:29:00</td>\n",
       "      <td>38085.00</td>\n",
       "      <td>117700</td>\n",
       "    </tr>\n",
       "    <tr>\n",
       "      <th>188836</th>\n",
       "      <td>202201031</td>\n",
       "      <td>15:30:00</td>\n",
       "      <td>38088.00</td>\n",
       "      <td>675</td>\n",
       "    </tr>\n",
       "  </tbody>\n",
       "</table>\n",
       "</div>"
      ],
      "text/plain": [
       "             Date      Time     close  volume\n",
       "188832  202201031  15:14:00  38144.45   79050\n",
       "188833  202201031  15:19:00  38157.80   79800\n",
       "188834  202201031  15:24:00  38091.05   87575\n",
       "188835  202201031  15:29:00  38085.00  117700\n",
       "188836  202201031  15:30:00  38088.00     675"
      ]
     },
     "execution_count": 88,
     "metadata": {},
     "output_type": "execute_result"
    }
   ],
   "source": [
    "df_5 = pd.read_csv('BANKNIFTY/appended/data_5.csv')\n",
    "df_5 = pd.DataFrame(df_5)\n",
    "df_5.tail()"
   ]
  },
  {
   "cell_type": "code",
   "execution_count": 89,
   "metadata": {
    "colab": {
     "base_uri": "https://localhost:8080/",
     "height": 422
    },
    "id": "HNBe7nZRu5Fb",
    "outputId": "0c59bc31-de4b-464f-deb4-4c4277f2b7e2"
   },
   "outputs": [
    {
     "data": {
      "image/png": "[encoded data removed]",
      "text/plain": [
       "<Figure size 1152x576 with 1 Axes>"
      ]
     },
     "metadata": {
      "needs_background": "light"
     },
     "output_type": "display_data"
    }
   ],
   "source": [
    "plt.figure(figsize = (16,8))\n",
    "plt.title('Nifty 11 years')\n",
    "plt.plot(df_5.close)\n",
    "plt.show()"
   ]
  },
  {
   "cell_type": "code",
   "execution_count": 176,
   "metadata": {},
   "outputs": [
    {
     "name": "stdout",
     "output_type": "stream",
     "text": [
      "(160511, 4)\n",
      "(28326, 4)\n"
     ]
    }
   ],
   "source": [
    "training_size= int(0.85*len(df_5))\n",
    "test_size=len(df_5)-training_size\n",
    "train_data,test_data=df_5[0:training_size],df_5[training_size:len(df_5)]\n",
    "print(train_data.shape)\n",
    "print(test_data.shape)"
   ]
  },
  {
   "cell_type": "code",
   "execution_count": 177,
   "metadata": {},
   "outputs": [],
   "source": [
    "df11 = train_data['close']\n",
    "df22 = train_data['volume']"
   ]
  },
  {
   "cell_type": "code",
   "execution_count": 178,
   "metadata": {},
   "outputs": [
    {
     "name": "stdout",
     "output_type": "stream",
     "text": [
      "(160511, 2)\n",
      "[[0.00302383 0.02560543]\n",
      " [0.00327916 0.02477607]\n",
      " [0.0040512  0.02389263]\n",
      " ...\n",
      " [0.57545192 0.0639721 ]\n",
      " [0.57533933 0.07325727]\n",
      " [0.57549414 0.04720471]]\n"
     ]
    },
    {
     "name": "stderr",
     "output_type": "stream",
     "text": [
      "C:\\Users\\Pritesh Borad\\Anaconda3\\lib\\site-packages\\sklearn\\utils\\validation.py:590: DataConversionWarning: Data with input dtype int64 was converted to float64 by MinMaxScaler.\n",
      "  warnings.warn(msg, DataConversionWarning)\n"
     ]
    }
   ],
   "source": [
    "import numpy as np\n",
    "from sklearn.preprocessing import MinMaxScaler\n",
    "import pickle\n",
    "\n",
    "df11 = df11.values\n",
    "df22 = df22.values\n",
    "\n",
    "df11 = df11.reshape((len(df11), 1))\n",
    "df22 = df22.reshape((len(df22), 1))\n",
    "\n",
    "scaler = MinMaxScaler(feature_range=(0, 1))\n",
    "scaler1 = MinMaxScaler(feature_range=(0, 1))\n",
    "df11_scaled = scaler.fit_transform(df11)\n",
    "df22_scaled = scaler1.fit_transform(df22)\n",
    "\n",
    "dataset_stacked = np.hstack((df11_scaled, df22_scaled))\n",
    "pickle.dump(scaler, open(\"Train_5min_scale_ltp.pkl\", 'wb'))\n",
    "pickle.dump(scaler1, open(\"Train_5min_scale_ltq.pkl\", 'wb'))\n",
    "print(dataset_stacked.shape)\n",
    "print(dataset_stacked)\n"
   ]
  },
  {
   "cell_type": "code",
   "execution_count": 134,
   "metadata": {},
   "outputs": [
    {
     "name": "stderr",
     "output_type": "stream",
     "text": [
      "C:\\Users\\Pritesh Borad\\Anaconda3\\lib\\site-packages\\sklearn\\preprocessing\\data.py:323: DataConversionWarning: Data with input dtype int64 were all converted to float64 by MinMaxScaler.\n",
      "  return self.partial_fit(X, y)\n"
     ]
    },
    {
     "data": {
      "text/plain": [
       "array([[0.  , 0.  ],\n",
       "       [0.25, 0.25],\n",
       "       [0.5 , 0.5 ],\n",
       "       [0.75, 0.75],\n",
       "       [1.  , 1.  ]])"
      ]
     },
     "execution_count": 134,
     "metadata": {},
     "output_type": "execute_result"
    }
   ],
   "source": [
    "# df_practice = pd.DataFrame({'A':[1,2,3,4,5],'B':[6,7,8,9,10]})\n",
    "# scaler = MinMaxScaler(feature_range=(0, 1))\n",
    "# df_practice_scaled = scaler.fit_transform(df_practice)\n",
    "# df_practice_scaled"
   ]
  },
  {
   "cell_type": "code",
   "execution_count": 192,
   "metadata": {},
   "outputs": [
    {
     "data": {
      "text/plain": [
       "array([[[ 6, 11]]], dtype=int64)"
      ]
     },
     "execution_count": 192,
     "metadata": {},
     "output_type": "execute_result"
    }
   ],
   "source": [
    "# df_practice2 = pd.DataFrame({'A':[6,7,8,9,10],'B':[11,12,13,14,15]})\n",
    "# df_practice_scaled2 = scaler.transform(df_practice2)\n",
    "# df_practice_scaled2\n",
    "df_practice2 = pd.DataFrame({'A':[6],'B':[11]})\n",
    "practice2 = np.array(df_practice2)\n",
    "practice2 = np.expand_dims(practice2, axis=0)\n",
    "practice2"
   ]
  },
  {
   "cell_type": "code",
   "execution_count": 94,
   "metadata": {},
   "outputs": [],
   "source": [
    "def to_supervised(train, n_input, n_out):\n",
    "\t# flatten data\n",
    "\tX, y = [], []\n",
    "\tin_start = 0\n",
    "\t# step over the entire history one time step at a time\n",
    "\tfor _ in range(len(train)):\n",
    "\t\t# define the end of the input sequence\n",
    "\t\tin_end = in_start + n_input\n",
    "\t\tout_end = in_end + n_out\n",
    "\t\t# ensure we have enough data for this instance\n",
    "\t\tif out_end < len(train):\n",
    "\t\t\tx_input = train[in_start:in_end]\n",
    "\t\t\tx_input = x_input.reshape((len(x_input), 2))\n",
    "\t\t\tX.append(x_input)\n",
    "\t\t\ty.append(train[in_end:out_end, 0])\n",
    "\t\t# move along one time step\n",
    "\t\tin_start += 1\n",
    "\treturn np.array(X), np.array(y)"
   ]
  },
  {
   "cell_type": "code",
   "execution_count": 184,
   "metadata": {},
   "outputs": [
    {
     "name": "stdout",
     "output_type": "stream",
     "text": [
      "(160505, 5, 2)\n",
      "(160505, 1)\n"
     ]
    },
    {
     "data": {
      "text/plain": [
       "array([[[3.02382671e-03, 2.56054290e-02],\n",
       "        [3.27916314e-03, 2.47760742e-02],\n",
       "        [4.05120400e-03, 2.38926310e-02],\n",
       "        [3.82803594e-03, 2.27207166e-02],\n",
       "        [3.71142560e-03, 8.42336040e-03]],\n",
       "\n",
       "       [[3.27916314e-03, 2.47760742e-02],\n",
       "        [4.05120400e-03, 2.38926310e-02],\n",
       "        [3.82803594e-03, 2.27207166e-02],\n",
       "        [3.71142560e-03, 8.42336040e-03],\n",
       "        [4.10950917e-03, 1.53827292e-02]],\n",
       "\n",
       "       [[4.05120400e-03, 2.38926310e-02],\n",
       "        [3.82803594e-03, 2.27207166e-02],\n",
       "        [3.71142560e-03, 8.42336040e-03],\n",
       "        [4.10950917e-03, 1.53827292e-02],\n",
       "        [3.82803594e-03, 4.67323420e-03]],\n",
       "\n",
       "       ...,\n",
       "\n",
       "       [[5.66171341e-01, 6.09972451e-02],\n",
       "        [5.66249751e-01, 3.60589058e-06],\n",
       "        [5.76014862e-01, 1.80787094e-01],\n",
       "        [5.76626061e-01, 9.31617891e-02],\n",
       "        [5.77267418e-01, 1.00535835e-01]],\n",
       "\n",
       "       [[5.66249751e-01, 3.60589058e-06],\n",
       "        [5.76014862e-01, 1.80787094e-01],\n",
       "        [5.76626061e-01, 9.31617891e-02],\n",
       "        [5.77267418e-01, 1.00535835e-01],\n",
       "        [5.76772829e-01, 7.47356882e-02]],\n",
       "\n",
       "       [[5.76014862e-01, 1.80787094e-01],\n",
       "        [5.76626061e-01, 9.31617891e-02],\n",
       "        [5.77267418e-01, 1.00535835e-01],\n",
       "        [5.76772829e-01, 7.47356882e-02],\n",
       "        [5.75451915e-01, 6.39721048e-02]]])"
      ]
     },
     "execution_count": 184,
     "metadata": {},
     "output_type": "execute_result"
    }
   ],
   "source": [
    "X_train, y_train = to_supervised(dataset_stacked,5,1)\n",
    "print(X_train.shape), print(y_train.shape)\n",
    "X_train"
   ]
  },
  {
   "cell_type": "code",
   "execution_count": 96,
   "metadata": {},
   "outputs": [],
   "source": [
    "#deep learning model\n",
    "\n",
    "from tensorflow.keras.models import Sequential\n",
    "from tensorflow.keras.layers import Dense\n",
    "from tensorflow.keras.layers import LSTM, Dropout\n",
    "import tensorflow as tf\n",
    "\n",
    "model=Sequential()\n",
    "model.add(LSTM(50,return_sequences=True,input_shape=(5,2)))\n",
    "#model.add(Dropout(0.2))\n",
    "model.add(LSTM(100,return_sequences=False))\n",
    "#model.add(Dropout(0.2))\n",
    "#model.add(LSTM(70,return_sequences=False))\n",
    "#model.add(Dropout(0.2))\n",
    "model.add(Dense(100))\n",
    "model.add(Dense(1))\n",
    "model.compile(loss='mean_squared_error',optimizer='adam')"
   ]
  },
  {
   "cell_type": "code",
   "execution_count": 97,
   "metadata": {},
   "outputs": [
    {
     "name": "stdout",
     "output_type": "stream",
     "text": [
      "Epoch 1/40\n",
      "2508/2508 [==============================] - 19s 6ms/step - loss: 7.0957e-04\n",
      "Epoch 2/40\n",
      "2508/2508 [==============================] - 19s 7ms/step - loss: 1.0144e-05\n",
      "Epoch 3/40\n",
      "2508/2508 [==============================] - 19s 8ms/step - loss: 1.2280e-05\n",
      "Epoch 4/40\n",
      "2508/2508 [==============================] - 19s 8ms/step - loss: 1.1300e-05\n",
      "Epoch 5/40\n",
      "2508/2508 [==============================] - 19s 8ms/step - loss: 1.0023e-05\n",
      "Epoch 6/40\n",
      "2508/2508 [==============================] - 19s 8ms/step - loss: 8.7175e-06\n",
      "Epoch 7/40\n",
      "2508/2508 [==============================] - 19s 8ms/step - loss: 7.5166e-06\n",
      "Epoch 8/40\n",
      "2508/2508 [==============================] - 20s 8ms/step - loss: 7.0727e-06\n",
      "Epoch 9/40\n",
      "2508/2508 [==============================] - 19s 8ms/step - loss: 6.6820e-06\n",
      "Epoch 10/40\n",
      "2508/2508 [==============================] - 19s 8ms/step - loss: 5.8008e-06\n",
      "Epoch 11/40\n",
      "2508/2508 [==============================] - 20s 8ms/step - loss: 5.4107e-06\n",
      "Epoch 12/40\n",
      "2508/2508 [==============================] - 20s 8ms/step - loss: 5.0885e-06\n",
      "Epoch 13/40\n",
      "2508/2508 [==============================] - 19s 8ms/step - loss: 4.7485e-06\n",
      "Epoch 14/40\n",
      "2508/2508 [==============================] - 20s 8ms/step - loss: 4.4982e-06\n",
      "Epoch 15/40\n",
      "2508/2508 [==============================] - 19s 8ms/step - loss: 4.5635e-06\n",
      "Epoch 16/40\n",
      "2508/2508 [==============================] - 19s 8ms/step - loss: 3.9863e-06\n",
      "Epoch 17/40\n",
      "2508/2508 [==============================] - 20s 8ms/step - loss: 4.0657e-06\n",
      "Epoch 18/40\n",
      "2508/2508 [==============================] - 20s 8ms/step - loss: 3.9906e-06\n",
      "Epoch 19/40\n",
      "2508/2508 [==============================] - 20s 8ms/step - loss: 3.9057e-06\n",
      "Epoch 20/40\n",
      "2508/2508 [==============================] - 20s 8ms/step - loss: 4.1118e-06\n",
      "Epoch 21/40\n",
      "2508/2508 [==============================] - 20s 8ms/step - loss: 3.6913e-06\n",
      "Epoch 22/40\n",
      "2508/2508 [==============================] - 20s 8ms/step - loss: 3.6240e-06\n",
      "Epoch 23/40\n",
      "2508/2508 [==============================] - 20s 8ms/step - loss: 3.7312e-06\n",
      "Epoch 24/40\n",
      "2508/2508 [==============================] - 20s 8ms/step - loss: 3.5202e-06\n",
      "Epoch 25/40\n",
      "2508/2508 [==============================] - 20s 8ms/step - loss: 3.5788e-06\n",
      "Epoch 26/40\n",
      "2508/2508 [==============================] - 20s 8ms/step - loss: 3.4293e-06\n",
      "Epoch 27/40\n",
      "2508/2508 [==============================] - 20s 8ms/step - loss: 3.5314e-06\n",
      "Epoch 28/40\n",
      "2508/2508 [==============================] - 20s 8ms/step - loss: 3.4203e-06\n",
      "Epoch 29/40\n",
      "2508/2508 [==============================] - 20s 8ms/step - loss: 3.4430e-06\n",
      "Epoch 30/40\n",
      "2508/2508 [==============================] - 20s 8ms/step - loss: 3.3728e-06\n",
      "Epoch 31/40\n",
      "2508/2508 [==============================] - 20s 8ms/step - loss: 3.4977e-06\n",
      "Epoch 32/40\n",
      "2508/2508 [==============================] - 20s 8ms/step - loss: 3.2222e-06\n",
      "Epoch 33/40\n",
      "2508/2508 [==============================] - 20s 8ms/step - loss: 3.3548e-06\n",
      "Epoch 34/40\n",
      "2508/2508 [==============================] - 20s 8ms/step - loss: 3.3144e-06\n",
      "Epoch 35/40\n",
      "2508/2508 [==============================] - 19s 8ms/step - loss: 3.4142e-06\n",
      "Epoch 36/40\n",
      "2508/2508 [==============================] - 19s 8ms/step - loss: 3.1503e-06\n",
      "Epoch 37/40\n",
      "2508/2508 [==============================] - 19s 8ms/step - loss: 3.2524e-06\n",
      "Epoch 38/40\n",
      "2508/2508 [==============================] - 20s 8ms/step - loss: 3.2894e-06\n",
      "Epoch 39/40\n",
      "2508/2508 [==============================] - 20s 8ms/step - loss: 3.2195e-06\n",
      "Epoch 40/40\n",
      "2508/2508 [==============================] - 20s 8ms/step - loss: 3.3262e-06\n"
     ]
    },
    {
     "data": {
      "text/plain": [
       "<keras.callbacks.History at 0x26a6a025d68>"
      ]
     },
     "execution_count": 97,
     "metadata": {},
     "output_type": "execute_result"
    }
   ],
   "source": [
    "model.fit(X_train,y_train,epochs=40,batch_size=64,verbose=1)"
   ]
  },
  {
   "cell_type": "code",
   "execution_count": 106,
   "metadata": {},
   "outputs": [],
   "source": [
    "model.save(\"BANKNIFY_11year_5min_qty_ltp.hdf5\")"
   ]
  },
  {
   "cell_type": "code",
   "execution_count": 180,
   "metadata": {},
   "outputs": [],
   "source": [
    "df33 = test_data['close']\n",
    "df44 = test_data['volume']"
   ]
  },
  {
   "cell_type": "code",
   "execution_count": 181,
   "metadata": {},
   "outputs": [
    {
     "data": {
      "text/plain": [
       "(28326, 2)"
      ]
     },
     "execution_count": 181,
     "metadata": {},
     "output_type": "execute_result"
    }
   ],
   "source": [
    "import numpy as np\n",
    "from sklearn.preprocessing import MinMaxScaler\n",
    "\n",
    "scaler = pickle.load(open(\"Train_5min_scale_ltp.pkl\", 'rb'))\n",
    "scaler1 = pickle.load(open(\"Train_5min_scale_ltq.pkl\", 'rb'))\n",
    "\n",
    "df33 = df33.values\n",
    "df44 = df44.values\n",
    "\n",
    "df33 = df33.reshape((len(df33), 1))\n",
    "df44 = df44.reshape((len(df44), 1))\n",
    "\n",
    "df33_scaled = scaler.transform(df33)\n",
    "df44_scaled = scaler1.transform(df44)\n",
    "\n",
    "dataset_stacked_test = np.hstack((df33_scaled, df44_scaled))\n",
    "dataset_stacked_test.shape"
   ]
  },
  {
   "cell_type": "code",
   "execution_count": 182,
   "metadata": {},
   "outputs": [
    {
     "name": "stdout",
     "output_type": "stream",
     "text": [
      "(28320, 5, 2)\n",
      "(28320, 1)\n"
     ]
    },
    {
     "data": {
      "text/plain": [
       "(None, None)"
      ]
     },
     "execution_count": 182,
     "metadata": {},
     "output_type": "execute_result"
    }
   ],
   "source": [
    "X_test, y_test = to_supervised(dataset_stacked_test,5,1)\n",
    "print(X_test.shape), print(y_test.shape)"
   ]
  },
  {
   "cell_type": "code",
   "execution_count": 183,
   "metadata": {},
   "outputs": [
    {
     "data": {
      "text/plain": [
       "array([[22169.434],\n",
       "       [22159.76 ],\n",
       "       [22169.965],\n",
       "       ...,\n",
       "       [38139.434],\n",
       "       [38148.465],\n",
       "       [38080.17 ]], dtype=float32)"
      ]
     },
     "execution_count": 183,
     "metadata": {},
     "output_type": "execute_result"
    }
   ],
   "source": [
    "model = tf.keras.models.load_model(\"BANKNIFY_11year_5min_qty_ltp.hdf5\")\n",
    "test_predict=model.predict(X_test)\n",
    "test_predict=scaler.inverse_transform(test_predict)\n",
    "test_predict"
   ]
  },
  {
   "cell_type": "markdown",
   "metadata": {},
   "source": [
    "# Training for 10 min"
   ]
  },
  {
   "cell_type": "code",
   "execution_count": 213,
   "metadata": {
    "colab": {
     "base_uri": "https://localhost:8080/",
     "height": 205
    },
    "id": "waPLUhqP-TQ3",
    "outputId": "f1be17af-40ef-45ab-b8ca-6087b479efb9"
   },
   "outputs": [
    {
     "data": {
      "text/html": [
       "<div>\n",
       "<style scoped>\n",
       "    .dataframe tbody tr th:only-of-type {\n",
       "        vertical-align: middle;\n",
       "    }\n",
       "\n",
       "    .dataframe tbody tr th {\n",
       "        vertical-align: top;\n",
       "    }\n",
       "\n",
       "    .dataframe thead th {\n",
       "        text-align: right;\n",
       "    }\n",
       "</style>\n",
       "<table border=\"1\" class=\"dataframe\">\n",
       "  <thead>\n",
       "    <tr style=\"text-align: right;\">\n",
       "      <th></th>\n",
       "      <th>Date</th>\n",
       "      <th>Time</th>\n",
       "      <th>close</th>\n",
       "      <th>volume</th>\n",
       "    </tr>\n",
       "  </thead>\n",
       "  <tbody>\n",
       "    <tr>\n",
       "      <th>94858</th>\n",
       "      <td>202201031</td>\n",
       "      <td>14:54:00</td>\n",
       "      <td>38115.00</td>\n",
       "      <td>74050</td>\n",
       "    </tr>\n",
       "    <tr>\n",
       "      <th>94859</th>\n",
       "      <td>202201031</td>\n",
       "      <td>15:04:00</td>\n",
       "      <td>38032.05</td>\n",
       "      <td>100575</td>\n",
       "    </tr>\n",
       "    <tr>\n",
       "      <th>94860</th>\n",
       "      <td>202201031</td>\n",
       "      <td>15:14:00</td>\n",
       "      <td>38144.45</td>\n",
       "      <td>124900</td>\n",
       "    </tr>\n",
       "    <tr>\n",
       "      <th>94861</th>\n",
       "      <td>202201031</td>\n",
       "      <td>15:24:00</td>\n",
       "      <td>38091.05</td>\n",
       "      <td>167375</td>\n",
       "    </tr>\n",
       "    <tr>\n",
       "      <th>94862</th>\n",
       "      <td>202201031</td>\n",
       "      <td>15:30:00</td>\n",
       "      <td>38088.00</td>\n",
       "      <td>118375</td>\n",
       "    </tr>\n",
       "  </tbody>\n",
       "</table>\n",
       "</div>"
      ],
      "text/plain": [
       "            Date      Time     close  volume\n",
       "94858  202201031  14:54:00  38115.00   74050\n",
       "94859  202201031  15:04:00  38032.05  100575\n",
       "94860  202201031  15:14:00  38144.45  124900\n",
       "94861  202201031  15:24:00  38091.05  167375\n",
       "94862  202201031  15:30:00  38088.00  118375"
      ]
     },
     "execution_count": 213,
     "metadata": {},
     "output_type": "execute_result"
    }
   ],
   "source": [
    "df_10 = pd.read_csv('BANKNIFTY/appended/data_10.csv')\n",
    "df_10 = pd.DataFrame(df_10)\n",
    "df_10.tail()"
   ]
  },
  {
   "cell_type": "code",
   "execution_count": 214,
   "metadata": {
    "colab": {
     "base_uri": "https://localhost:8080/",
     "height": 422
    },
    "id": "HNBe7nZRu5Fb",
    "outputId": "0c59bc31-de4b-464f-deb4-4c4277f2b7e2"
   },
   "outputs": [
    {
     "data": {
      "image/png": "[encoded data removed]",
      "text/plain": [
       "<Figure size 1152x576 with 1 Axes>"
      ]
     },
     "metadata": {
      "needs_background": "light"
     },
     "output_type": "display_data"
    }
   ],
   "source": [
    "plt.figure(figsize = (16,8))\n",
    "plt.title('Nifty 11 years')\n",
    "plt.plot(df_10.close)\n",
    "plt.show()"
   ]
  },
  {
   "cell_type": "code",
   "execution_count": 215,
   "metadata": {},
   "outputs": [
    {
     "name": "stdout",
     "output_type": "stream",
     "text": [
      "(80633, 4)\n",
      "(14230, 4)\n"
     ]
    }
   ],
   "source": [
    "training_size= int(0.85*len(df_10))\n",
    "test_size=len(df_10)-training_size\n",
    "train_data,test_data=df_10[0:training_size],df_10[training_size:len(df_10)]\n",
    "print(train_data.shape)\n",
    "print(test_data.shape)"
   ]
  },
  {
   "cell_type": "code",
   "execution_count": 216,
   "metadata": {},
   "outputs": [],
   "source": [
    "df11 = train_data['close']\n",
    "df22 = train_data['volume']"
   ]
  },
  {
   "cell_type": "code",
   "execution_count": 217,
   "metadata": {},
   "outputs": [
    {
     "name": "stdout",
     "output_type": "stream",
     "text": [
      "(80633, 2)\n",
      "[[0.00317933 0.04883094]\n",
      " [0.00372833 0.0451798 ]\n",
      " [0.00400986 0.02308079]\n",
      " ...\n",
      " [0.56821591 0.05328568]\n",
      " [0.56865631 0.0357637 ]\n",
      " [0.56720038 0.06869384]]\n"
     ]
    },
    {
     "name": "stderr",
     "output_type": "stream",
     "text": [
      "C:\\Users\\Pritesh Borad\\Anaconda3\\lib\\site-packages\\sklearn\\utils\\validation.py:590: DataConversionWarning: Data with input dtype int64 was converted to float64 by MinMaxScaler.\n",
      "  warnings.warn(msg, DataConversionWarning)\n"
     ]
    }
   ],
   "source": [
    "import numpy as np\n",
    "from sklearn.preprocessing import MinMaxScaler\n",
    "import pickle\n",
    "\n",
    "df11 = df11.values\n",
    "df22 = df22.values\n",
    "\n",
    "df11 = df11.reshape((len(df11), 1))\n",
    "df22 = df22.reshape((len(df22), 1))\n",
    "\n",
    "scaler = MinMaxScaler(feature_range=(0, 1))\n",
    "scaler1 = MinMaxScaler(feature_range=(0, 1))\n",
    "df11_scaled = scaler.fit_transform(df11)\n",
    "df22_scaled = scaler1.fit_transform(df22)\n",
    "\n",
    "dataset_stacked = np.hstack((df11_scaled, df22_scaled))\n",
    "pickle.dump(scaler, open(\"Train_10min_scale_ltp.pkl\", 'wb'))\n",
    "pickle.dump(scaler1, open(\"Train_10min_scale_ltq.pkl\", 'wb'))\n",
    "print(dataset_stacked.shape)\n",
    "print(dataset_stacked)\n"
   ]
  },
  {
   "cell_type": "code",
   "execution_count": 198,
   "metadata": {},
   "outputs": [],
   "source": [
    "def to_supervised(train, n_input, n_out):\n",
    "\t# flatten data\n",
    "\tX, y = [], []\n",
    "\tin_start = 0\n",
    "\t# step over the entire history one time step at a time\n",
    "\tfor _ in range(len(train)):\n",
    "\t\t# define the end of the input sequence\n",
    "\t\tin_end = in_start + n_input\n",
    "\t\tout_end = in_end + n_out\n",
    "\t\t# ensure we have enough data for this instance\n",
    "\t\tif out_end < len(train):\n",
    "\t\t\tx_input = train[in_start:in_end]\n",
    "\t\t\tx_input = x_input.reshape((len(x_input), 2))\n",
    "\t\t\tX.append(x_input)\n",
    "\t\t\ty.append(train[in_end:out_end, 0])\n",
    "\t\t# move along one time step\n",
    "\t\tin_start += 1\n",
    "\treturn np.array(X), np.array(y)"
   ]
  },
  {
   "cell_type": "code",
   "execution_count": 199,
   "metadata": {},
   "outputs": [
    {
     "name": "stdout",
     "output_type": "stream",
     "text": [
      "(80622, 10, 2)\n",
      "(80622, 1)\n"
     ]
    },
    {
     "data": {
      "text/plain": [
       "array([[[0.00317933, 0.04883094],\n",
       "        [0.00372833, 0.0451798 ],\n",
       "        [0.00400986, 0.02308079],\n",
       "        ...,\n",
       "        [0.00119451, 0.01583092],\n",
       "        [0.0015766 , 0.00933224],\n",
       "        [0.00232467, 0.01237195]],\n",
       "\n",
       "       [[0.00372833, 0.0451798 ],\n",
       "        [0.00400986, 0.02308079],\n",
       "        [0.00219999, 0.03326555],\n",
       "        ...,\n",
       "        [0.0015766 , 0.00933224],\n",
       "        [0.00232467, 0.01237195],\n",
       "        [0.00159671, 0.02669699]],\n",
       "\n",
       "       [[0.00400986, 0.02308079],\n",
       "        [0.00219999, 0.03326555],\n",
       "        [0.00151627, 0.0311692 ],\n",
       "        ...,\n",
       "        [0.00232467, 0.01237195],\n",
       "        [0.00159671, 0.02669699],\n",
       "        [0.0020351 , 0.00755035]],\n",
       "\n",
       "       ...,\n",
       "\n",
       "       [[0.56945467, 0.0855345 ],\n",
       "        [0.56753219, 0.14528042],\n",
       "        [0.56720842, 0.07840692],\n",
       "        ...,\n",
       "        [0.56830842, 0.0610771 ],\n",
       "        [0.56915302, 0.05225497],\n",
       "        [0.56880915, 0.04371235]],\n",
       "\n",
       "       [[0.56753219, 0.14528042],\n",
       "        [0.56720842, 0.07840692],\n",
       "        [0.56760257, 0.15874946],\n",
       "        ...,\n",
       "        [0.56915302, 0.05225497],\n",
       "        [0.56880915, 0.04371235],\n",
       "        [0.56818575, 0.04247201]],\n",
       "\n",
       "       [[0.56720842, 0.07840692],\n",
       "        [0.56760257, 0.15874946],\n",
       "        [0.56840695, 0.08017134],\n",
       "        ...,\n",
       "        [0.56880915, 0.04371235],\n",
       "        [0.56818575, 0.04247201],\n",
       "        [0.56821591, 0.05328568]]])"
      ]
     },
     "execution_count": 199,
     "metadata": {},
     "output_type": "execute_result"
    }
   ],
   "source": [
    "X_train, y_train = to_supervised(dataset_stacked,10,1)\n",
    "print(X_train.shape), print(y_train.shape)\n",
    "X_train"
   ]
  },
  {
   "cell_type": "code",
   "execution_count": 200,
   "metadata": {},
   "outputs": [],
   "source": [
    "#deep learning model\n",
    "\n",
    "from tensorflow.keras.models import Sequential\n",
    "from tensorflow.keras.layers import Dense\n",
    "from tensorflow.keras.layers import LSTM, Dropout\n",
    "import tensorflow as tf\n",
    "\n",
    "model=Sequential()\n",
    "model.add(LSTM(50,return_sequences=True,input_shape=(10,2)))\n",
    "#model.add(Dropout(0.2))\n",
    "model.add(LSTM(100,return_sequences=False))\n",
    "#model.add(Dropout(0.2))\n",
    "#model.add(LSTM(70,return_sequences=False))\n",
    "#model.add(Dropout(0.2))\n",
    "model.add(Dense(100))\n",
    "model.add(Dense(1))\n",
    "model.compile(loss='mean_squared_error',optimizer='adam')"
   ]
  },
  {
   "cell_type": "code",
   "execution_count": 201,
   "metadata": {},
   "outputs": [
    {
     "name": "stdout",
     "output_type": "stream",
     "text": [
      "Epoch 1/40\n",
      "1260/1260 [==============================] - 15s 10ms/step - loss: 6.4988e-04\n",
      "Epoch 2/40\n",
      "1260/1260 [==============================] - 16s 13ms/step - loss: 1.8770e-05\n",
      "Epoch 3/40\n",
      "1260/1260 [==============================] - 19s 15ms/step - loss: 2.3782e-05\n",
      "Epoch 4/40\n",
      "1260/1260 [==============================] - 19s 15ms/step - loss: 2.3372e-05\n",
      "Epoch 5/40\n",
      "1260/1260 [==============================] - 19s 15ms/step - loss: 2.2259e-05\n",
      "Epoch 6/40\n",
      "1260/1260 [==============================] - 20s 16ms/step - loss: 1.7972e-05\n",
      "Epoch 7/40\n",
      "1260/1260 [==============================] - 17s 14ms/step - loss: 1.6594e-05\n",
      "Epoch 8/40\n",
      "1260/1260 [==============================] - 18s 15ms/step - loss: 1.5457e-05\n",
      "Epoch 9/40\n",
      "1260/1260 [==============================] - 18s 14ms/step - loss: 1.3449e-05\n",
      "Epoch 10/40\n",
      "1260/1260 [==============================] - 19s 15ms/step - loss: 1.0471e-05\n",
      "Epoch 11/40\n",
      "1260/1260 [==============================] - 18s 15ms/step - loss: 1.0788e-05\n",
      "Epoch 12/40\n",
      "1260/1260 [==============================] - 18s 14ms/step - loss: 9.9443e-06\n",
      "Epoch 13/40\n",
      "1260/1260 [==============================] - 18s 14ms/step - loss: 7.1256e-06\n",
      "Epoch 14/40\n",
      "1260/1260 [==============================] - 20s 16ms/step - loss: 8.6360e-06\n",
      "Epoch 15/40\n",
      "1260/1260 [==============================] - 18s 15ms/step - loss: 7.6121e-06\n",
      "Epoch 16/40\n",
      "1260/1260 [==============================] - 20s 16ms/step - loss: 8.6920e-06\n",
      "Epoch 17/40\n",
      "1260/1260 [==============================] - 20s 16ms/step - loss: 7.2278e-06 1s\n",
      "Epoch 18/40\n",
      "1260/1260 [==============================] - 19s 15ms/step - loss: 8.0339e-06\n",
      "Epoch 19/40\n",
      "1260/1260 [==============================] - 18s 14ms/step - loss: 6.2490e-06\n",
      "Epoch 20/40\n",
      "1260/1260 [==============================] - 19s 15ms/step - loss: 7.0845e-06\n",
      "Epoch 21/40\n",
      "1260/1260 [==============================] - 18s 14ms/step - loss: 6.6619e-06\n",
      "Epoch 22/40\n",
      "1260/1260 [==============================] - 18s 14ms/step - loss: 7.2674e-06\n",
      "Epoch 23/40\n",
      "1260/1260 [==============================] - 18s 14ms/step - loss: 7.1074e-06\n",
      "Epoch 24/40\n",
      "1260/1260 [==============================] - 19s 15ms/step - loss: 6.0039e-06\n",
      "Epoch 25/40\n",
      "1260/1260 [==============================] - 17s 14ms/step - loss: 7.0043e-06\n",
      "Epoch 26/40\n",
      "1260/1260 [==============================] - 19s 15ms/step - loss: 6.6742e-06\n",
      "Epoch 27/40\n",
      "1260/1260 [==============================] - 21s 17ms/step - loss: 6.4413e-06\n",
      "Epoch 28/40\n",
      "1260/1260 [==============================] - 17s 13ms/step - loss: 6.2597e-06\n",
      "Epoch 29/40\n",
      "1260/1260 [==============================] - 19s 15ms/step - loss: 6.0706e-06\n",
      "Epoch 30/40\n",
      "1260/1260 [==============================] - 19s 15ms/step - loss: 6.2279e-06\n",
      "Epoch 31/40\n",
      "1260/1260 [==============================] - 18s 15ms/step - loss: 6.3243e-06\n",
      "Epoch 32/40\n",
      "1260/1260 [==============================] - 19s 15ms/step - loss: 5.9944e-06\n",
      "Epoch 33/40\n",
      "1260/1260 [==============================] - 17s 13ms/step - loss: 6.2706e-06\n",
      "Epoch 34/40\n",
      "1260/1260 [==============================] - 19s 15ms/step - loss: 5.6556e-06\n",
      "Epoch 35/40\n",
      "1260/1260 [==============================] - 18s 14ms/step - loss: 6.1944e-06\n",
      "Epoch 36/40\n",
      "1260/1260 [==============================] - 19s 15ms/step - loss: 6.2946e-06\n",
      "Epoch 37/40\n",
      "1260/1260 [==============================] - 17s 14ms/step - loss: 6.3005e-06\n",
      "Epoch 38/40\n",
      "1260/1260 [==============================] - 18s 15ms/step - loss: 5.4186e-06\n",
      "Epoch 39/40\n",
      "1260/1260 [==============================] - 17s 14ms/step - loss: 5.9748e-06\n",
      "Epoch 40/40\n",
      "1260/1260 [==============================] - 16s 13ms/step - loss: 5.8112e-06\n"
     ]
    },
    {
     "data": {
      "text/plain": [
       "<keras.callbacks.History at 0x26a624e5748>"
      ]
     },
     "execution_count": 201,
     "metadata": {},
     "output_type": "execute_result"
    }
   ],
   "source": [
    "model.fit(X_train,y_train,epochs=40,batch_size=64,verbose=1)"
   ]
  },
  {
   "cell_type": "code",
   "execution_count": 202,
   "metadata": {},
   "outputs": [],
   "source": [
    "model.save(\"BANKNIFY_11year_10min_qty_ltp.hdf5\")"
   ]
  },
  {
   "cell_type": "code",
   "execution_count": 203,
   "metadata": {},
   "outputs": [],
   "source": [
    "df33 = test_data['close']\n",
    "df44 = test_data['volume']"
   ]
  },
  {
   "cell_type": "code",
   "execution_count": 204,
   "metadata": {},
   "outputs": [
    {
     "data": {
      "text/plain": [
       "(14230, 2)"
      ]
     },
     "execution_count": 204,
     "metadata": {},
     "output_type": "execute_result"
    }
   ],
   "source": [
    "import numpy as np\n",
    "from sklearn.preprocessing import MinMaxScaler\n",
    "\n",
    "scaler = pickle.load(open(\"Train_10min_scale_ltp.pkl\", 'rb'))\n",
    "scaler1 = pickle.load(open(\"Train_10min_scale_ltq.pkl\", 'rb'))\n",
    "\n",
    "df33 = df33.values\n",
    "df44 = df44.values\n",
    "\n",
    "df33 = df33.reshape((len(df33), 1))\n",
    "df44 = df44.reshape((len(df44), 1))\n",
    "\n",
    "df33_scaled = scaler.transform(df33)\n",
    "df44_scaled = scaler1.transform(df44)\n",
    "\n",
    "dataset_stacked_test = np.hstack((df33_scaled, df44_scaled))\n",
    "dataset_stacked_test.shape"
   ]
  },
  {
   "cell_type": "code",
   "execution_count": 232,
   "metadata": {},
   "outputs": [
    {
     "name": "stdout",
     "output_type": "stream",
     "text": [
      "(14219, 10, 2)\n",
      "(14219, 1)\n"
     ]
    },
    {
     "data": {
      "text/plain": [
       "(None, None)"
      ]
     },
     "execution_count": 232,
     "metadata": {},
     "output_type": "execute_result"
    }
   ],
   "source": [
    "X_test, y_test = to_supervised(dataset_stacked_test,10,1)\n",
    "print(X_test.shape), print(y_test.shape)"
   ]
  },
  {
   "cell_type": "code",
   "execution_count": 233,
   "metadata": {
    "scrolled": true
   },
   "outputs": [
    {
     "data": {
      "text/plain": [
       "array([[21947.602],\n",
       "       [21923.283],\n",
       "       [21800.46 ],\n",
       "       ...,\n",
       "       [37970.02 ],\n",
       "       [37883.895],\n",
       "       [38005.242]], dtype=float32)"
      ]
     },
     "execution_count": 233,
     "metadata": {},
     "output_type": "execute_result"
    }
   ],
   "source": [
    "model = tf.keras.models.load_model(\"BANKNIFY_11year_10min_qty_ltp.hdf5\")\n",
    "test_predict=model.predict(X_test)\n",
    "test_predict=scaler.inverse_transform(test_predict)\n",
    "test_predict"
   ]
  },
  {
   "cell_type": "markdown",
   "metadata": {},
   "source": [
    "# Training for 15 min"
   ]
  },
  {
   "cell_type": "code",
   "execution_count": 234,
   "metadata": {
    "colab": {
     "base_uri": "https://localhost:8080/",
     "height": 205
    },
    "id": "waPLUhqP-TQ3",
    "outputId": "f1be17af-40ef-45ab-b8ca-6087b479efb9"
   },
   "outputs": [
    {
     "data": {
      "text/html": [
       "<div>\n",
       "<style scoped>\n",
       "    .dataframe tbody tr th:only-of-type {\n",
       "        vertical-align: middle;\n",
       "    }\n",
       "\n",
       "    .dataframe tbody tr th {\n",
       "        vertical-align: top;\n",
       "    }\n",
       "\n",
       "    .dataframe thead th {\n",
       "        text-align: right;\n",
       "    }\n",
       "</style>\n",
       "<table border=\"1\" class=\"dataframe\">\n",
       "  <thead>\n",
       "    <tr style=\"text-align: right;\">\n",
       "      <th></th>\n",
       "      <th>Date</th>\n",
       "      <th>Time</th>\n",
       "      <th>close</th>\n",
       "      <th>volume</th>\n",
       "    </tr>\n",
       "  </thead>\n",
       "  <tbody>\n",
       "    <tr>\n",
       "      <th>64014</th>\n",
       "      <td>202201031</td>\n",
       "      <td>14:44:00</td>\n",
       "      <td>38130.10</td>\n",
       "      <td>117500</td>\n",
       "    </tr>\n",
       "    <tr>\n",
       "      <th>64015</th>\n",
       "      <td>202201031</td>\n",
       "      <td>14:59:00</td>\n",
       "      <td>38109.65</td>\n",
       "      <td>119025</td>\n",
       "    </tr>\n",
       "    <tr>\n",
       "      <th>64016</th>\n",
       "      <td>202201031</td>\n",
       "      <td>15:14:00</td>\n",
       "      <td>38144.45</td>\n",
       "      <td>180500</td>\n",
       "    </tr>\n",
       "    <tr>\n",
       "      <th>64017</th>\n",
       "      <td>202201031</td>\n",
       "      <td>15:29:00</td>\n",
       "      <td>38085.00</td>\n",
       "      <td>285075</td>\n",
       "    </tr>\n",
       "    <tr>\n",
       "      <th>64018</th>\n",
       "      <td>202201031</td>\n",
       "      <td>15:30:00</td>\n",
       "      <td>38088.00</td>\n",
       "      <td>675</td>\n",
       "    </tr>\n",
       "  </tbody>\n",
       "</table>\n",
       "</div>"
      ],
      "text/plain": [
       "            Date      Time     close  volume\n",
       "64014  202201031  14:44:00  38130.10  117500\n",
       "64015  202201031  14:59:00  38109.65  119025\n",
       "64016  202201031  15:14:00  38144.45  180500\n",
       "64017  202201031  15:29:00  38085.00  285075\n",
       "64018  202201031  15:30:00  38088.00     675"
      ]
     },
     "execution_count": 234,
     "metadata": {},
     "output_type": "execute_result"
    }
   ],
   "source": [
    "df_15 = pd.read_csv('BANKNIFTY/appended/data_15.csv')\n",
    "df_15 = pd.DataFrame(df_15)\n",
    "df_15.tail()"
   ]
  },
  {
   "cell_type": "code",
   "execution_count": 235,
   "metadata": {
    "colab": {
     "base_uri": "https://localhost:8080/",
     "height": 422
    },
    "id": "HNBe7nZRu5Fb",
    "outputId": "0c59bc31-de4b-464f-deb4-4c4277f2b7e2"
   },
   "outputs": [
    {
     "data": {
      "image/png": "[encoded data removed]",
      "text/plain": [
       "<Figure size 1152x576 with 1 Axes>"
      ]
     },
     "metadata": {
      "needs_background": "light"
     },
     "output_type": "display_data"
    }
   ],
   "source": [
    "plt.figure(figsize = (16,8))\n",
    "plt.title('Nifty 11 years')\n",
    "plt.plot(df_15.close)\n",
    "plt.show()"
   ]
  },
  {
   "cell_type": "code",
   "execution_count": 236,
   "metadata": {
    "scrolled": true
   },
   "outputs": [
    {
     "name": "stdout",
     "output_type": "stream",
     "text": [
      "(54416, 4)\n",
      "(9603, 4)\n"
     ]
    }
   ],
   "source": [
    "training_size= int(0.85*len(df_15))\n",
    "test_size=len(df_15)-training_size\n",
    "train_data,test_data=df_15[0:training_size],df_15[training_size:len(df_15)]\n",
    "print(train_data.shape)\n",
    "print(test_data.shape)"
   ]
  },
  {
   "cell_type": "code",
   "execution_count": 237,
   "metadata": {},
   "outputs": [],
   "source": [
    "df11 = train_data['close']\n",
    "df22 = train_data['volume']"
   ]
  },
  {
   "cell_type": "code",
   "execution_count": 238,
   "metadata": {},
   "outputs": [
    {
     "name": "stdout",
     "output_type": "stream",
     "text": [
      "(54416, 2)\n",
      "[[0.00395266 0.05034843]\n",
      " [0.004011   0.03154657]\n",
      " [0.00154285 0.0362623 ]\n",
      " ...\n",
      " [0.57301165 0.0781053 ]\n",
      " [0.57472749 0.06779421]\n",
      " [0.5760209  0.11303351]]\n"
     ]
    },
    {
     "name": "stderr",
     "output_type": "stream",
     "text": [
      "C:\\Users\\Pritesh Borad\\Anaconda3\\lib\\site-packages\\sklearn\\utils\\validation.py:590: DataConversionWarning: Data with input dtype int64 was converted to float64 by MinMaxScaler.\n",
      "  warnings.warn(msg, DataConversionWarning)\n"
     ]
    }
   ],
   "source": [
    "import numpy as np\n",
    "from sklearn.preprocessing import MinMaxScaler\n",
    "import pickle\n",
    "\n",
    "df11 = df11.values\n",
    "df22 = df22.values\n",
    "\n",
    "df11 = df11.reshape((len(df11), 1))\n",
    "df22 = df22.reshape((len(df22), 1))\n",
    "\n",
    "scaler = MinMaxScaler(feature_range=(0, 1))\n",
    "scaler1 = MinMaxScaler(feature_range=(0, 1))\n",
    "df11_scaled = scaler.fit_transform(df11)\n",
    "df22_scaled = scaler1.fit_transform(df22)\n",
    "\n",
    "dataset_stacked = np.hstack((df11_scaled, df22_scaled))\n",
    "pickle.dump(scaler, open(\"Train_15min_scale_ltp.pkl\", 'wb'))\n",
    "pickle.dump(scaler1, open(\"Train_15min_scale_ltq.pkl\", 'wb'))\n",
    "print(dataset_stacked.shape)\n",
    "print(dataset_stacked)\n"
   ]
  },
  {
   "cell_type": "code",
   "execution_count": 239,
   "metadata": {},
   "outputs": [],
   "source": [
    "def to_supervised(train, n_input, n_out):\n",
    "\t# flatten data\n",
    "\tX, y = [], []\n",
    "\tin_start = 0\n",
    "\t# step over the entire history one time step at a time\n",
    "\tfor _ in range(len(train)):\n",
    "\t\t# define the end of the input sequence\n",
    "\t\tin_end = in_start + n_input\n",
    "\t\tout_end = in_end + n_out\n",
    "\t\t# ensure we have enough data for this instance\n",
    "\t\tif out_end < len(train):\n",
    "\t\t\tx_input = train[in_start:in_end]\n",
    "\t\t\tx_input = x_input.reshape((len(x_input), 2))\n",
    "\t\t\tX.append(x_input)\n",
    "\t\t\ty.append(train[in_end:out_end, 0])\n",
    "\t\t# move along one time step\n",
    "\t\tin_start += 1\n",
    "\treturn np.array(X), np.array(y)"
   ]
  },
  {
   "cell_type": "code",
   "execution_count": 240,
   "metadata": {},
   "outputs": [
    {
     "name": "stdout",
     "output_type": "stream",
     "text": [
      "(54400, 15, 2)\n",
      "(54400, 1)\n"
     ]
    },
    {
     "data": {
      "text/plain": [
       "array([[[3.95266458e-03, 5.03484269e-02],\n",
       "        [4.01099907e-03, 3.15465661e-02],\n",
       "        [1.54284668e-03, 3.62623025e-02],\n",
       "        ...,\n",
       "        [4.70698988e-04, 1.95861880e-02],\n",
       "        [9.55478715e-04, 1.44062082e-02],\n",
       "        [1.86670368e-03, 1.75703940e-02]],\n",
       "\n",
       "       [[4.01099907e-03, 3.15465661e-02],\n",
       "        [1.54284668e-03, 3.62623025e-02],\n",
       "        [1.51267367e-03, 2.69041313e-02],\n",
       "        ...,\n",
       "        [9.55478715e-04, 1.44062082e-02],\n",
       "        [1.86670368e-03, 1.75703940e-02],\n",
       "        [2.54459068e-03, 3.45763656e-02]],\n",
       "\n",
       "       [[1.54284668e-03, 3.62623025e-02],\n",
       "        [1.51267367e-03, 2.69041313e-02],\n",
       "        [1.71785015e-03, 2.45951308e-02],\n",
       "        ...,\n",
       "        [1.86670368e-03, 1.75703940e-02],\n",
       "        [2.54459068e-03, 3.45763656e-02],\n",
       "        [1.75808084e-03, 2.59756443e-02]],\n",
       "\n",
       "       ...,\n",
       "\n",
       "       [[5.73959081e-01, 7.07262723e-02],\n",
       "        [5.74200465e-01, 5.57360947e-02],\n",
       "        [5.73100156e-01, 8.58874869e-02],\n",
       "        ...,\n",
       "        [5.75274625e-01, 2.03512124e-01],\n",
       "        [5.74828064e-01, 1.04738216e-01],\n",
       "        [5.74305065e-01, 8.60218732e-02]],\n",
       "\n",
       "       [[5.74200465e-01, 5.57360947e-02],\n",
       "        [5.73100156e-01, 8.58874869e-02],\n",
       "        [5.73904770e-01, 3.46130164e-02],\n",
       "        ...,\n",
       "        [5.74828064e-01, 1.04738216e-01],\n",
       "        [5.74305065e-01, 8.60218732e-02],\n",
       "        [5.74329204e-01, 5.25841258e-02]],\n",
       "\n",
       "       [[5.73100156e-01, 8.58874869e-02],\n",
       "        [5.73904770e-01, 3.46130164e-02],\n",
       "        [5.75566297e-01, 1.09954846e-01],\n",
       "        ...,\n",
       "        [5.74305065e-01, 8.60218732e-02],\n",
       "        [5.74329204e-01, 5.25841258e-02],\n",
       "        [5.73011649e-01, 7.81053002e-02]]])"
      ]
     },
     "execution_count": 240,
     "metadata": {},
     "output_type": "execute_result"
    }
   ],
   "source": [
    "X_train, y_train = to_supervised(dataset_stacked,15,1)\n",
    "print(X_train.shape), print(y_train.shape)\n",
    "X_train"
   ]
  },
  {
   "cell_type": "code",
   "execution_count": 241,
   "metadata": {},
   "outputs": [],
   "source": [
    "#deep learning model\n",
    "\n",
    "from tensorflow.keras.models import Sequential\n",
    "from tensorflow.keras.layers import Dense\n",
    "from tensorflow.keras.layers import LSTM, Dropout\n",
    "import tensorflow as tf\n",
    "\n",
    "model=Sequential()\n",
    "model.add(LSTM(50,return_sequences=True,input_shape=(15,2)))\n",
    "#model.add(Dropout(0.2))\n",
    "model.add(LSTM(100,return_sequences=False))\n",
    "#model.add(Dropout(0.2))\n",
    "#model.add(LSTM(70,return_sequences=False))\n",
    "#model.add(Dropout(0.2))\n",
    "model.add(Dense(100))\n",
    "model.add(Dense(1))\n",
    "model.compile(loss='mean_squared_error',optimizer='adam')"
   ]
  },
  {
   "cell_type": "code",
   "execution_count": 242,
   "metadata": {},
   "outputs": [
    {
     "name": "stdout",
     "output_type": "stream",
     "text": [
      "Epoch 1/40\n",
      "850/850 [==============================] - 17s 18ms/step - loss: 0.0012\n",
      "Epoch 2/40\n",
      "850/850 [==============================] - 17s 20ms/step - loss: 2.7554e-05\n",
      "Epoch 3/40\n",
      "850/850 [==============================] - 17s 20ms/step - loss: 3.0032e-05\n",
      "Epoch 4/40\n",
      "850/850 [==============================] - 16s 19ms/step - loss: 2.9758e-05\n",
      "Epoch 5/40\n",
      "850/850 [==============================] - 18s 21ms/step - loss: 3.1136e-05\n",
      "Epoch 6/40\n",
      "850/850 [==============================] - 17s 20ms/step - loss: 2.9877e-05\n",
      "Epoch 7/40\n",
      "850/850 [==============================] - 18s 22ms/step - loss: 2.4142e-05\n",
      "Epoch 8/40\n",
      "850/850 [==============================] - 17s 20ms/step - loss: 2.0421e-05\n",
      "Epoch 9/40\n",
      "850/850 [==============================] - 18s 21ms/step - loss: 1.9407e-05\n",
      "Epoch 10/40\n",
      "850/850 [==============================] - 16s 19ms/step - loss: 1.6553e-05\n",
      "Epoch 11/40\n",
      "850/850 [==============================] - 17s 20ms/step - loss: 1.4520e-05\n",
      "Epoch 12/40\n",
      "850/850 [==============================] - 17s 20ms/step - loss: 1.4663e-05\n",
      "Epoch 13/40\n",
      "850/850 [==============================] - 18s 22ms/step - loss: 1.2179e-05\n",
      "Epoch 14/40\n",
      "850/850 [==============================] - 18s 22ms/step - loss: 1.2247e-05\n",
      "Epoch 15/40\n",
      "850/850 [==============================] - 18s 21ms/step - loss: 1.0518e-05\n",
      "Epoch 16/40\n",
      "850/850 [==============================] - 17s 20ms/step - loss: 1.0859e-05\n",
      "Epoch 17/40\n",
      "850/850 [==============================] - 17s 20ms/step - loss: 1.0051e-05\n",
      "Epoch 18/40\n",
      "850/850 [==============================] - 17s 20ms/step - loss: 1.2153e-05\n",
      "Epoch 19/40\n",
      "850/850 [==============================] - 18s 21ms/step - loss: 8.4746e-06\n",
      "Epoch 20/40\n",
      "850/850 [==============================] - 16s 19ms/step - loss: 9.1251e-06\n",
      "Epoch 21/40\n",
      "850/850 [==============================] - 18s 21ms/step - loss: 9.3563e-06\n",
      "Epoch 22/40\n",
      "850/850 [==============================] - 17s 20ms/step - loss: 9.8956e-06\n",
      "Epoch 23/40\n",
      "850/850 [==============================] - 18s 21ms/step - loss: 9.8218e-06\n",
      "Epoch 24/40\n",
      "850/850 [==============================] - 16s 19ms/step - loss: 8.8965e-06\n",
      "Epoch 25/40\n",
      "850/850 [==============================] - 18s 21ms/step - loss: 1.0079e-05\n",
      "Epoch 26/40\n",
      "850/850 [==============================] - 16s 19ms/step - loss: 9.1671e-06\n",
      "Epoch 27/40\n",
      "850/850 [==============================] - 18s 21ms/step - loss: 9.0615e-06\n",
      "Epoch 28/40\n",
      "850/850 [==============================] - 15s 18ms/step - loss: 8.5045e-06\n",
      "Epoch 29/40\n",
      "850/850 [==============================] - 15s 18ms/step - loss: 8.2614e-06\n",
      "Epoch 30/40\n",
      "850/850 [==============================] - 16s 19ms/step - loss: 8.4329e-06\n",
      "Epoch 31/40\n",
      "850/850 [==============================] - 17s 20ms/step - loss: 8.3989e-06\n",
      "Epoch 32/40\n",
      "850/850 [==============================] - 17s 20ms/step - loss: 8.2715e-06\n",
      "Epoch 33/40\n",
      "850/850 [==============================] - 20s 23ms/step - loss: 8.4629e-06\n",
      "Epoch 34/40\n",
      "850/850 [==============================] - 18s 22ms/step - loss: 7.7961e-06\n",
      "Epoch 35/40\n",
      "850/850 [==============================] - 19s 22ms/step - loss: 7.8888e-06\n",
      "Epoch 36/40\n",
      "850/850 [==============================] - 16s 19ms/step - loss: 8.2431e-06\n",
      "Epoch 37/40\n",
      "850/850 [==============================] - 16s 19ms/step - loss: 7.7437e-06\n",
      "Epoch 38/40\n",
      "850/850 [==============================] - 17s 20ms/step - loss: 8.5682e-06\n",
      "Epoch 39/40\n",
      "850/850 [==============================] - 16s 19ms/step - loss: 8.2425e-06\n",
      "Epoch 40/40\n",
      "850/850 [==============================] - 16s 19ms/step - loss: 7.4206e-06\n"
     ]
    },
    {
     "data": {
      "text/plain": [
       "<keras.callbacks.History at 0x26a628a2ac8>"
      ]
     },
     "execution_count": 242,
     "metadata": {},
     "output_type": "execute_result"
    }
   ],
   "source": [
    "model.fit(X_train,y_train,epochs=40,batch_size=64,verbose=1)"
   ]
  },
  {
   "cell_type": "code",
   "execution_count": 243,
   "metadata": {},
   "outputs": [],
   "source": [
    "model.save(\"BANKNIFY_11year_15min_qty_ltp.hdf5\")"
   ]
  },
  {
   "cell_type": "code",
   "execution_count": 244,
   "metadata": {},
   "outputs": [],
   "source": [
    "df33 = test_data['close']\n",
    "df44 = test_data['volume']"
   ]
  },
  {
   "cell_type": "code",
   "execution_count": 245,
   "metadata": {},
   "outputs": [
    {
     "data": {
      "text/plain": [
       "(9603, 2)"
      ]
     },
     "execution_count": 245,
     "metadata": {},
     "output_type": "execute_result"
    }
   ],
   "source": [
    "import numpy as np\n",
    "from sklearn.preprocessing import MinMaxScaler\n",
    "\n",
    "scaler = pickle.load(open(\"Train_15min_scale_ltp.pkl\", 'rb'))\n",
    "scaler1 = pickle.load(open(\"Train_15min_scale_ltq.pkl\", 'rb'))\n",
    "\n",
    "df33 = df33.values\n",
    "df44 = df44.values\n",
    "\n",
    "df33 = df33.reshape((len(df33), 1))\n",
    "df44 = df44.reshape((len(df44), 1))\n",
    "\n",
    "df33_scaled = scaler.transform(df33)\n",
    "df44_scaled = scaler1.transform(df44)\n",
    "\n",
    "dataset_stacked_test = np.hstack((df33_scaled, df44_scaled))\n",
    "dataset_stacked_test.shape"
   ]
  },
  {
   "cell_type": "code",
   "execution_count": 246,
   "metadata": {},
   "outputs": [
    {
     "name": "stdout",
     "output_type": "stream",
     "text": [
      "(9587, 15, 2)\n",
      "(9587, 1)\n"
     ]
    },
    {
     "data": {
      "text/plain": [
       "(None, None)"
      ]
     },
     "execution_count": 246,
     "metadata": {},
     "output_type": "execute_result"
    }
   ],
   "source": [
    "X_test, y_test = to_supervised(dataset_stacked_test,15,1)\n",
    "print(X_test.shape), print(y_test.shape)"
   ]
  },
  {
   "cell_type": "code",
   "execution_count": 247,
   "metadata": {
    "scrolled": true
   },
   "outputs": [
    {
     "data": {
      "text/plain": [
       "array([[22289.24 ],\n",
       "       [22295.795],\n",
       "       [22261.408],\n",
       "       ...,\n",
       "       [38039.73 ],\n",
       "       [38023.48 ],\n",
       "       [38067.203]], dtype=float32)"
      ]
     },
     "execution_count": 247,
     "metadata": {},
     "output_type": "execute_result"
    }
   ],
   "source": [
    "model = tf.keras.models.load_model(\"BANKNIFY_11year_15min_qty_ltp.hdf5\")\n",
    "test_predict=model.predict(X_test)\n",
    "test_predict=scaler.inverse_transform(test_predict)\n",
    "test_predict"
   ]
  },
  {
   "cell_type": "code",
   "execution_count": null,
   "metadata": {},
   "outputs": [],
   "source": []
  },
  {
   "cell_type": "markdown",
   "metadata": {},
   "source": [
    "# Training for 20 min"
   ]
  },
  {
   "cell_type": "code",
   "execution_count": 248,
   "metadata": {
    "colab": {
     "base_uri": "https://localhost:8080/",
     "height": 205
    },
    "id": "waPLUhqP-TQ3",
    "outputId": "f1be17af-40ef-45ab-b8ca-6087b479efb9"
   },
   "outputs": [
    {
     "data": {
      "text/html": [
       "<div>\n",
       "<style scoped>\n",
       "    .dataframe tbody tr th:only-of-type {\n",
       "        vertical-align: middle;\n",
       "    }\n",
       "\n",
       "    .dataframe tbody tr th {\n",
       "        vertical-align: top;\n",
       "    }\n",
       "\n",
       "    .dataframe thead th {\n",
       "        text-align: right;\n",
       "    }\n",
       "</style>\n",
       "<table border=\"1\" class=\"dataframe\">\n",
       "  <thead>\n",
       "    <tr style=\"text-align: right;\">\n",
       "      <th></th>\n",
       "      <th>Date</th>\n",
       "      <th>Time</th>\n",
       "      <th>close</th>\n",
       "      <th>volume</th>\n",
       "    </tr>\n",
       "  </thead>\n",
       "  <tbody>\n",
       "    <tr>\n",
       "      <th>47432</th>\n",
       "      <td>202201031</td>\n",
       "      <td>14:14:00</td>\n",
       "      <td>38146.10</td>\n",
       "      <td>149950</td>\n",
       "    </tr>\n",
       "    <tr>\n",
       "      <th>47433</th>\n",
       "      <td>202201031</td>\n",
       "      <td>14:34:00</td>\n",
       "      <td>38170.00</td>\n",
       "      <td>150275</td>\n",
       "    </tr>\n",
       "    <tr>\n",
       "      <th>47434</th>\n",
       "      <td>202201031</td>\n",
       "      <td>14:54:00</td>\n",
       "      <td>38115.00</td>\n",
       "      <td>151575</td>\n",
       "    </tr>\n",
       "    <tr>\n",
       "      <th>47435</th>\n",
       "      <td>202201031</td>\n",
       "      <td>15:14:00</td>\n",
       "      <td>38144.45</td>\n",
       "      <td>225475</td>\n",
       "    </tr>\n",
       "    <tr>\n",
       "      <th>47436</th>\n",
       "      <td>202201031</td>\n",
       "      <td>15:30:00</td>\n",
       "      <td>38088.00</td>\n",
       "      <td>285750</td>\n",
       "    </tr>\n",
       "  </tbody>\n",
       "</table>\n",
       "</div>"
      ],
      "text/plain": [
       "            Date      Time     close  volume\n",
       "47432  202201031  14:14:00  38146.10  149950\n",
       "47433  202201031  14:34:00  38170.00  150275\n",
       "47434  202201031  14:54:00  38115.00  151575\n",
       "47435  202201031  15:14:00  38144.45  225475\n",
       "47436  202201031  15:30:00  38088.00  285750"
      ]
     },
     "execution_count": 248,
     "metadata": {},
     "output_type": "execute_result"
    }
   ],
   "source": [
    "df_20 = pd.read_csv('BANKNIFTY/appended/data_20.csv')\n",
    "df_20 = pd.DataFrame(df_20)\n",
    "df_20.tail()"
   ]
  },
  {
   "cell_type": "code",
   "execution_count": 249,
   "metadata": {
    "colab": {
     "base_uri": "https://localhost:8080/",
     "height": 422
    },
    "id": "HNBe7nZRu5Fb",
    "outputId": "0c59bc31-de4b-464f-deb4-4c4277f2b7e2"
   },
   "outputs": [
    {
     "data": {
      "image/png": "[encoded data removed]",
      "text/plain": [
       "<Figure size 1152x576 with 1 Axes>"
      ]
     },
     "metadata": {
      "needs_background": "light"
     },
     "output_type": "display_data"
    }
   ],
   "source": [
    "plt.figure(figsize = (16,8))\n",
    "plt.title('Nifty 11 years')\n",
    "plt.plot(df_20.close)\n",
    "plt.show()"
   ]
  },
  {
   "cell_type": "code",
   "execution_count": 250,
   "metadata": {},
   "outputs": [
    {
     "name": "stdout",
     "output_type": "stream",
     "text": [
      "(40321, 4)\n",
      "(7116, 4)\n"
     ]
    }
   ],
   "source": [
    "training_size= int(0.85*len(df_20))\n",
    "test_size=len(df_20)-training_size\n",
    "train_data,test_data=df_20[0:training_size],df_20[training_size:len(df_20)]\n",
    "print(train_data.shape)\n",
    "print(test_data.shape)"
   ]
  },
  {
   "cell_type": "code",
   "execution_count": 251,
   "metadata": {},
   "outputs": [],
   "source": [
    "df11 = train_data['close']\n",
    "df22 = train_data['volume']"
   ]
  },
  {
   "cell_type": "code",
   "execution_count": 252,
   "metadata": {},
   "outputs": [
    {
     "name": "stdout",
     "output_type": "stream",
     "text": [
      "(40321, 2)\n",
      "[[0.00372872 0.06459038]\n",
      " [0.00220023 0.03871678]\n",
      " [0.00151241 0.03919681]\n",
      " ...\n",
      " [0.56886978 0.06593446]\n",
      " [0.56827648 0.06579045]\n",
      " [0.56726084 0.07176682]]\n"
     ]
    },
    {
     "name": "stderr",
     "output_type": "stream",
     "text": [
      "C:\\Users\\Pritesh Borad\\Anaconda3\\lib\\site-packages\\sklearn\\utils\\validation.py:590: DataConversionWarning: Data with input dtype int64 was converted to float64 by MinMaxScaler.\n",
      "  warnings.warn(msg, DataConversionWarning)\n"
     ]
    }
   ],
   "source": [
    "import numpy as np\n",
    "from sklearn.preprocessing import MinMaxScaler\n",
    "import pickle\n",
    "\n",
    "df11 = df11.values\n",
    "df22 = df22.values\n",
    "\n",
    "df11 = df11.reshape((len(df11), 1))\n",
    "df22 = df22.reshape((len(df22), 1))\n",
    "\n",
    "scaler = MinMaxScaler(feature_range=(0, 1))\n",
    "scaler1 = MinMaxScaler(feature_range=(0, 1))\n",
    "df11_scaled = scaler.fit_transform(df11)\n",
    "df22_scaled = scaler1.fit_transform(df22)\n",
    "\n",
    "dataset_stacked = np.hstack((df11_scaled, df22_scaled))\n",
    "pickle.dump(scaler, open(\"Train_15min_scale_ltp.pkl\", 'wb'))\n",
    "pickle.dump(scaler1, open(\"Train_15min_scale_ltq.pkl\", 'wb'))\n",
    "print(dataset_stacked.shape)\n",
    "print(dataset_stacked)\n"
   ]
  },
  {
   "cell_type": "code",
   "execution_count": 253,
   "metadata": {},
   "outputs": [],
   "source": [
    "def to_supervised(train, n_input, n_out):\n",
    "\t# flatten data\n",
    "\tX, y = [], []\n",
    "\tin_start = 0\n",
    "\t# step over the entire history one time step at a time\n",
    "\tfor _ in range(len(train)):\n",
    "\t\t# define the end of the input sequence\n",
    "\t\tin_end = in_start + n_input\n",
    "\t\tout_end = in_end + n_out\n",
    "\t\t# ensure we have enough data for this instance\n",
    "\t\tif out_end < len(train):\n",
    "\t\t\tx_input = train[in_start:in_end]\n",
    "\t\t\tx_input = x_input.reshape((len(x_input), 2))\n",
    "\t\t\tX.append(x_input)\n",
    "\t\t\ty.append(train[in_end:out_end, 0])\n",
    "\t\t# move along one time step\n",
    "\t\tin_start += 1\n",
    "\treturn np.array(X), np.array(y)"
   ]
  },
  {
   "cell_type": "code",
   "execution_count": 254,
   "metadata": {},
   "outputs": [
    {
     "name": "stdout",
     "output_type": "stream",
     "text": [
      "(40300, 20, 2)\n",
      "(40300, 1)\n"
     ]
    },
    {
     "data": {
      "text/plain": [
       "array([[[0.00372872, 0.06459038],\n",
       "        [0.00220023, 0.03871678],\n",
       "        [0.00151241, 0.03919681],\n",
       "        ...,\n",
       "        [0.00433208, 0.04273703],\n",
       "        [0.00489521, 0.05227762],\n",
       "        [0.01071355, 0.11606155]],\n",
       "\n",
       "       [[0.00220023, 0.03871678],\n",
       "        [0.00151241, 0.03919681],\n",
       "        [0.00119464, 0.02978823],\n",
       "        ...,\n",
       "        [0.00489521, 0.05227762],\n",
       "        [0.01071355, 0.11606155],\n",
       "        [0.01181366, 0.04752533]],\n",
       "\n",
       "       [[0.00151241, 0.03919681],\n",
       "        [0.00119464, 0.02978823],\n",
       "        [0.00232492, 0.01491932],\n",
       "        ...,\n",
       "        [0.01071355, 0.11606155],\n",
       "        [0.01181366, 0.04752533],\n",
       "        [0.01177545, 0.03823676]],\n",
       "\n",
       "       ...,\n",
       "\n",
       "       [[0.55059018, 0.13856294],\n",
       "        [0.55004515, 0.10263272],\n",
       "        [0.55318259, 0.15229178],\n",
       "        ...,\n",
       "        [0.56759268, 0.15856817],\n",
       "        [0.56766307, 0.16292444],\n",
       "        [0.56814575, 0.09815645]],\n",
       "\n",
       "       [[0.55004515, 0.10263272],\n",
       "        [0.55318259, 0.15229178],\n",
       "        [0.55315644, 0.1200818 ],\n",
       "        ...,\n",
       "        [0.56766307, 0.16292444],\n",
       "        [0.56814575, 0.09815645],\n",
       "        [0.56836899, 0.06725454]],\n",
       "\n",
       "       [[0.55318259, 0.15229178],\n",
       "        [0.55315644, 0.1200818 ],\n",
       "        [0.55711846, 0.26799091],\n",
       "        ...,\n",
       "        [0.56814575, 0.09815645],\n",
       "        [0.56836899, 0.06725454],\n",
       "        [0.56886978, 0.06593446]]])"
      ]
     },
     "execution_count": 254,
     "metadata": {},
     "output_type": "execute_result"
    }
   ],
   "source": [
    "X_train, y_train = to_supervised(dataset_stacked,20,1)\n",
    "print(X_train.shape), print(y_train.shape)\n",
    "X_train"
   ]
  },
  {
   "cell_type": "code",
   "execution_count": 255,
   "metadata": {},
   "outputs": [],
   "source": [
    "#deep learning model\n",
    "\n",
    "from tensorflow.keras.models import Sequential\n",
    "from tensorflow.keras.layers import Dense\n",
    "from tensorflow.keras.layers import LSTM, Dropout\n",
    "import tensorflow as tf\n",
    "\n",
    "model=Sequential()\n",
    "model.add(LSTM(50,return_sequences=True,input_shape=(20,2)))\n",
    "#model.add(Dropout(0.2))\n",
    "model.add(LSTM(100,return_sequences=False))\n",
    "#model.add(Dropout(0.2))\n",
    "#model.add(LSTM(70,return_sequences=False))\n",
    "#model.add(Dropout(0.2))\n",
    "model.add(Dense(100))\n",
    "model.add(Dense(1))\n",
    "model.compile(loss='mean_squared_error',optimizer='adam')"
   ]
  },
  {
   "cell_type": "code",
   "execution_count": 256,
   "metadata": {},
   "outputs": [
    {
     "name": "stdout",
     "output_type": "stream",
     "text": [
      "Epoch 1/40\n",
      "630/630 [==============================] - 14s 19ms/step - loss: 8.8778e-04\n",
      "Epoch 2/40\n",
      "630/630 [==============================] - 15s 25ms/step - loss: 3.8440e-05\n",
      "Epoch 3/40\n",
      "630/630 [==============================] - 17s 27ms/step - loss: 3.8856e-05\n",
      "Epoch 4/40\n",
      "630/630 [==============================] - 15s 24ms/step - loss: 4.3121e-05\n",
      "Epoch 5/40\n",
      "630/630 [==============================] - 16s 25ms/step - loss: 4.0500e-05\n",
      "Epoch 6/40\n",
      "630/630 [==============================] - 15s 23ms/step - loss: 3.4671e-05\n",
      "Epoch 7/40\n",
      "630/630 [==============================] - 15s 23ms/step - loss: 3.2727e-05\n",
      "Epoch 8/40\n",
      "630/630 [==============================] - 15s 23ms/step - loss: 2.8683e-05\n",
      "Epoch 9/40\n",
      "630/630 [==============================] - 15s 23ms/step - loss: 2.5612e-05\n",
      "Epoch 10/40\n",
      "630/630 [==============================] - 15s 24ms/step - loss: 2.7440e-05\n",
      "Epoch 11/40\n",
      "630/630 [==============================] - 15s 23ms/step - loss: 1.9105e-05\n",
      "Epoch 12/40\n",
      "630/630 [==============================] - 15s 23ms/step - loss: 2.3129e-05\n",
      "Epoch 13/40\n",
      "630/630 [==============================] - 15s 23ms/step - loss: 1.7558e-05\n",
      "Epoch 14/40\n",
      "630/630 [==============================] - 15s 23ms/step - loss: 1.7054e-05\n",
      "Epoch 15/40\n",
      "630/630 [==============================] - 15s 23ms/step - loss: 1.6401e-05\n",
      "Epoch 16/40\n",
      "630/630 [==============================] - 15s 23ms/step - loss: 1.5708e-05\n",
      "Epoch 17/40\n",
      "630/630 [==============================] - 15s 24ms/step - loss: 1.7244e-05\n",
      "Epoch 18/40\n",
      "630/630 [==============================] - 15s 23ms/step - loss: 1.3051e-05\n",
      "Epoch 19/40\n",
      "630/630 [==============================] - 15s 23ms/step - loss: 1.2380e-05\n",
      "Epoch 20/40\n",
      "630/630 [==============================] - 15s 23ms/step - loss: 1.3464e-05\n",
      "Epoch 21/40\n",
      "630/630 [==============================] - 15s 24ms/step - loss: 1.5165e-05\n",
      "Epoch 22/40\n",
      "630/630 [==============================] - 15s 24ms/step - loss: 1.2116e-05 0s - loss: 1.\n",
      "Epoch 23/40\n",
      "630/630 [==============================] - 15s 24ms/step - loss: 1.1225e-05\n",
      "Epoch 24/40\n",
      "630/630 [==============================] - 15s 24ms/step - loss: 1.3442e-05\n",
      "Epoch 25/40\n",
      "630/630 [==============================] - 15s 24ms/step - loss: 1.2501e-05\n",
      "Epoch 26/40\n",
      "630/630 [==============================] - 15s 23ms/step - loss: 1.3234e-05\n",
      "Epoch 27/40\n",
      "630/630 [==============================] - 15s 24ms/step - loss: 1.3409e-05\n",
      "Epoch 28/40\n",
      "630/630 [==============================] - 15s 24ms/step - loss: 1.1081e-05\n",
      "Epoch 29/40\n",
      "630/630 [==============================] - 15s 24ms/step - loss: 1.2571e-05 0s - loss: \n",
      "Epoch 30/40\n",
      "630/630 [==============================] - 15s 24ms/step - loss: 1.0795e-05\n",
      "Epoch 31/40\n",
      "630/630 [==============================] - 15s 24ms/step - loss: 1.0665e-05\n",
      "Epoch 32/40\n",
      "630/630 [==============================] - 15s 24ms/step - loss: 1.4369e-05\n",
      "Epoch 33/40\n",
      "630/630 [==============================] - 15s 24ms/step - loss: 1.0442e-05\n",
      "Epoch 34/40\n",
      "630/630 [==============================] - 15s 24ms/step - loss: 1.2176e-05\n",
      "Epoch 35/40\n",
      "630/630 [==============================] - 15s 24ms/step - loss: 1.0048e-05\n",
      "Epoch 36/40\n",
      "630/630 [==============================] - 15s 24ms/step - loss: 1.1038e-05\n",
      "Epoch 37/40\n",
      "630/630 [==============================] - 15s 24ms/step - loss: 1.1033e-05\n",
      "Epoch 38/40\n",
      "630/630 [==============================] - 15s 24ms/step - loss: 1.0705e-05\n",
      "Epoch 39/40\n",
      "630/630 [==============================] - 15s 24ms/step - loss: 1.0880e-05\n",
      "Epoch 40/40\n",
      "630/630 [==============================] - 15s 24ms/step - loss: 1.0170e-05\n"
     ]
    },
    {
     "data": {
      "text/plain": [
       "<keras.callbacks.History at 0x26a62f88c50>"
      ]
     },
     "execution_count": 256,
     "metadata": {},
     "output_type": "execute_result"
    }
   ],
   "source": [
    "model.fit(X_train,y_train,epochs=40,batch_size=64,verbose=1)"
   ]
  },
  {
   "cell_type": "code",
   "execution_count": 257,
   "metadata": {},
   "outputs": [],
   "source": [
    "model.save(\"BANKNIFY_11year_20min_qty_ltp.hdf5\")"
   ]
  },
  {
   "cell_type": "code",
   "execution_count": 258,
   "metadata": {},
   "outputs": [],
   "source": [
    "df33 = test_data['close']\n",
    "df44 = test_data['volume']"
   ]
  },
  {
   "cell_type": "code",
   "execution_count": 259,
   "metadata": {},
   "outputs": [
    {
     "ename": "FileNotFoundError",
     "evalue": "[Errno 2] No such file or directory: 'Train_20min_scale_ltp.pkl'",
     "output_type": "error",
     "traceback": [
      "\u001b[1;31m---------------------------------------------------------------------------\u001b[0m",
      "\u001b[1;31mFileNotFoundError\u001b[0m                         Traceback (most recent call last)",
      "\u001b[1;32m<ipython-input-259-d5e593843a5e>\u001b[0m in \u001b[0;36m<module>\u001b[1;34m\u001b[0m\n\u001b[0;32m      2\u001b[0m \u001b[1;32mfrom\u001b[0m \u001b[0msklearn\u001b[0m\u001b[1;33m.\u001b[0m\u001b[0mpreprocessing\u001b[0m \u001b[1;32mimport\u001b[0m \u001b[0mMinMaxScaler\u001b[0m\u001b[1;33m\u001b[0m\u001b[0m\n\u001b[0;32m      3\u001b[0m \u001b[1;33m\u001b[0m\u001b[0m\n\u001b[1;32m----> 4\u001b[1;33m \u001b[0mscaler\u001b[0m \u001b[1;33m=\u001b[0m \u001b[0mpickle\u001b[0m\u001b[1;33m.\u001b[0m\u001b[0mload\u001b[0m\u001b[1;33m(\u001b[0m\u001b[0mopen\u001b[0m\u001b[1;33m(\u001b[0m\u001b[1;34m\"Train_20min_scale_ltp.pkl\"\u001b[0m\u001b[1;33m,\u001b[0m \u001b[1;34m'rb'\u001b[0m\u001b[1;33m)\u001b[0m\u001b[1;33m)\u001b[0m\u001b[1;33m\u001b[0m\u001b[0m\n\u001b[0m\u001b[0;32m      5\u001b[0m \u001b[0mscaler1\u001b[0m \u001b[1;33m=\u001b[0m \u001b[0mpickle\u001b[0m\u001b[1;33m.\u001b[0m\u001b[0mload\u001b[0m\u001b[1;33m(\u001b[0m\u001b[0mopen\u001b[0m\u001b[1;33m(\u001b[0m\u001b[1;34m\"Train_20min_scale_ltq.pkl\"\u001b[0m\u001b[1;33m,\u001b[0m \u001b[1;34m'rb'\u001b[0m\u001b[1;33m)\u001b[0m\u001b[1;33m)\u001b[0m\u001b[1;33m\u001b[0m\u001b[0m\n\u001b[0;32m      6\u001b[0m \u001b[1;33m\u001b[0m\u001b[0m\n",
      "\u001b[1;31mFileNotFoundError\u001b[0m: [Errno 2] No such file or directory: 'Train_20min_scale_ltp.pkl'"
     ]
    }
   ],
   "source": [
    "import numpy as np\n",
    "from sklearn.preprocessing import MinMaxScaler\n",
    "\n",
    "scaler = pickle.load(open(\"Train_20min_scale_ltp.pkl\", 'rb'))\n",
    "scaler1 = pickle.load(open(\"Train_20min_scale_ltq.pkl\", 'rb'))\n",
    "\n",
    "df33 = df33.values\n",
    "df44 = df44.values\n",
    "\n",
    "df33 = df33.reshape((len(df33), 1))\n",
    "df44 = df44.reshape((len(df44), 1))\n",
    "\n",
    "df33_scaled = scaler.transform(df33)\n",
    "df44_scaled = scaler1.transform(df44)\n",
    "\n",
    "dataset_stacked_test = np.hstack((df33_scaled, df44_scaled))\n",
    "dataset_stacked_test.shape"
   ]
  },
  {
   "cell_type": "code",
   "execution_count": null,
   "metadata": {},
   "outputs": [],
   "source": [
    "X_test, y_test = to_supervised(dataset_stacked_test,15,1)\n",
    "print(X_test.shape), print(y_test.shape)"
   ]
  },
  {
   "cell_type": "code",
   "execution_count": null,
   "metadata": {
    "scrolled": true
   },
   "outputs": [],
   "source": [
    "model = tf.keras.models.load_model(\"BANKNIFY_11year_20min_qty_ltp.hdf5\")\n",
    "test_predict=model.predict(X_test)\n",
    "test_predict=scaler.inverse_transform(test_predict)\n",
    "test_predict"
   ]
  },
  {
   "cell_type": "code",
   "execution_count": null,
   "metadata": {},
   "outputs": [],
   "source": []
  }
 ],
 "metadata": {
  "colab": {
   "collapsed_sections": [],
   "name": "Training the model.ipynb",
   "provenance": []
  },
  "kernelspec": {
   "display_name": "Python 3 (ipykernel)",
   "language": "python",
   "name": "python3"
  },
  "language_info": {
   "codemirror_mode": {
    "name": "ipython",
    "version": 3
   },
   "file_extension": ".py",
   "mimetype": "text/x-python",
   "name": "python",
   "nbconvert_exporter": "python",
   "pygments_lexer": "ipython3",
   "version": "3.9.12"
  }
 },
 "nbformat": 4,
 "nbformat_minor": 1
}
